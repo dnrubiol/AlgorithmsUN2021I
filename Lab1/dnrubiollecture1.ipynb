{
  "nbformat": 4,
  "nbformat_minor": 0,
  "metadata": {
    "kernelspec": {
      "name": "python3",
      "display_name": "Python 3"
    },
    "colab": {
      "name": "dnrubiollecture1.ipynb",
      "provenance": [],
      "collapsed_sections": [],
      "toc_visible": true
    }
  },
  "cells": [
    {
      "cell_type": "markdown",
      "metadata": {
        "id": "hPP5kWeMqfMx"
      },
      "source": [
        "#Introduction to the Research Environment\n",
        "\n",
        "The research environment is powered by IPython notebooks, which allow one to perform a great deal of data analysis and statistical validation. We'll demonstrate a few simple techniques here."
      ]
    },
    {
      "cell_type": "markdown",
      "metadata": {
        "id": "e02iICm4qfM3"
      },
      "source": [
        "##Code Cells vs. Text Cells\n",
        "\n",
        "As you can see, each cell can be either code or text. To select between them, choose from the 'Cell Type' dropdown menu on the top left."
      ]
    },
    {
      "cell_type": "markdown",
      "metadata": {
        "id": "9mAirxKCqfM6"
      },
      "source": [
        "##Executing a Command\n",
        "\n",
        "A code cell will be evaluated when you press play, or when you press the shortcut, shift-enter. Evaluating a cell evaluates each line of code in sequence, and prints the results of the last line below the cell."
      ]
    },
    {
      "cell_type": "code",
      "metadata": {
        "id": "8lMQmX0rqfM7",
        "colab": {
          "base_uri": "https://localhost:8080/"
        },
        "outputId": "36056dfa-3181-4fd9-d364-99af0ccb35a9"
      },
      "source": [
        "2 + 2"
      ],
      "execution_count": 2,
      "outputs": [
        {
          "output_type": "execute_result",
          "data": {
            "text/plain": [
              "4"
            ]
          },
          "metadata": {
            "tags": []
          },
          "execution_count": 2
        }
      ]
    },
    {
      "cell_type": "markdown",
      "metadata": {
        "id": "u668yh8tqfM8"
      },
      "source": [
        "Sometimes there is no result to be printed, as is the case with assignment."
      ]
    },
    {
      "cell_type": "code",
      "metadata": {
        "collapsed": true,
        "id": "e4Ra4BcSqfM-"
      },
      "source": [
        "X = 2"
      ],
      "execution_count": null,
      "outputs": []
    },
    {
      "cell_type": "markdown",
      "metadata": {
        "id": "FRvdcHTDqfNB"
      },
      "source": [
        "Remember that only the result from the last line is printed."
      ]
    },
    {
      "cell_type": "code",
      "metadata": {
        "id": "xvcfzo-DqfNC",
        "colab": {
          "base_uri": "https://localhost:8080/"
        },
        "outputId": "7ee96edb-1501-4ebf-d804-643749e686e7"
      },
      "source": [
        "2 + 2\n",
        "3 + 3"
      ],
      "execution_count": 1,
      "outputs": [
        {
          "output_type": "execute_result",
          "data": {
            "text/plain": [
              "6"
            ]
          },
          "metadata": {
            "tags": []
          },
          "execution_count": 1
        }
      ]
    },
    {
      "cell_type": "markdown",
      "metadata": {
        "id": "2m62Q2KgqfNC"
      },
      "source": [
        "However, you can print whichever lines you want using the `print` statement."
      ]
    },
    {
      "cell_type": "code",
      "metadata": {
        "id": "IM5XNPJwqfND",
        "colab": {
          "base_uri": "https://localhost:8080/"
        },
        "outputId": "f754a57c-e116-4848-cd58-054eb1c3c2c6"
      },
      "source": [
        "print (2 + 2)\n",
        "3 + 3"
      ],
      "execution_count": 4,
      "outputs": [
        {
          "output_type": "stream",
          "text": [
            "4\n"
          ],
          "name": "stdout"
        },
        {
          "output_type": "execute_result",
          "data": {
            "text/plain": [
              "6"
            ]
          },
          "metadata": {
            "tags": []
          },
          "execution_count": 4
        }
      ]
    },
    {
      "cell_type": "markdown",
      "metadata": {
        "id": "-zG4Ln_PqfNG"
      },
      "source": [
        "##Knowing When a Cell is Running\n",
        "\n",
        "While a cell is running, a `[*]` will display on the left. When a cell has yet to be executed, `[ ]` will display. When it has been run, a number will display indicating the order in which it was run during the execution of the notebook `[5]`. Try on this cell and note it happening."
      ]
    },
    {
      "cell_type": "code",
      "metadata": {
        "id": "2EI0o08BqfNJ",
        "colab": {
          "base_uri": "https://localhost:8080/"
        },
        "outputId": "b08b0681-1cb9-46d5-9008-481fbe9a170c"
      },
      "source": [
        "#Take some time to run something\n",
        "c = 0\n",
        "for i in range(10000000):\n",
        "    c = c + i\n",
        "c"
      ],
      "execution_count": 9,
      "outputs": [
        {
          "output_type": "execute_result",
          "data": {
            "text/plain": [
              "49999995000000"
            ]
          },
          "metadata": {
            "tags": []
          },
          "execution_count": 9
        }
      ]
    },
    {
      "cell_type": "markdown",
      "metadata": {
        "id": "E-wJ7bqSqfNJ"
      },
      "source": [
        "##Importing Libraries\n",
        "\n",
        "The vast majority of the time, you'll want to use functions from pre-built libraries. You can't import every library on Quantopian due to security issues, but you can import most of the common scientific ones. Here I import numpy and pandas, the two most common and useful libraries in quant finance. I recommend copying this import statement to every new notebook.\n",
        "\n",
        "Notice that you can rename libraries to whatever you want after importing. The `as` statement allows this. Here we use `np` and `pd` as aliases for `numpy` and `pandas`. This is a very common aliasing and will be found in most code snippets around the web. The point behind this is to allow you to type fewer characters when you are frequently accessing these libraries."
      ]
    },
    {
      "cell_type": "code",
      "metadata": {
        "collapsed": true,
        "id": "JfWJU5cBqfNL"
      },
      "source": [
        "import numpy as np\n",
        "import pandas as pd\n",
        "\n",
        "# This is a plotting library for pretty pictures.\n",
        "import matplotlib.pyplot as plt"
      ],
      "execution_count": 13,
      "outputs": []
    },
    {
      "cell_type": "markdown",
      "metadata": {
        "id": "G5nrZqWXqfNM"
      },
      "source": [
        "##Tab Autocomplete\n",
        "\n",
        "Pressing tab will give you a list of IPython's best guesses for what you might want to type next. This is incredibly valuable and will save you a lot of time. If there is only one possible option for what you could type next, IPython will fill that in for you. Try pressing tab very frequently, it will seldom fill in anything you don't want, as if there is ambiguity a list will be shown. This is a great way to see what functions are available in a library.\n",
        "\n",
        "Try placing your cursor after the `.` and pressing tab."
      ]
    },
    {
      "cell_type": "code",
      "metadata": {
        "id": "B1rITqZ7qfNN"
      },
      "source": [
        "np.random.       "
      ],
      "execution_count": null,
      "outputs": []
    },
    {
      "cell_type": "markdown",
      "metadata": {
        "id": "DqKUGSb4qfNO"
      },
      "source": [
        "##Getting Documentation Help\n",
        "\n",
        "Placing a question mark after a function and executing that line of code will give you the documentation IPython has for that function. It's often best to do this in a new cell, as you avoid re-executing other code and running into bugs."
      ]
    },
    {
      "cell_type": "code",
      "metadata": {
        "collapsed": true,
        "id": "jmouvRxOqfNP"
      },
      "source": [
        "np.random.normal?"
      ],
      "execution_count": 14,
      "outputs": []
    },
    {
      "cell_type": "markdown",
      "metadata": {
        "id": "KBcdDHZxqfNQ"
      },
      "source": [
        "##Sampling\n",
        "\n",
        "We'll sample some random data using a function from `numpy`."
      ]
    },
    {
      "cell_type": "code",
      "metadata": {
        "id": "EI_j8fq8qfNR",
        "colab": {
          "base_uri": "https://localhost:8080/"
        },
        "outputId": "86330a8a-218b-400b-93e3-d05ffd006e4a"
      },
      "source": [
        "# Sample 100 points with a mean of 0 and an std of 1. This is a standard normal distribution.\n",
        "X = np.random.normal(0, 1, 100)\n",
        "print (X)"
      ],
      "execution_count": 17,
      "outputs": [
        {
          "output_type": "stream",
          "text": [
            "[ 1.05178031e+00 -3.87862212e-01  2.67816825e-01 -4.10502217e-01\n",
            "  9.04489663e-01  5.29767812e-03 -1.52666498e+00 -2.14689635e+00\n",
            " -3.22618024e-01  9.05489320e-01 -2.20412011e-01  1.75381239e+00\n",
            " -1.11700120e+00  1.50702432e-02 -2.55118420e-01  2.25661091e+00\n",
            "  1.88045017e+00 -1.77365139e+00 -1.39391311e+00 -1.35880105e-03\n",
            "  6.80587098e-01  2.81427694e-01 -2.04412708e-01  3.35090871e-01\n",
            " -3.40800837e-01  5.16079040e-01 -9.65756877e-01 -4.82132660e-01\n",
            "  4.92589357e-01 -2.05364227e-01 -3.46022707e-01  1.73126185e-01\n",
            "  6.14583708e-01  4.48485626e-01  4.04017458e-02 -4.48410189e-01\n",
            "  2.05081738e-01  1.14085809e-01  2.42744509e-01 -2.31693569e+00\n",
            " -1.62052138e+00 -1.19175879e+00  1.26174805e+00 -4.62848504e-01\n",
            " -4.80874918e-02  8.70273499e-02 -2.41382488e-01 -7.14494929e-01\n",
            "  8.28781249e-01 -6.55976403e-02 -1.19718190e+00 -1.95417066e-01\n",
            "  5.60017687e-01 -1.77772974e-01 -4.63606125e-01 -1.16753150e+00\n",
            " -3.48856343e-01  1.18166555e+00 -2.36205073e-01  8.06377996e-01\n",
            "  1.78753901e+00 -4.84197488e-01 -1.38153416e+00 -1.96973009e-01\n",
            "  1.16373985e+00  1.24590850e+00 -3.82332129e-01  4.10779372e-01\n",
            " -1.57285457e+00 -2.54781953e+00 -4.44070050e-01  1.33433111e+00\n",
            "  2.72901202e-01  8.33905362e-01 -1.12601586e+00  1.23802714e+00\n",
            " -3.30548814e-01  9.95776364e-01 -9.42245086e-01  6.19071991e-01\n",
            " -8.35541626e-01 -5.05684239e-01  2.93539782e-01 -5.54424100e-01\n",
            "  1.05891418e+00  2.09248630e+00 -1.20789301e+00 -4.21175121e-01\n",
            " -4.80987418e-01 -1.48741619e+00  2.00951937e+00 -5.67503851e-01\n",
            " -1.16625098e-01 -5.47958342e-01 -4.27500794e-01  1.12388406e+00\n",
            "  1.10802064e+00 -3.12171677e-01  3.09885396e-01 -6.15597857e-02]\n"
          ],
          "name": "stdout"
        }
      ]
    },
    {
      "cell_type": "markdown",
      "metadata": {
        "id": "hpTLevNGqfNR"
      },
      "source": [
        "##Plotting\n",
        "\n",
        "We can use the plotting library we imported as follows."
      ]
    },
    {
      "cell_type": "code",
      "metadata": {
        "id": "QYqGtqzoqfNR",
        "colab": {
          "base_uri": "https://localhost:8080/",
          "height": 284
        },
        "outputId": "a14d996d-e5a4-48e6-fddb-0eaa4c56f03e"
      },
      "source": [
        "plt.plot(X)"
      ],
      "execution_count": 18,
      "outputs": [
        {
          "output_type": "execute_result",
          "data": {
            "text/plain": [
              "[<matplotlib.lines.Line2D at 0x7f62584d8950>]"
            ]
          },
          "metadata": {
            "tags": []
          },
          "execution_count": 18
        },
        {
          "output_type": "display_data",
          "data": {
            "image/png": "[encoded data removed]",
            "text/plain": [
              "<Figure size 432x288 with 1 Axes>"
            ]
          },
          "metadata": {
            "tags": [],
            "needs_background": "light"
          }
        }
      ]
    },
    {
      "cell_type": "markdown",
      "metadata": {
        "id": "6N3OKPNSqfNS"
      },
      "source": [
        "###Squelching Line Output\n",
        "\n",
        "You might have noticed the annoying line of the form `[<matplotlib.lines.Line2D at 0x7f72fdbc1710>]` before the plots. This is because the `.plot` function actually produces output. Sometimes we wish not to display output, we can accomplish this with the semi-colon as follows."
      ]
    },
    {
      "cell_type": "code",
      "metadata": {
        "id": "9Lu8rBCVqfNT",
        "colab": {
          "base_uri": "https://localhost:8080/",
          "height": 265
        },
        "outputId": "0feea246-6bc3-4b31-eac1-8b1fe2173fc1"
      },
      "source": [
        "plt.plot(X);"
      ],
      "execution_count": 19,
      "outputs": [
        {
          "output_type": "display_data",
          "data": {
            "image/png": "[encoded data removed]",
            "text/plain": [
              "<Figure size 432x288 with 1 Axes>"
            ]
          },
          "metadata": {
            "tags": [],
            "needs_background": "light"
          }
        }
      ]
    },
    {
      "cell_type": "markdown",
      "metadata": {
        "id": "ZJtW7rP3qfNU"
      },
      "source": [
        "###Adding Axis Labels\n",
        "\n",
        "No self-respecting quant leaves a graph without labeled axes. Here are some commands to help with that."
      ]
    },
    {
      "cell_type": "code",
      "metadata": {
        "id": "AsJ29gFIqfNW",
        "colab": {
          "base_uri": "https://localhost:8080/",
          "height": 279
        },
        "outputId": "5fe77822-9d02-4ae5-8d17-62873d7fa1d5"
      },
      "source": [
        "X = np.random.normal(0, 1, 100)\n",
        "X2 = np.random.normal(0, 1, 100)\n",
        "\n",
        "plt.plot(X);\n",
        "plt.plot(X2);\n",
        "plt.xlabel('Time') # The data we generated is unitless, but don't forget units in general.\n",
        "plt.ylabel('Returns')\n",
        "plt.legend(['X', 'X2']);"
      ],
      "execution_count": 20,
      "outputs": [
        {
          "output_type": "display_data",
          "data": {
            "image/png": "[encoded data removed]",
            "text/plain": [
              "<Figure size 432x288 with 1 Axes>"
            ]
          },
          "metadata": {
            "tags": [],
            "needs_background": "light"
          }
        }
      ]
    },
    {
      "cell_type": "markdown",
      "metadata": {
        "id": "jL0opqfBqfNW"
      },
      "source": [
        "##Generating Statistics\n",
        "\n",
        "Let's use `numpy` to take some simple statistics."
      ]
    },
    {
      "cell_type": "code",
      "metadata": {
        "id": "WzZlhpeBqfNX",
        "colab": {
          "base_uri": "https://localhost:8080/"
        },
        "outputId": "aaa0a5b2-ed79-4f25-f1d7-027d1054e509"
      },
      "source": [
        "np.mean(X)"
      ],
      "execution_count": 21,
      "outputs": [
        {
          "output_type": "execute_result",
          "data": {
            "text/plain": [
              "0.030946101988923874"
            ]
          },
          "metadata": {
            "tags": []
          },
          "execution_count": 21
        }
      ]
    },
    {
      "cell_type": "code",
      "metadata": {
        "id": "tJ_EC3cpqfNX",
        "colab": {
          "base_uri": "https://localhost:8080/"
        },
        "outputId": "f8791dad-99dd-452a-9f56-205eb5d9d74e"
      },
      "source": [
        "np.std(X)"
      ],
      "execution_count": 22,
      "outputs": [
        {
          "output_type": "execute_result",
          "data": {
            "text/plain": [
              "1.015958659427508"
            ]
          },
          "metadata": {
            "tags": []
          },
          "execution_count": 22
        }
      ]
    },
    {
      "cell_type": "markdown",
      "metadata": {
        "id": "rNIDvS7wqfNX"
      },
      "source": [
        "##Getting Real Pricing Data\n",
        "\n",
        "Randomly sampled data can be great for testing ideas, but let's get some real data. We can use `get_pricing` to do that. You can use the `?` syntax as discussed above to get more information on `get_pricing`'s arguments."
      ]
    },
    {
      "cell_type": "code",
      "metadata": {
        "id": "PfYYnGnLqfNX",
        "colab": {
          "base_uri": "https://localhost:8080/",
          "height": 423
        },
        "outputId": "b0c1d0f3-b700-4b35-93ec-8c7453f172a0"
      },
      "source": [
        "import pandas as pd\r\n",
        "data = pd.read_csv('MSFT.csv')\r\n",
        "data"
      ],
      "execution_count": 27,
      "outputs": [
        {
          "output_type": "execute_result",
          "data": {
            "text/html": [
              "<div>\n",
              "<style scoped>\n",
              "    .dataframe tbody tr th:only-of-type {\n",
              "        vertical-align: middle;\n",
              "    }\n",
              "\n",
              "    .dataframe tbody tr th {\n",
              "        vertical-align: top;\n",
              "    }\n",
              "\n",
              "    .dataframe thead th {\n",
              "        text-align: right;\n",
              "    }\n",
              "</style>\n",
              "<table border=\"1\" class=\"dataframe\">\n",
              "  <thead>\n",
              "    <tr style=\"text-align: right;\">\n",
              "      <th></th>\n",
              "      <th>Date</th>\n",
              "      <th>Open</th>\n",
              "      <th>High</th>\n",
              "      <th>Low</th>\n",
              "      <th>Close</th>\n",
              "      <th>Adj Close</th>\n",
              "      <th>Volume</th>\n",
              "    </tr>\n",
              "  </thead>\n",
              "  <tbody>\n",
              "    <tr>\n",
              "      <th>0</th>\n",
              "      <td>2020-03-05</td>\n",
              "      <td>166.050003</td>\n",
              "      <td>170.869995</td>\n",
              "      <td>165.690002</td>\n",
              "      <td>166.270004</td>\n",
              "      <td>164.597351</td>\n",
              "      <td>47817300</td>\n",
              "    </tr>\n",
              "    <tr>\n",
              "      <th>1</th>\n",
              "      <td>2020-03-06</td>\n",
              "      <td>162.610001</td>\n",
              "      <td>163.110001</td>\n",
              "      <td>156.000000</td>\n",
              "      <td>161.570007</td>\n",
              "      <td>159.944641</td>\n",
              "      <td>72821100</td>\n",
              "    </tr>\n",
              "    <tr>\n",
              "      <th>2</th>\n",
              "      <td>2020-03-09</td>\n",
              "      <td>151.000000</td>\n",
              "      <td>157.750000</td>\n",
              "      <td>150.000000</td>\n",
              "      <td>150.619995</td>\n",
              "      <td>149.104797</td>\n",
              "      <td>70419300</td>\n",
              "    </tr>\n",
              "    <tr>\n",
              "      <th>3</th>\n",
              "      <td>2020-03-10</td>\n",
              "      <td>158.160004</td>\n",
              "      <td>161.029999</td>\n",
              "      <td>152.580002</td>\n",
              "      <td>160.919998</td>\n",
              "      <td>159.301178</td>\n",
              "      <td>65354400</td>\n",
              "    </tr>\n",
              "    <tr>\n",
              "      <th>4</th>\n",
              "      <td>2020-03-11</td>\n",
              "      <td>157.130005</td>\n",
              "      <td>157.699997</td>\n",
              "      <td>151.149994</td>\n",
              "      <td>153.630005</td>\n",
              "      <td>152.084518</td>\n",
              "      <td>56371600</td>\n",
              "    </tr>\n",
              "    <tr>\n",
              "      <th>...</th>\n",
              "      <td>...</td>\n",
              "      <td>...</td>\n",
              "      <td>...</td>\n",
              "      <td>...</td>\n",
              "      <td>...</td>\n",
              "      <td>...</td>\n",
              "      <td>...</td>\n",
              "    </tr>\n",
              "    <tr>\n",
              "      <th>247</th>\n",
              "      <td>2021-02-26</td>\n",
              "      <td>231.529999</td>\n",
              "      <td>235.369995</td>\n",
              "      <td>229.539993</td>\n",
              "      <td>232.380005</td>\n",
              "      <td>232.380005</td>\n",
              "      <td>37811200</td>\n",
              "    </tr>\n",
              "    <tr>\n",
              "      <th>248</th>\n",
              "      <td>2021-03-01</td>\n",
              "      <td>235.899994</td>\n",
              "      <td>237.470001</td>\n",
              "      <td>233.149994</td>\n",
              "      <td>236.940002</td>\n",
              "      <td>236.940002</td>\n",
              "      <td>25324000</td>\n",
              "    </tr>\n",
              "    <tr>\n",
              "      <th>249</th>\n",
              "      <td>2021-03-02</td>\n",
              "      <td>237.009995</td>\n",
              "      <td>237.300003</td>\n",
              "      <td>233.449997</td>\n",
              "      <td>233.869995</td>\n",
              "      <td>233.869995</td>\n",
              "      <td>22785500</td>\n",
              "    </tr>\n",
              "    <tr>\n",
              "      <th>250</th>\n",
              "      <td>2021-03-03</td>\n",
              "      <td>232.160004</td>\n",
              "      <td>233.580002</td>\n",
              "      <td>227.259995</td>\n",
              "      <td>227.559998</td>\n",
              "      <td>227.559998</td>\n",
              "      <td>33950400</td>\n",
              "    </tr>\n",
              "    <tr>\n",
              "      <th>251</th>\n",
              "      <td>2021-03-04</td>\n",
              "      <td>226.740005</td>\n",
              "      <td>232.490005</td>\n",
              "      <td>224.259995</td>\n",
              "      <td>226.729996</td>\n",
              "      <td>226.729996</td>\n",
              "      <td>44584200</td>\n",
              "    </tr>\n",
              "  </tbody>\n",
              "</table>\n",
              "<p>252 rows × 7 columns</p>\n",
              "</div>"
            ],
            "text/plain": [
              "           Date        Open        High  ...       Close   Adj Close    Volume\n",
              "0    2020-03-05  166.050003  170.869995  ...  166.270004  164.597351  47817300\n",
              "1    2020-03-06  162.610001  163.110001  ...  161.570007  159.944641  72821100\n",
              "2    2020-03-09  151.000000  157.750000  ...  150.619995  149.104797  70419300\n",
              "3    2020-03-10  158.160004  161.029999  ...  160.919998  159.301178  65354400\n",
              "4    2020-03-11  157.130005  157.699997  ...  153.630005  152.084518  56371600\n",
              "..          ...         ...         ...  ...         ...         ...       ...\n",
              "247  2021-02-26  231.529999  235.369995  ...  232.380005  232.380005  37811200\n",
              "248  2021-03-01  235.899994  237.470001  ...  236.940002  236.940002  25324000\n",
              "249  2021-03-02  237.009995  237.300003  ...  233.869995  233.869995  22785500\n",
              "250  2021-03-03  232.160004  233.580002  ...  227.559998  227.559998  33950400\n",
              "251  2021-03-04  226.740005  232.490005  ...  226.729996  226.729996  44584200\n",
              "\n",
              "[252 rows x 7 columns]"
            ]
          },
          "metadata": {
            "tags": []
          },
          "execution_count": 27
        }
      ]
    },
    {
      "cell_type": "markdown",
      "metadata": {
        "id": "pzrVyvUqqfNZ"
      },
      "source": [
        "Our data is now a dataframe. You can see the datetime index and the colums with different pricing data."
      ]
    },
    {
      "cell_type": "code",
      "metadata": {
        "id": "IEd8XfWJqfNZ"
      },
      "source": [
        "data"
      ],
      "execution_count": null,
      "outputs": []
    },
    {
      "cell_type": "markdown",
      "metadata": {
        "id": "PL0y8ayvqfNZ"
      },
      "source": [
        "This is a pandas dataframe, so we can index in to just get price like this. For more info on pandas, please [click here](http://pandas.pydata.org/pandas-docs/stable/10min.html)."
      ]
    },
    {
      "cell_type": "code",
      "metadata": {
        "id": "5tR6AMvZqfNa"
      },
      "source": [
        "X = data['Close']"
      ],
      "execution_count": 34,
      "outputs": []
    },
    {
      "cell_type": "code",
      "metadata": {
        "colab": {
          "base_uri": "https://localhost:8080/"
        },
        "id": "altKsZxAF5hE",
        "outputId": "a223db7f-1ad4-4655-8d5e-b299bd748047"
      },
      "source": [
        "X"
      ],
      "execution_count": 32,
      "outputs": [
        {
          "output_type": "execute_result",
          "data": {
            "text/plain": [
              "0      166.270004\n",
              "1      161.570007\n",
              "2      150.619995\n",
              "3      160.919998\n",
              "4      153.630005\n",
              "          ...    \n",
              "247    232.380005\n",
              "248    236.940002\n",
              "249    233.869995\n",
              "250    227.559998\n",
              "251    226.729996\n",
              "Name: Close, Length: 252, dtype: float64"
            ]
          },
          "metadata": {
            "tags": []
          },
          "execution_count": 32
        }
      ]
    },
    {
      "cell_type": "markdown",
      "metadata": {
        "id": "uA2Tm1eVqfNa"
      },
      "source": [
        "Because there is now also date information in our data, we provide two series to `.plot`. `X.index` gives us the datetime index, and `X.values` gives us the pricing values. These are used as the X and Y coordinates to make a graph."
      ]
    },
    {
      "cell_type": "code",
      "metadata": {
        "id": "0kmkya0MqfNb",
        "colab": {
          "base_uri": "https://localhost:8080/",
          "height": 265
        },
        "outputId": "a9612519-3801-42b3-80f2-3f58e7406cbb"
      },
      "source": [
        "plt.plot(X.index, X.values)\n",
        "plt.ylabel('Name(Close)')\n",
        "plt.legend(['MSFT']);"
      ],
      "execution_count": 35,
      "outputs": [
        {
          "output_type": "display_data",
          "data": {
            "image/png": "[encoded data removed]",
            "text/plain": [
              "<Figure size 432x288 with 1 Axes>"
            ]
          },
          "metadata": {
            "tags": [],
            "needs_background": "light"
          }
        }
      ]
    },
    {
      "cell_type": "markdown",
      "metadata": {
        "id": "OFYbXxvDqfNc"
      },
      "source": [
        "We can get statistics again on real data."
      ]
    },
    {
      "cell_type": "code",
      "metadata": {
        "id": "g64UAYdMqfNc",
        "colab": {
          "base_uri": "https://localhost:8080/"
        },
        "outputId": "f64c5fbc-4a13-4b25-908e-e344708d813e"
      },
      "source": [
        "np.mean(X)"
      ],
      "execution_count": 36,
      "outputs": [
        {
          "output_type": "execute_result",
          "data": {
            "text/plain": [
              "203.14289680158737"
            ]
          },
          "metadata": {
            "tags": []
          },
          "execution_count": 36
        }
      ]
    },
    {
      "cell_type": "code",
      "metadata": {
        "id": "oDMHEaf7qfNc",
        "colab": {
          "base_uri": "https://localhost:8080/"
        },
        "outputId": "ebb44240-9f07-44c2-88bb-15c19354fd77"
      },
      "source": [
        "np.std(X)"
      ],
      "execution_count": 37,
      "outputs": [
        {
          "output_type": "execute_result",
          "data": {
            "text/plain": [
              "24.22398668613218"
            ]
          },
          "metadata": {
            "tags": []
          },
          "execution_count": 37
        }
      ]
    },
    {
      "cell_type": "markdown",
      "metadata": {
        "id": "YPtmJYAgqfNd"
      },
      "source": [
        "##Getting Returns from Prices\n",
        "\n",
        "We can use the `pct_change` function to get returns. Notice how we drop the first element after doing this, as it will be `NaN` (nothing -> something results in a NaN percent change)."
      ]
    },
    {
      "cell_type": "code",
      "metadata": {
        "id": "yNMnqPsrqfNd"
      },
      "source": [
        "R = X.pct_change()[1:]"
      ],
      "execution_count": 39,
      "outputs": []
    },
    {
      "cell_type": "markdown",
      "metadata": {
        "id": "NAAEUkjBqfNe"
      },
      "source": [
        "We can plot the returns distribution as a histogram."
      ]
    },
    {
      "cell_type": "code",
      "metadata": {
        "id": "TB9CYO10qfNf",
        "colab": {
          "base_uri": "https://localhost:8080/",
          "height": 279
        },
        "outputId": "d85a177f-2c27-4b4f-c6c5-82a701a8413d"
      },
      "source": [
        "plt.hist(R, bins=20)\n",
        "plt.xlabel('Return')\n",
        "plt.ylabel('Frequency')\n",
        "plt.legend(['MSFT Returns']);"
      ],
      "execution_count": 40,
      "outputs": [
        {
          "output_type": "display_data",
          "data": {
            "image/png": "[encoded data removed]",
            "text/plain": [
              "<Figure size 432x288 with 1 Axes>"
            ]
          },
          "metadata": {
            "tags": [],
            "needs_background": "light"
          }
        }
      ]
    },
    {
      "cell_type": "markdown",
      "metadata": {
        "id": "T99Hh2U9qfNg"
      },
      "source": [
        "Get statistics again."
      ]
    },
    {
      "cell_type": "code",
      "metadata": {
        "id": "K20Otf3zqfNg",
        "colab": {
          "base_uri": "https://localhost:8080/"
        },
        "outputId": "a8347982-57df-4ab6-84c1-bf73061ff8df"
      },
      "source": [
        "np.mean(R)"
      ],
      "execution_count": 41,
      "outputs": [
        {
          "output_type": "execute_result",
          "data": {
            "text/plain": [
              "0.001592370856962389"
            ]
          },
          "metadata": {
            "tags": []
          },
          "execution_count": 41
        }
      ]
    },
    {
      "cell_type": "code",
      "metadata": {
        "id": "4U9SuDTIqfNg",
        "colab": {
          "base_uri": "https://localhost:8080/"
        },
        "outputId": "2cd076de-6171-46a3-e4c9-064074671e34"
      },
      "source": [
        "np.std(R)"
      ],
      "execution_count": 42,
      "outputs": [
        {
          "output_type": "execute_result",
          "data": {
            "text/plain": [
              "0.026653106899795734"
            ]
          },
          "metadata": {
            "tags": []
          },
          "execution_count": 42
        }
      ]
    },
    {
      "cell_type": "markdown",
      "metadata": {
        "id": "cOlDtlJLqfNh"
      },
      "source": [
        "Now let's go backwards and generate data out of a normal distribution using the statistics we estimated from Microsoft's returns. We'll see that we have good reason to suspect Microsoft's returns may not be normal, as the resulting normal distribution looks far different."
      ]
    },
    {
      "cell_type": "code",
      "metadata": {
        "id": "JYBUMNkFqfNi",
        "colab": {
          "base_uri": "https://localhost:8080/",
          "height": 279
        },
        "outputId": "9509d066-2652-4799-df7a-831b962099ed"
      },
      "source": [
        "plt.hist(np.random.normal(np.mean(R), np.std(R), 10000), bins=20)\n",
        "plt.xlabel('Return')\n",
        "plt.ylabel('Frequency')\n",
        "plt.legend(['Normally Distributed Returns']);"
      ],
      "execution_count": 43,
      "outputs": [
        {
          "output_type": "display_data",
          "data": {
            "image/png": "[encoded data removed]",
            "text/plain": [
              "<Figure size 432x288 with 1 Axes>"
            ]
          },
          "metadata": {
            "tags": [],
            "needs_background": "light"
          }
        }
      ]
    },
    {
      "cell_type": "markdown",
      "metadata": {
        "id": "6xQCOuHgqfNi"
      },
      "source": [
        "##Generating a Moving Average\n",
        "\n",
        "`pandas` has some nice tools to allow us to generate rolling statistics. Here's an example. Notice how there's no moving average for the first 60 days, as we don't have 60 days of data on which to generate the statistic."
      ]
    },
    {
      "cell_type": "code",
      "metadata": {
        "id": "Q01bo3HjqfNk",
        "colab": {
          "base_uri": "https://localhost:8080/",
          "height": 265
        },
        "outputId": "3e4833ac-199d-43c0-f88f-080a22c05a42"
      },
      "source": [
        "# Take the average of the last 60 days at each timepoint.\n",
        "MAVG = pd.DataFrame.rolling(X, window=60).mean()\n",
        "plt.plot(X.index, X.values)\n",
        "plt.plot(MAVG.index, MAVG.values)\n",
        "plt.ylabel('Price')\n",
        "plt.legend(['MSFT', '60-day MAVG']);"
      ],
      "execution_count": 45,
      "outputs": [
        {
          "output_type": "display_data",
          "data": {
            "image/png": "[encoded data removed]",
            "text/plain": [
              "<Figure size 432x288 with 1 Axes>"
            ]
          },
          "metadata": {
            "tags": [],
            "needs_background": "light"
          }
        }
      ]
    },
    {
      "cell_type": "markdown",
      "metadata": {
        "id": "j57gwM_LqfNl"
      },
      "source": [
        "This presentation is for informational purposes only and does not constitute an offer to sell, a solicitation to buy, or a recommendation for any security; nor does it constitute an offer to provide investment advisory or other services by Quantopian, Inc. (\"Quantopian\"). Nothing contained herein constitutes investment advice or offers any opinion with respect to the suitability of any security, and any views expressed herein should not be taken as advice to buy, sell, or hold any security or as an endorsement of any security or company. In preparing the information contained herein, Quantopian, Inc. has not taken into account the investment needs, objectives, and financial circumstances of any particular investor. Any views expressed and data illustrated herein were prepared based upon information, believed to be reliable, available to Quantopian, Inc. at the time of publication. Quantopian makes no guarantees as to their accuracy or completeness. All information is subject to change and may quickly become unreliable for various reasons, including changes in market conditions or economic circumstances."
      ]
    }
  ]
}