{
  "nbformat": 4,
  "nbformat_minor": 0,
  "metadata": {
    "colab": {
      "name": "dnrubiol_tutorial8.ipynb",
      "provenance": []
    },
    "kernelspec": {
      "name": "python3",
      "display_name": "Python 3"
    },
    "language_info": {
      "name": "python"
    }
  },
  "cells": [
    {
      "cell_type": "markdown",
      "metadata": {
        "id": "fD_IUFbZs2co"
      },
      "source": [
        "#**Introduction to Financial Python**"
      ]
    },
    {
      "cell_type": "markdown",
      "metadata": {
        "id": "TOrnIioYs4I-"
      },
      "source": [
        "##Confidence Interval and Hypothesis Testing"
      ]
    },
    {
      "cell_type": "markdown",
      "metadata": {
        "id": "8Tpot-axs6nR"
      },
      "source": [
        "###**Introduction**"
      ]
    },
    {
      "cell_type": "markdown",
      "metadata": {
        "id": "ugo7wN8_tBCF"
      },
      "source": [
        " In the last chapter we discussed random variables and random distributions. Now we are going to use the distributions we learned to test our hypothesis and also to model the financial data. When building a trading strategy, it's essential to do some research. However, you won't be able to test your idea using all the data, because it's infinity. You can only use a sample to do your experiment. That's why we need to understand the difference between population and sample, and then use confidence interval to test our hypothesis.\n",
        "\n",
        "As we mentioned before, both mean and standard deviation are point estimation, and they can be deceiving because sample means are different from population means. Financial data is generated every day now and in the future, thus even though we can use all the data available, it's still just a sample. This is why we need to use confidence interval to attempt to determine how accurate our sample mean estimation is.\n"
      ]
    },
    {
      "cell_type": "markdown",
      "metadata": {
        "id": "JPd2h2q5tC1R"
      },
      "source": [
        "###**Confidence Interval**"
      ]
    },
    {
      "cell_type": "markdown",
      "metadata": {
        "id": "fpjszrfZtFP0"
      },
      "source": [
        "**Sample Error**"
      ]
    },
    {
      "cell_type": "markdown",
      "metadata": {
        "id": "hDA0wymZtG-6"
      },
      "source": [
        "Let's use the daily return on S&P 500 index from Aug 2010 to present is our population. If we take the recent 10 daily returns to calculate the mean, will it be the same as the population mean? How about increasing the sample size to 1000? "
      ]
    },
    {
      "cell_type": "code",
      "metadata": {
        "colab": {
          "base_uri": "https://localhost:8080/"
        },
        "id": "EntcMkOAuXl8",
        "outputId": "217b03e6-b9a0-4a92-b91d-6a3d6625ea9c"
      },
      "source": [
        "!pip install --upgrade quandl"
      ],
      "execution_count": 3,
      "outputs": [
        {
          "output_type": "stream",
          "text": [
            "Collecting quandl\n",
            "  Downloading https://files.pythonhosted.org/packages/8b/2b/feefb36015beaecc5c0f9f2533e815b409621d9fa7b50b2aac621796f828/Quandl-3.6.1-py2.py3-none-any.whl\n",
            "Requirement already satisfied, skipping upgrade: python-dateutil in /usr/local/lib/python3.7/dist-packages (from quandl) (2.8.1)\n",
            "Requirement already satisfied, skipping upgrade: requests>=2.7.0 in /usr/local/lib/python3.7/dist-packages (from quandl) (2.23.0)\n",
            "Requirement already satisfied, skipping upgrade: numpy>=1.8 in /usr/local/lib/python3.7/dist-packages (from quandl) (1.19.5)\n",
            "Requirement already satisfied, skipping upgrade: more-itertools in /usr/local/lib/python3.7/dist-packages (from quandl) (8.7.0)\n",
            "Requirement already satisfied, skipping upgrade: six in /usr/local/lib/python3.7/dist-packages (from quandl) (1.15.0)\n",
            "Requirement already satisfied, skipping upgrade: pandas>=0.14 in /usr/local/lib/python3.7/dist-packages (from quandl) (1.1.5)\n",
            "Collecting inflection>=0.3.1\n",
            "  Downloading https://files.pythonhosted.org/packages/59/91/aa6bde563e0085a02a435aa99b49ef75b0a4b062635e606dab23ce18d720/inflection-0.5.1-py2.py3-none-any.whl\n",
            "Requirement already satisfied, skipping upgrade: idna<3,>=2.5 in /usr/local/lib/python3.7/dist-packages (from requests>=2.7.0->quandl) (2.10)\n",
            "Requirement already satisfied, skipping upgrade: certifi>=2017.4.17 in /usr/local/lib/python3.7/dist-packages (from requests>=2.7.0->quandl) (2020.12.5)\n",
            "Requirement already satisfied, skipping upgrade: chardet<4,>=3.0.2 in /usr/local/lib/python3.7/dist-packages (from requests>=2.7.0->quandl) (3.0.4)\n",
            "Requirement already satisfied, skipping upgrade: urllib3!=1.25.0,!=1.25.1,<1.26,>=1.21.1 in /usr/local/lib/python3.7/dist-packages (from requests>=2.7.0->quandl) (1.24.3)\n",
            "Requirement already satisfied, skipping upgrade: pytz>=2017.2 in /usr/local/lib/python3.7/dist-packages (from pandas>=0.14->quandl) (2018.9)\n",
            "Installing collected packages: inflection, quandl\n",
            "Successfully installed inflection-0.5.1 quandl-3.6.1\n"
          ],
          "name": "stdout"
        }
      ]
    },
    {
      "cell_type": "code",
      "metadata": {
        "id": "WqZ1sIUMtI1s"
      },
      "source": [
        "import matplotlib.pyplot as plt\n",
        "import numpy as np\n",
        "import pandas as pd\n",
        "import quandl\n",
        "\n",
        "spy_table = quandl.get('NSE/ZEEL')\n",
        "spy_total = spy_table[['Close']]\n",
        "spy_log_return = np.log(spy_total['Close']).diff().dropna()"
      ],
      "execution_count": 5,
      "outputs": []
    },
    {
      "cell_type": "code",
      "metadata": {
        "colab": {
          "base_uri": "https://localhost:8080/"
        },
        "id": "ucWHWrD1u-A4",
        "outputId": "9d1560ca-19da-432b-90e8-df1c74da6a21"
      },
      "source": [
        "print('Population mean:', np.mean(spy_log_return))"
      ],
      "execution_count": 6,
      "outputs": [
        {
          "output_type": "stream",
          "text": [
            "Population mean: 0.00023116587873025783\n"
          ],
          "name": "stdout"
        }
      ]
    },
    {
      "cell_type": "code",
      "metadata": {
        "colab": {
          "base_uri": "https://localhost:8080/"
        },
        "id": "8F29gp3MvAlf",
        "outputId": "ec57d065-ae37-4ccd-8d4e-9417276bfa1b"
      },
      "source": [
        "print('Population standard deviation:',np.std(spy_log_return))"
      ],
      "execution_count": 7,
      "outputs": [
        {
          "output_type": "stream",
          "text": [
            "Population standard deviation: 0.026974035369108414\n"
          ],
          "name": "stdout"
        }
      ]
    },
    {
      "cell_type": "markdown",
      "metadata": {
        "id": "9xO5dzScvCZR"
      },
      "source": [
        "Now let's check the recent 10 days sample and recent 1000 days sample:"
      ]
    },
    {
      "cell_type": "code",
      "metadata": {
        "colab": {
          "base_uri": "https://localhost:8080/"
        },
        "id": "6gbDpSyfvEGv",
        "outputId": "78f167e6-52b0-4647-ca4f-d22b17b34721"
      },
      "source": [
        "print('10 days sample returns:', np.mean(spy_log_return.tail(10)))"
      ],
      "execution_count": 8,
      "outputs": [
        {
          "output_type": "stream",
          "text": [
            "10 days sample returns: 0.00043201276824342825\n"
          ],
          "name": "stdout"
        }
      ]
    },
    {
      "cell_type": "code",
      "metadata": {
        "colab": {
          "base_uri": "https://localhost:8080/"
        },
        "id": "EfYzw8MhvI3f",
        "outputId": "f7ae8193-b1b2-4550-8b47-e26f235d6cd1"
      },
      "source": [
        "print('10 days sample standard deviation:', np.std(spy_log_return.tail(10)))"
      ],
      "execution_count": 9,
      "outputs": [
        {
          "output_type": "stream",
          "text": [
            "10 days sample standard deviation: 0.02248722069250859\n"
          ],
          "name": "stdout"
        }
      ]
    },
    {
      "cell_type": "code",
      "metadata": {
        "colab": {
          "base_uri": "https://localhost:8080/"
        },
        "id": "Wb7gcO8bvMAO",
        "outputId": "9e5cef56-a4d0-48e0-81a7-80e0e90987c6"
      },
      "source": [
        "print('1000 days sample returns:', np.mean(spy_log_return.tail(1000)))"
      ],
      "execution_count": 10,
      "outputs": [
        {
          "output_type": "stream",
          "text": [
            "1000 days sample returns: 0.0001968461876870613\n"
          ],
          "name": "stdout"
        }
      ]
    },
    {
      "cell_type": "code",
      "metadata": {
        "colab": {
          "base_uri": "https://localhost:8080/"
        },
        "id": "cfuwCtk9vN0z",
        "outputId": "4e967878-aa4d-481d-ceea-2d12d526c37e"
      },
      "source": [
        "print('1000 days sample standard deviation:', np.std(spy_log_return.tail(1000)))"
      ],
      "execution_count": 11,
      "outputs": [
        {
          "output_type": "stream",
          "text": [
            "1000 days sample standard deviation: 0.017395580496535154\n"
          ],
          "name": "stdout"
        }
      ]
    },
    {
      "cell_type": "markdown",
      "metadata": {
        "id": "pq09IagjvPpu"
      },
      "source": [
        "As we expected, the two samples has different means and variances. "
      ]
    },
    {
      "cell_type": "markdown",
      "metadata": {
        "id": "GDLDYSGKvRO3"
      },
      "source": [
        "**Confidence Interval**"
      ]
    },
    {
      "cell_type": "markdown",
      "metadata": {
        "id": "cVLWugSUvTsK"
      },
      "source": [
        "In order to estimate the range of population mean, we define standard error of the mean as follows: "
      ]
    },
    {
      "cell_type": "markdown",
      "metadata": {
        "id": "idbe1WQNvVb3"
      },
      "source": [
        "$$ SE = \\frac{\\sigma}{\\sqrt{n}} $$"
      ]
    },
    {
      "cell_type": "markdown",
      "metadata": {
        "id": "0jSGJ244vd8P"
      },
      "source": [
        "Where σ is the sample standard deviation and n\n",
        "\n",
        "is the sample size.\n",
        "\n",
        "Generally, if we want to estimate an interval of the population so that 95% of the time the interval will contain the population mean, the interval is calculated as: "
      ]
    },
    {
      "cell_type": "markdown",
      "metadata": {
        "id": "2KTMW1mhvgN4"
      },
      "source": [
        "$$ (\\mu-1.96*SE,\\mu+1.96*SE) $$"
      ]
    },
    {
      "cell_type": "markdown",
      "metadata": {
        "id": "d_B3BoK1vrH_"
      },
      "source": [
        "Where μ\n",
        "\n",
        "is the sample mean and SE is the standard error.\n",
        "\n",
        "This interval is called confidence interval. We usually use 1.96 to calculate a 95% confidence interval because we assume that the sample mean follows normal distribution. We will cover this in detail later. Let's try to calculate the confidence interval using the samples above: "
      ]
    },
    {
      "cell_type": "code",
      "metadata": {
        "id": "mpMhE0Tpvtk_"
      },
      "source": [
        "#apply the formula above to calculate confidence interval\n",
        "bottom_1 = np.mean(spy_log_return.tail(10))-1.96*np.std(spy_log_return.tail(10))/(np.sqrt(len((spy_log_return.tail(10)))))\n",
        "upper_1 = np.mean(spy_log_return.tail(10))+1.96*np.std(spy_log_return.tail(10))/(np.sqrt(len((spy_log_return.tail(10)))))\n",
        "bottom_2 = np.mean(spy_log_return.tail(1000))-1.96*np.std(spy_log_return.tail(1000))/(np.sqrt(len((spy_log_return.tail(1000)))))\n",
        "upper_2 = np.mean(spy_log_return.tail(1000))+1.96*np.std(spy_log_return.tail(1000))/(np.sqrt(len((spy_log_return.tail(1000)))))"
      ],
      "execution_count": 13,
      "outputs": []
    },
    {
      "cell_type": "code",
      "metadata": {
        "colab": {
          "base_uri": "https://localhost:8080/"
        },
        "id": "NPmdm7Liv0GH",
        "outputId": "d8f0ab7f-b5e8-4c73-e45b-0b88f7ed0f91"
      },
      "source": [
        "#print the outcomes\n",
        "print('10 days 95% confidence inverval:', (bottom_1,upper_1))"
      ],
      "execution_count": 14,
      "outputs": [
        {
          "output_type": "stream",
          "text": [
            "10 days 95% confidence inverval: (-0.013505711016254994, 0.01436973655274185)\n"
          ],
          "name": "stdout"
        }
      ]
    },
    {
      "cell_type": "code",
      "metadata": {
        "colab": {
          "base_uri": "https://localhost:8080/"
        },
        "id": "xfy--YBNv5hp",
        "outputId": "b65508a5-1903-4e52-a701-a60f708107c2"
      },
      "source": [
        "print('1000 days 95% confidence inverval:', (bottom_2,upper_2))"
      ],
      "execution_count": 15,
      "outputs": [
        {
          "output_type": "stream",
          "text": [
            "1000 days 95% confidence inverval: (-0.0008813430618740748, 0.0012750354372481974)\n"
          ],
          "name": "stdout"
        }
      ]
    },
    {
      "cell_type": "markdown",
      "metadata": {
        "id": "BwNd5V7Av8XZ"
      },
      "source": [
        "As we can see, the 95% confidence interval became much narrower if we increase the sample size from 10 to 1000. Imagine that if N goes positive infinite, then we have limn→∞σn√=0. The confidence interval would become a certain value, which is the sample mean! "
      ]
    },
    {
      "cell_type": "markdown",
      "metadata": {
        "id": "LtwGSUOpv9N5"
      },
      "source": [
        "**Confidence Interval of Normal Distribution**"
      ]
    },
    {
      "cell_type": "markdown",
      "metadata": {
        "id": "44AO7UozwAXe"
      },
      "source": [
        "Normal Distribution is so commonly used that we should be able to remember some critical values of it. Specifically, we usually use 90%, 95% and 99% as the confidence level of a confidence interval. The critical values for these three confidence levels are 1.64, 1.96, and 2.32 respectively. in other words: "
      ]
    },
    {
      "cell_type": "markdown",
      "metadata": {
        "id": "iaOrigEkwETy"
      },
      "source": [
        "$$ \\%90upperabnd = \\mu+1.64*SE $$\n",
        "$$ \\%90lowerband = \\mu+1.64*SE $$"
      ]
    },
    {
      "cell_type": "markdown",
      "metadata": {
        "id": "36Cobj3YxNDC"
      },
      "source": [
        "The same for other confidence intervals. It's also important to remember the famous 'Three sigma rule' or '68-95-99.7' rule associated with normal distribution. This is used to remember the confidence level of the intervals with a width of two, four and six standard deviation. Mathematically: "
      ]
    },
    {
      "cell_type": "markdown",
      "metadata": {
        "id": "PptVU8M5xOlf"
      },
      "source": [
        "$$ P(\\mu-\\sigma\\leq X \\leq \\mu+\\sigma)\\approx0.6827 $$\n",
        "\n",
        "$$ P(\\mu-2\\sigma\\leq X \\leq \\mu+2\\sigma)\\approx0.9545 $$\n",
        "\n",
        "$$ P(\\mu-3\\sigma\\leq X \\leq \\mu+3\\sigma)\\approx0.9973 $$"
      ]
    },
    {
      "cell_type": "markdown",
      "metadata": {
        "id": "fZjfPaFUyM7O"
      },
      "source": [
        "This can also be remembered by using the chart: "
      ]
    },
    {
      "cell_type": "markdown",
      "metadata": {
        "id": "L3gmDiZ3yP_D"
      },
      "source": [
        "![Captura.JPG](data:image/jpeg;base64,/9j/4AAQSkZJRgABAQEAkACQAAD/4RDcRXhpZgAATU0AKgAAAAgABAE7AAIAAAAGAAAISodpAAQAAAABAAAIUJydAAEAAAAMAAAQyOocAAcAAAgMAAAAPgAAAAAc6gAAAAgAAAAAAAAAAAAAAAAAAAAAAAAAAAAAAAAAAAAAAAAAAAAAAAAAAAAAAAAAAAAAAAAAAAAAAAAAAAAAAAAAAAAAAAAAAAAAAAAAAAAAAAAAAAAAAAAAAAAAAAAAAAAAAAAAAAAAAAAAAAAAAAAAAAAAAAAAAAAAAAAAAAAAAAAAAAAAAAAAAAAAAAAAAAAAAAAAAAAAAAAAAAAAAAAAAAAAAAAAAAAAAAAAAAAAAAAAAAAAAAAAAAAAAAAAAAAAAAAAAAAAAAAAAAAAAAAAAAAAAAAAAAAAAAAAAAAAAAAAAAAAAAAAAAAAAAAAAAAAAAAAAAAAAAAAAAAAAAAAAAAAAAAAAAAAAAAAAAAAAAAAAAAAAAAAAAAAAAAAAAAAAAAAAAAAAAAAAAAAAAAAAAAAAAAAAAAAAAAAAAAAAAAAAAAAAAAAAAAAAAAAAAAAAAAAAAAAAAAAAAAAAAAAAAAAAAAAAAAAAAAAAAAAAAAAAAAAAAAAAAAAAAAAAAAAAAAAAAAAAAAAAAAAAAAAAAAAAAAAAAAAAAAAAAAAAAAAAAAAAAAAAAAAAAAAAAAAAAAAAAAAAAAAAAAAAAAAAAAAAAAAAAAAAAAAAAAAAAAAAAAAAAAAAAAAAAAAAAAAAAAAAAAAAAAAAAAAAAAAAAAAAAAAAAAAAAAAAAAAAAAAAAAAAAAAAAAAAAAAAAAAAAAAAAAAAAAAAAAAAAAAAAAAAAAAAAAAAAAAAAAAAAAAAAAAAAAAAAAAAAAAAAAAAAAAAAAAAAAAAAAAAAAAAAAAAAAAAAAAAAAAAAAAAAAAAAAAAAAAAAAAAAAAAAAAAAAAAAAAAAAAAAAAAAAAAAAAAAAAAAAAAAAAAAAAAAAAAAAAAAAAAAAAAAAAAAAAAAAAAAAAAAAAAAAAAAAAAAAAAAAAAAAAAAAAAAAAAAAAAAAAAAAAAAAAAAAAAAAAAAAAAAAAAAAAAAAAAAAAAAAAAAAAAAAAAAAAAAAAAAAAAAAAAAAAAAAAAAAAAAAAAAAAAAAAAAAAAAAAAAAAAAAAAAAAAAAAAAAAAAAAAAAAAAAAAAAAAAAAAAAAAAAAAAAAAAAAAAAAAAAAAAAAAAAAAAAAAAAAAAAAAAAAAAAAAAAAAAAAAAAAAAAAAAAAAAAAAAAAAAAAAAAAAAAAAAAAAAAAAAAAAAAAAAAAAAAAAAAAAAAAAAAAAAAAAAAAAAAAAAAAAAAAAAAAAAAAAAAAAAAAAAAAAAAAAAAAAAAAAAAAAAAAAAAAAAAAAAAAAAAAAAAAAAAAAAAAAAAAAAAAAAAAAAAAAAAAAAAAAAAAAAAAAAAAAAAAAAAAAAAAAAAAAAAAAAAAAAAAAAAAAAAAAAAAAAAAAAAAAAAAAAAAAAAAAAAAAAAAAAAAAAAAAAAAAAAAAAAAAAAAAAAAAAAAAAAAAAAAAAAAAAAAAAAAAAAAAAAAAAAAAAAAAAAAAAAAAAAAAAAAAAAAAAAAAAAAAAAAAAAAAAAAAAAAAAAAAAAAAAAAAAAAAAAAAAAAAAAAAAAAAAAAAAAAAAAAAAAAAAAAAAAAAAAAAAAAAAAAAAAAAAAAAAAAAAAAAAAAAAAAAAAAAAAAAAAAAAAAAAAAAAAAAAAAAAAAAAAAAAAAAAAAAAAAAAAAAAAAAAAAAAAAAAAAAAAAAAAAAAAAAAAAAAAAAAAAAAAAAAAAAAAAAAAAAAAAAAAAAAAAAAAAAAAAAAAAAAAAAAAAAAAAAAAAAAAAAAAAAAAAAAAAAAAAAAAAAAAAAAAAAAAAAAAAAAAAAAAAAAAAAAAAAAAAAAAAAAAAAAAAAAAAAAAAAAAAAAAAAAAAAAAAAAAAAAAAAAAAAAAAAAAAAAAAAAAAAAAAAAAAAAAAAAAAAAAAAAAAAAAAAAAAAAAAAAAAAAAAAAAAAAAAAAAAAAAAAAAAAAAAAAAAAAAAAAAAAAAAAAAAAAAAAAAAAAAAAAAAAAAAAAAAAAAAAAAAAAAAAAAAAAAAAAAAAAAAAAAAAAAAAAAAAAAAAAAAAAAAAAAAAAAAAAAAAAAAAAAAAAAAAAAAAAAAAAAAAAAAAAAAAAAAAAAAAAAAAAAAAAAAAAAAAAAAAAAAAAAAAAAAAAAAAAAAAAAAAAAAAAAAAAAAAAAAAAAAAAAAAAAAAAAAAAAAAAAAAAAAAAAAAAAAAAAAAAAAAAAAAAAAAAAAAAAAAAAAAAAAAAAAAAAAAAAAAAAAAAAAAAAAAAAAAAAAAAAAAAAAAAAAAAAAAAAAAAAAAAAAAAAAAAAAAAAAAAAAAAAAAAAAAAAAAAAAAAAAAAAAAAAAAAAAAAAAAAAAAAAAAAAAAAAAAAAAAAAAAAAAAAAAAAAAAAAAAAAAAAAAAAAAAAAAAAAAAAAAAAAAAAAAAAAAAAAAAAAAAAAAAAAAAAAAAAAAAAAAAAAAAAAAAAAAAAAAAAAAAAAAAAAAAAAAAAAAAAAAAAAAAAAAAAAAAAAAAAAAAAAAAAAAAAAAAAAAAAAAAAAAAAAAAAAAAAAAAAAAAAAAAAAAAAAAAAAAAAAAAAAAAAAAAAAAAAAAAAAAAAAAAAAAAAAAAAAAAAAAAAAAAAAAAAAAAAAAAAAAAAAAAAAAAAAAAAAAAAAAAAAAAAAAAAAAAAAAAAAAAAAAAAAAAAAAAAAAAAAAAAAAAAAAAAAAAAAAAAAAAAAAAAAAAAAAAAAAAAAAAAAAAAAAAAAAAAAAAAAAAAAAAERpZWdvAAAFkAMAAgAAABQAABCekAQAAgAAABQAABCykpEAAgAAAAMxNQAAkpIAAgAAAAMxNQAA6hwABwAACAwAAAiSAAAAABzqAAAACAAAAAAAAAAAAAAAAAAAAAAAAAAAAAAAAAAAAAAAAAAAAAAAAAAAAAAAAAAAAAAAAAAAAAAAAAAAAAAAAAAAAAAAAAAAAAAAAAAAAAAAAAAAAAAAAAAAAAAAAAAAAAAAAAAAAAAAAAAAAAAAAAAAAAAAAAAAAAAAAAAAAAAAAAAAAAAAAAAAAAAAAAAAAAAAAAAAAAAAAAAAAAAAAAAAAAAAAAAAAAAAAAAAAAAAAAAAAAAAAAAAAAAAAAAAAAAAAAAAAAAAAAAAAAAAAAAAAAAAAAAAAAAAAAAAAAAAAAAAAAAAAAAAAAAAAAAAAAAAAAAAAAAAAAAAAAAAAAAAAAAAAAAAAAAAAAAAAAAAAAAAAAAAAAAAAAAAAAAAAAAAAAAAAAAAAAAAAAAAAAAAAAAAAAAAAAAAAAAAAAAAAAAAAAAAAAAAAAAAAAAAAAAAAAAAAAAAAAAAAAAAAAAAAAAAAAAAAAAAAAAAAAAAAAAAAAAAAAAAAAAAAAAAAAAAAAAAAAAAAAAAAAAAAAAAAAAAAAAAAAAAAAAAAAAAAAAAAAAAAAAAAAAAAAAAAAAAAAAAAAAAAAAAAAAAAAAAAAAAAAAAAAAAAAAAAAAAAAAAAAAAAAAAAAAAAAAAAAAAAAAAAAAAAAAAAAAAAAAAAAAAAAAAAAAAAAAAAAAAAAAAAAAAAAAAAAAAAAAAAAAAAAAAAAAAAAAAAAAAAAAAAAAAAAAAAAAAAAAAAAAAAAAAAAAAAAAAAAAAAAAAAAAAAAAAAAAAAAAAAAAAAAAAAAAAAAAAAAAAAAAAAAAAAAAAAAAAAAAAAAAAAAAAAAAAAAAAAAAAAAAAAAAAAAAAAAAAAAAAAAAAAAAAAAAAAAAAAAAAAAAAAAAAAAAAAAAAAAAAAAAAAAAAAAAAAAAAAAAAAAAAAAAAAAAAAAAAAAAAAAAAAAAAAAAAAAAAAAAAAAAAAAAAAAAAAAAAAAAAAAAAAAAAAAAAAAAAAAAAAAAAAAAAAAAAAAAAAAAAAAAAAAAAAAAAAAAAAAAAAAAAAAAAAAAAAAAAAAAAAAAAAAAAAAAAAAAAAAAAAAAAAAAAAAAAAAAAAAAAAAAAAAAAAAAAAAAAAAAAAAAAAAAAAAAAAAAAAAAAAAAAAAAAAAAAAAAAAAAAAAAAAAAAAAAAAAAAAAAAAAAAAAAAAAAAAAAAAAAAAAAAAAAAAAAAAAAAAAAAAAAAAAAAAAAAAAAAAAAAAAAAAAAAAAAAAAAAAAAAAAAAAAAAAAAAAAAAAAAAAAAAAAAAAAAAAAAAAAAAAAAAAAAAAAAAAAAAAAAAAAAAAAAAAAAAAAAAAAAAAAAAAAAAAAAAAAAAAAAAAAAAAAAAAAAAAAAAAAAAAAAAAAAAAAAAAAAAAAAAAAAAAAAAAAAAAAAAAAAAAAAAAAAAAAAAAAAAAAAAAAAAAAAAAAAAAAAAAAAAAAAAAAAAAAAAAAAAAAAAAAAAAAAAAAAAAAAAAAAAAAAAAAAAAAAAAAAAAAAAAAAAAAAAAAAAAAAAAAAAAAAAAAAAAAAAAAAAAAAAAAAAAAAAAAAAAAAAAAAAAAAAAAAAAAAAAAAAAAAAAAAAAAAAAAAAAAAAAAAAAAAAAAAAAAAAAAAAAAAAAAAAAAAAAAAAAAAAAAAAAAAAAAAAAAAAAAAAAAAAAAAAAAAAAAAAAAAAAAAAAAAAAAAAAAAAAAAAAAAAAAAAAAAAAAAAAAAAAAAAAAAAAAAAAAAAAAAAAAAAAAAAAAAAAAAAAAAAAAAAAAAAAAAAAAAAAAAAAAAAAAAAAAAAAAAAAAAAAAAAAAAAAAAAAAAAAAAAAAAAAAAAAAAAAAAAAAAAAAAAAAAAAAAAAAAAAAAAAAAAAAAAAAAAAAAAAAAAAAAAAAAAAAAAAAAAAAAAAAAAAAAAAAAAAAAAAAAAAAAAAAAAAAAAAAAAAAAAAAAAAAAAAAAAAAAAAAAAAAAAAAAAAAAAAAAAAAAAAAAAAAAAAAAAAAAAAAAAAAAAAAAAAAAAAAAAAAAAAAAAAAAAAAAAAAAAAAAAAAAAAAAAAAAAAAAAAAAAAAAAAAAAAAAAAAAAAAAAAAAAAAAAAAAAAAAAAAAAAAAAAAAAAAAAAAAAAAAAAAAAAAAAAAAAAAAAAAAAAAAAAAAAAAAAAAAAAAAAAAAAAAAAAAAAAAAAAAAAAAAAAAAAAAAAAAAAAAAAAAAAAAAAAAAAAAAAAAAAAAAAAAAAAAAAAAAAAAAAAAAAAAAAAAAAAAAAAAAAAAAAAAAAAAAAAAAAAAAAAAAAAAAAAAAAAAAAAAAAAAAAAAAAAAAAAAAAAAAAAAAAAAAAAAAAAAAAAAAAAAAAAAAAAAAAAAAAAAAAAAAAAAAAAAAAAAAAAAAAAAAAAAAAAAAAAAAAAAAAAAAAAAAAAAAAAAAAAAAAAAAAAAAAAAAAAAAAAAAAAAAAAAAAAAAAAAAAAAAAAAAAAAAAAAAAAAAAAAAAAAAAAAAAAAAAAAAAAAAAAAAAAAAAAAAAAAAAAAAAAAAAAAAAAAAAAAAAAAAAAAAAAAAAAAAAAAAAAAAAAAAAAAAAAAAAAAAAAAAAAAAAAAAAAAAAAAAAAAAAAAAAAAAAAAAAAAAAAAAAAAAAAAAAAAAAAAAAAAAAAAAAAAAAAAAAAAAAAAAAAAAAAAAAAAAAAAAAAAAAAAAAAAAAAAAAAAAAAAAAAAAAAAAAAAAAAAAAAAAAAAAAMjAyMTowNDowOSAyMjoxODowNgAyMDIxOjA0OjA5IDIyOjE4OjA2AAAARABpAGUAZwBvAAAA/+ELGGh0dHA6Ly9ucy5hZG9iZS5jb20veGFwLzEuMC8APD94cGFja2V0IGJlZ2luPSfvu78nIGlkPSdXNU0wTXBDZWhpSHpyZVN6TlRjemtjOWQnPz4NCjx4OnhtcG1ldGEgeG1sbnM6eD0iYWRvYmU6bnM6bWV0YS8iPjxyZGY6UkRGIHhtbG5zOnJkZj0iaHR0cDovL3d3dy53My5vcmcvMTk5OS8wMi8yMi1yZGYtc3ludGF4LW5zIyI+PHJkZjpEZXNjcmlwdGlvbiByZGY6YWJvdXQ9InV1aWQ6ZmFmNWJkZDUtYmEzZC0xMWRhLWFkMzEtZDMzZDc1MTgyZjFiIiB4bWxuczpkYz0iaHR0cDovL3B1cmwub3JnL2RjL2VsZW1lbnRzLzEuMS8iLz48cmRmOkRlc2NyaXB0aW9uIHJkZjphYm91dD0idXVpZDpmYWY1YmRkNS1iYTNkLTExZGEtYWQzMS1kMzNkNzUxODJmMWIiIHhtbG5zOnhtcD0iaHR0cDovL25zLmFkb2JlLmNvbS94YXAvMS4wLyI+PHhtcDpDcmVhdGVEYXRlPjIwMjEtMDQtMDlUMjI6MTg6MDYuMTUxPC94bXA6Q3JlYXRlRGF0ZT48L3JkZjpEZXNjcmlwdGlvbj48cmRmOkRlc2NyaXB0aW9uIHJkZjphYm91dD0idXVpZDpmYWY1YmRkNS1iYTNkLTExZGEtYWQzMS1kMzNkNzUxODJmMWIiIHhtbG5zOmRjPSJodHRwOi8vcHVybC5vcmcvZGMvZWxlbWVudHMvMS4xLyI+PGRjOmNyZWF0b3I+PHJkZjpTZXEgeG1sbnM6cmRmPSJodHRwOi8vd3d3LnczLm9yZy8xOTk5LzAyLzIyLXJkZi1zeW50YXgtbnMjIj48cmRmOmxpPkRpZWdvPC9yZGY6bGk+PC9yZGY6U2VxPg0KCQkJPC9kYzpjcmVhdG9yPjwvcmRmOkRlc2NyaXB0aW9uPjwvcmRmOlJERj48L3g6eG1wbWV0YT4NCiAgICAgICAgICAgICAgICAgICAgICAgICAgICAgICAgICAgICAgICAgICAgICAgICAgICAgICAgICAgICAgICAgICAgICAgICAgICAgICAgICAgICAgICAgICAgICAgICAgICAKICAgICAgICAgICAgICAgICAgICAgICAgICAgICAgICAgICAgICAgICAgICAgICAgICAgICAgICAgICAgICAgICAgICAgICAgICAgICAgICAgICAgICAgICAgICAgICAgICAgIAogICAgICAgICAgICAgICAgICAgICAgICAgICAgICAgICAgICAgICAgICAgICAgICAgICAgICAgICAgICAgICAgICAgICAgICAgICAgICAgICAgICAgICAgICAgICAgICAgICAgCiAgICAgICAgICAgICAgICAgICAgICAgICAgICAgICAgICAgICAgICAgICAgICAgICAgICAgICAgICAgICAgICAgICAgICAgICAgICAgICAgICAgICAgICAgICAgICAgICAgICAKICAgICAgICAgICAgICAgICAgICAgICAgICAgICAgICAgICAgICAgICAgICAgICAgICAgICAgICAgICAgICAgICAgICAgICAgICAgICAgICAgICAgICAgICAgICAgICAgICAgIAogICAgICAgICAgICAgICAgICAgICAgICAgICAgICAgICAgICAgICAgICAgICAgICAgICAgICAgICAgICAgICAgICAgICAgICAgICAgICAgICAgICAgICAgICAgICAgICAgICAgCiAgICAgICAgICAgICAgICAgICAgICAgICAgICAgICAgICAgICAgICAgICAgICAgICAgICAgICAgICAgICAgICAgICAgICAgICAgICAgICAgICAgICAgICAgICAgICAgICAgICAKICAgICAgICAgICAgICAgICAgICAgICAgICAgICAgICAgICAgICAgICAgICAgICAgICAgICAgICAgICAgICAgICAgICAgICAgICAgICAgICAgICAgICAgICAgICAgICAgICAgIAogICAgICAgICAgICAgICAgICAgICAgICAgICAgICAgICAgICAgICAgICAgICAgICAgICAgICAgICAgICAgICAgICAgICAgICAgICAgICAgICAgICAgICAgICAgICAgICAgICAgCiAgICAgICAgICAgICAgICAgICAgICAgICAgICAgICAgICAgICAgICAgICAgICAgICAgICAgICAgICAgICAgICAgICAgICAgICAgICAgICAgICAgICAgICAgICAgICAgICAgICAKICAgICAgICAgICAgICAgICAgICAgICAgICAgICAgICAgICAgICAgICAgICAgICAgICAgICAgICAgICAgICAgICAgICAgICAgICAgICAgICAgICAgICAgICAgICAgICAgICAgIAogICAgICAgICAgICAgICAgICAgICAgICAgICAgICAgICAgICAgICAgICAgICAgICAgICAgICAgICAgICAgICAgICAgICAgICAgICAgICAgICAgICAgICAgICAgICAgICAgICAgCiAgICAgICAgICAgICAgICAgICAgICAgICAgICAgICAgICAgICAgICAgICAgICAgICAgICAgICAgICAgICAgICAgICAgICAgICAgICAgICAgICAgICAgICAgICAgICAgICAgICAKICAgICAgICAgICAgICAgICAgICAgICAgICAgICAgICAgICAgICAgICAgICAgICAgICAgICAgICAgICAgICAgICAgICAgICAgICAgICAgICAgICAgICAgICAgICAgICAgICAgIAogICAgICAgICAgICAgICAgICAgICAgICAgICAgICAgICAgICAgICAgICAgICAgICAgICAgICAgICAgICAgICAgICAgICAgICAgICAgICAgICAgICAgICAgICAgICAgICAgICAgCiAgICAgICAgICAgICAgICAgICAgICAgICAgICAgICAgICAgICAgICAgICAgICAgICAgICAgICAgICAgICAgICAgICAgICAgICAgICAgICAgICAgICAgICAgICAgICAgICAgICAKICAgICAgICAgICAgICAgICAgICAgICAgICAgICAgICAgICAgICAgICAgICAgICAgICAgICAgICAgICAgICAgICAgICAgICAgICAgICAgICAgICAgICAgICAgICAgICAgICAgIAogICAgICAgICAgICAgICAgICAgICAgICAgICAgICAgICAgICAgICAgICAgICAgICAgICAgICAgICAgICAgICAgICAgICAgICAgICAgICAgICAgICAgICAgICAgICAgICAgICAgCiAgICAgICAgICAgICAgICAgICAgICAgICAgICAgICAgICAgICAgICAgICAgICAgICAgICAgICAgICAgICAgICAgICAgICAgICAgICAgICAgICAgICAgICAgICAgICAgICAgICAKICAgICAgICAgICAgICAgICAgICAgICAgICAgICAgICAgICAgICAgICAgICAgICAgICAgICAgICAgICAgICAgICAgICAgICAgICAgICAgICAgICAgICAgICAgICAgICAgICAgIAogICAgICAgICAgICAgICAgICAgICAgICAgICAgPD94cGFja2V0IGVuZD0ndyc/Pv/bAEMABwUFBgUEBwYFBggHBwgKEQsKCQkKFQ8QDBEYFRoZGBUYFxseJyEbHSUdFxgiLiIlKCkrLCsaIC8zLyoyJyorKv/bAEMBBwgICgkKFAsLFCocGBwqKioqKioqKioqKioqKioqKioqKioqKioqKioqKioqKioqKioqKioqKioqKioqKioqKv/AABEIAowDYQMBIgACEQEDEQH/xAAfAAABBQEBAQEBAQAAAAAAAAAAAQIDBAUGBwgJCgv/xAC1EAACAQMDAgQDBQUEBAAAAX0BAgMABBEFEiExQQYTUWEHInEUMoGRoQgjQrHBFVLR8CQzYnKCCQoWFxgZGiUmJygpKjQ1Njc4OTpDREVGR0hJSlNUVVZXWFlaY2RlZmdoaWpzdHV2d3h5eoOEhYaHiImKkpOUlZaXmJmaoqOkpaanqKmqsrO0tba3uLm6wsPExcbHyMnK0tPU1dbX2Nna4eLj5OXm5+jp6vHy8/T19vf4+fr/xAAfAQADAQEBAQEBAQEBAAAAAAAAAQIDBAUGBwgJCgv/xAC1EQACAQIEBAMEBwUEBAABAncAAQIDEQQFITEGEkFRB2FxEyIygQgUQpGhscEJIzNS8BVictEKFiQ04SXxFxgZGiYnKCkqNTY3ODk6Q0RFRkdISUpTVFVWV1hZWmNkZWZnaGlqc3R1dnd4eXqCg4SFhoeIiYqSk5SVlpeYmZqio6Slpqeoqaqys7S1tre4ubrCw8TFxsfIycrS09TV1tfY2dri4+Tl5ufo6ery8/T19vf4+fr/2gAMAwEAAhEDEQA/APpGiiigAooooAKKKKACiiigAooooAKKKKACiiigAooooAKKKKACiiigAooooAKKKKACiiigAooooAKKKKACiiigAooooAKKKKACiiigAooooAKKKKACiiigAooooAKKKKACiiigAooooAKKKKACiiigAooooAKKKKACiiigAooooAKKKKACiiigAooooAKKKKACiiigAooooAKKKKACiiigAooooAKKKKACiiigAooooAKKKKACiiigAooooAKKKKACiiigAooooAKKKKACiiigAooooAKKKKACiiigAooooAKKKKACiiigAooooAKKKKACiiigAooooAKKKKACiiigAooooAKKKKACiiigAooooAKKKKACiiigAooooAKKKKACiiigAoqOeZLa3kmmYLHGpZiewFeR/wDC3vFV7p0niLRfBTXPheNm/wBLecLM6KxBdY+pHFAHsFFcF4i+J0djouhTeHdPfV9R19d1haKduQACSx7AZxUfhP4haxeeLD4Y8baANE1WSA3Ft5UolimQEAgN6jI4oA9BorN8Q3OrWmg3M/h2xi1DUkA8i2mlEayHcM5Y9OMn8K8r8RfEz4n+FtNW+1nwNpkULypCgTUhIzuxAVQqkknJ7UAezUVwWt+PNUtb3VY9G022uItFtVuL4zylWOV3bEx3x64rQ1fxysGkaRJolr9t1HWlRrK0Y4+UgEs3ooB5NAHW0Ui7ti78bsc46Zpc0AFFUdb1JdI0C/1JgCLS3kmwTjdtUnH44rkPhjqfjHXtPXW/E1xYPp1/D5tpBbx7ZIfm4DHvxmgDvaKwtR8VW2m+MNH8PSwSvcaqsrRyqRtTy0LHPfnFYur+KtSsvjP4e8NQPGNO1CwuJ51KAsWQHbg9ulAHb0UUZoAKKKM0AFFch4G8R6hr2o+I4dQZGTT9QNvBsTbhMZ59a6/NABRWFbeKra68cXvhhIJRc2dql08pI2MGOAB3zzW7mgAooozQAUUUZoAKKM0UAFFFFABRWLbajrK6trI1TTYoNLtVRrG5jmDPcDaS+5f4cEAD1qpp3i6PXvAVz4g02J4NsE7RpNgkMgbrj3FAHS0Vyvw28QXvifwDp2raqyNdXCkuUXaDzjpWtqN1rEOr6dFpunw3FlK5F5O8wVoFxwQv8XNAGpRRmigAooooAKKKKACiiigAooooAKKKKACiiigAooooAKKKKACiiigAooooAKKKKACiiigAooooAKKKKACiiigAooooAKKKKACiiigAooooAKKKKACiiigAooooAKK5vwZ4kuPEtlezXUMURt7t4FEeeQvc5710lABRRRQAUUUUAFFFFABRRRQAUUUUAFFFFABRRRQAUUUUAFFFFABRRRQAUUUUAFFFFABRRRQAUUUUAQX1qL3T57VjgTRshPpkYrxJLL4leCfAlz4fe30WfRLOCRF1OabDeVzgbM8nnFe5SIJI2Q5AYEHBxXmifBHTXu1/tPxJ4g1PTkfemmXd8zwLg8DHUj60Ac3pHg/xM3w98Ba34Y+z/wBraTbSH7LdNtWaOU7gM9uMfnRbzeLdX+OnhZvFlnp1pc2trdSm2sZfMMcZ2Llm9zjH0Nek+LfA8PimxsoINX1PRHssiGbS7gwsqkAbeOCPlH0qPwb8PNL8Gy3N1BPd6jqV0As+oX8plmcDoNx6D6UAdWrq+djBsHBwc4rzG/x45+NFrYY8zSvCw+1Td1e6PCD6r1/Cuu8J+DrTwhDqCWNzcT/b7prpzMQdrN2GO1L4S8IWfhG2vFtp5rqe+uWuLi4nxvkY+uABgdqAOf8AHPhfTbaLWNfudZudMtru28rUIoVU/aUAwFGeQxHHHNc1obaxpviK2Ntp1qutX2n+fBb3pby9Ps0yEhAHO7jn3r0vWfDNtruqaddX80rw2EnnLaceXJIPusw74PIqv4g8IprWqW+p2uo3Ol6hBE0AuLZUYtG3VSHBHc9s0ATeDvEY8V+FbXVhD5Dyl45I852ujlGA9tymvL9L8JWPxY8W+J7vxheXc0WmagbK0sI7ho1gVUU78A9yT+Vet6Bodn4b0O30rTlYQQA4LHLMSSWYn1JJJ+tcd4i+EGm614huNa0zWdX8P3l2ALttKuTELjHA3D6UAcJHo8WoeA/H/hbVLu41HT/Ds4lsJXmbcp8osF3Z5A9K7X4I+EdJ8P8AgCy1HTIpEudUt0kumeVmDMM4wD069q3tM+Huj6R4LvfDlh5qQ3yOLi4Zt0sjMMFyx6mtjw7okPhzw7ZaPaySSw2cQjR5MbmA9cUAeSfEX4f+Htf+OHhqPVYJmXVYbgXW24ZN3lxsUxg8cgdOtQeM/Blpd/GHwR4Ysbu6sLGLR54g0Ep8wxLnKbuvIGCa9H8cfD2y8b/YpZdQvtLvbFy9ve2EmyWPPUA+9Ot/AFlB4m0LW2vrya50Wyezi86Tf5qsMFnJ5Lc9c0AcT4W0KH4efFbUdC0Ce4/sqbS/ta2s0rSCNxnkE+uK8vsHu/F2my+INS8IeL9W1ieSR4NStJmEMBDHaqAcYXGPwNfSjeFbV/G3/CStNKbj7J9kMPGwrknPTOea5C7+CWmvqFxLpPiLXtGs7mVpZtPsL1kgcsct8vYE9hQB1fgG41W68BaRN4iiki1MwYuElGH3AkZPuQAfxrzTTvCVl8UfHnii78VXd6w0m6W2sbaK4aMW4253jB6k17BpOl22i6TbadZBhBbIETcxY49yepri/EHwh0vW/E02t2er6totzdgC8XTbkxLdAf38e1AHHeDzZeHPBHj5dU1m8jtLe+Mb36vmYggKMHuTkCuO04w+HvHXhW98N+HPEmii91WC3uL/AFGZjFexyMFIwe5BzXtGnfCXw9p3hPWPDq+fNp+rSeZKkr5KEYIwevBAOT3rMsfgjp1vqOn3t/4k17VJtNuorm1+23ZkWIowYKFPGDjHrQByg+FvhXWfj5r1pqFtO0Qs475Qt06nzWYbjkHpz06VV+IkOga7421Yf2N4m8U3doQjrp8rLDYsFHAxx7mvS/FPwvsPE3iaDXU1bU9JvEQRStp85i89B/CxHOKp618H9O1bxFd6ra65rWkrfvvvLSwuzFFcNjBLAetADvgjqd7qnwssJNSkmkmilmhBnOXCrKyqGPqAAPwrlfi0NB1fxnHp17p+v+IruGzVjpOlyMscQLN+8JH8R6fRRXpvg3wlZeCfDqaNpcksltHLJIhmOWG9y2M+2cVh+K/hZY+JvEA1u21nVtDv2iEM0umXJiM6AkgN69TQB5v4Uv7t/gj46sZo722isHZLe2vXLS26lQdhP+etX7Tw7F4I+Ed3460+6vbnxBLpW03MszNgMQBhc4G3qPpXd6X8KtI0jwxrmh2t3eG31k5meSTe6HABIJ6+vOetdFb+G7CLwmnh24Q3ViLb7M6y9XTGOcd6APmlLPVrSzt9a8NeCvGMXiMMkv8Aak8rPHPyCQy9NpGa+pWj+16eY51/1seHU+45rzi3+B+nQTpG/iXxDNpcZyulPft9nA/u4649q9NUBVCjoBgUAeE2n2lvhpdfD1pJPtkWrvpIJb5vILFlbPpsK1cW8m8TeFPBfhOSRjcLfPBfAHkJZsYyT9cA16Afh9px+In/AAlwuLgXBXDWwI8pn2BN+MZzhR3pNG+H2naL421HxJBc3Ek17kiByPLgJxuKcZ+YjJoA4DS9KtfEHxI+L2k6mHks5YrEMiuVxiJmGCOnIFV/hb4D0DTfhrfeJbOGUanLY3kDuZ2ZdvPG0nGflFeoaR4KsdI8WeIdeimmlm1/yRcRSY2II1KjbxnkHnNYmgfCbT/Dt7qT2Ws6s1nfRSxiwkuMwQGT7zKnTPuaAPKtA+GFhqXwRl8U3Wpag2qWdnPdWTrcMq23lgsFVQcfw11V1qV1qWtfCq8upWea4IeRs/eJQ16Jpvgmy0z4ey+EYbmdrSS1ltTM2PMCyKQT0xnn0qqnw605ZPDL/a7knw4MW/3f3vGPm4/ligDzm18D2njr4ueMbXXLy8/s6CdGNnDM0ayNtGCcHtXVfBhLiwtPEugyXUtza6LrElpaGVizLEACFz+NdZo3hG00XxNrGt288zz6s6vKj42pgY+XjP507w54VtfDd5rNzazzStq9817KJMYRiAMLgdOO9AG7RRRQAUUUUAFFFFABRRRQAUUUUAFFFFABRRRQAUUUUAFFFFABRRRQAUUUUAFFFFABRRRQAUUUUAFFFNlkSGJ5ZWCoilmY9AB1NADqKr2N/a6nZpd6fOlxBJ92RDkGrFABRRRQAUUUUAFFFFABRRRQAUUUUAFFFFAHBfCpguj6uzEADUpSST05rrLPXtP1HUJbOwnFw8I/etHyqH0J9a8Pi8NeLdd0HVT4b1HbbLqEvmWSnYznPUN3+nFafw+8P+Kv7LlsLDxIdFngcmazlsFZs/3txPzD3oA9uorgP+EU8ff9D2v/AILk/wAaP+EU8ff9D2v/AILk/wAaAO/orgP+EU8ff9D2v/guT/Gj/hFPH3/Q9r/4Lk/xoA7+iuA/4RTx9/0Pa/8AguT/ABo/4RTx9/0Pa/8AguT/ABoA7+iuA/4RTx9/0Pa/+C5P8aP+EU8ff9D2v/guT/GgDv6K4D/hFPH3/Q9r/wCC5P8AGj/hFPH3/Q9r/wCC5P8AGgDv6K4D/hFPH3/Q9r/4Lk/xo/4RTx9/0Pa/+C5P8aAO/orgP+EU8ff9D2v/AILk/wAaP+EU8ff9D2v/AILk/wAaAO/orgP+EU8ff9D2v/guT/Gj/hFPH3/Q9r/4Lk/xoA7+iuA/4RTx9/0Pa/8AguT/ABo/4RTx9/0Pa/8AguT/ABoA7+iuA/4RTx9/0Pa/+C5P8aP+EU8ff9D2v/guT/GgDv6K4D/hFPH3/Q9r/wCC5P8AGj/hFPH3/Q9r/wCC5P8AGgDv6K4D/hFPH3/Q9r/4Lk/xrpPDOma3pltMniDWhq0jPmNxAItgx0wDzQBt0UV59498K2mt6os+v+N7zRNPEP7m0tLpLYlxnc5c5LdRwBx+NAHoNFeb/Be71S48P6jFf30+pWNteNFp97cD554h39/rXSeL/HWk+CreCTVFup5bhisNtZwmWWQjk4WgDpKK8q8a/Fq3T4W3Gt+Ho9TguZS0MZNp89tIO8inhR+daugfFjSL3wbJrGoWuq2aWaxxzNd2ZRppCo+4ATuyfpQB6BRXEeF/ixoHirWv7Jt7fUtPvGUvFHqNr5PnAdSvJzVHUvjd4W028vLMwapdXdnO0Mtva2nmOMAEvwfu89aAPRajmnht0D3EqRKSAGdgoyeg5rBsvHfh++8Fv4pjvQmlRoWkkkXBQjgqR65IGPevKfiD8U9C8X+GbewsINStJ21K0aH7baGJZwJkJKHJB4Ge1AHvFFcV4n+J+ieELqOwvLbUr678tXaHT7QzMikcE8gCrMPxJ8P3HgW48WQSTvp9srGZBHiWMjgqVJ4I+tAHWUyWaK3jMk8iRIOrOwAH4muL0b4s+G9ce9a2F7FaWcPnve3FuUgZe+1s8kdK4Px/8W/D3inwReafYwanbvLLF9nmu7QxxXH7wfcbJz+OKAPcwQQCDkHoRRVXTP8AkE2f/XBP/QRXE6j8Z/C2m69LpbLqNz9nfZcXdtaGSCA/7bg8fkaAO8hnhuY/Mt5UlTONyMGH5ipK8o+EviHTNB+DB1jVbpYLKO6nYyEHkF+AB3Jz0re8OfFzw94k1hNMhg1KwuZs+QNQtDCs+P7hyc0AdzRWH4f8W6d4kgv5LETRnTrmS2uY51CsjocHgE8cVyd/4z8N+Ij4b1A3Gs28c2qSQWRtyqJO6HaS4ycx5HFAHpFFcR4o+LGg+FdWfTbm11S+uogDMun2ZlEQIyNxyMcVh/EP4q29p8KRrvheS8aS9ZUtriG3DeQwddwkB+7xkd+SKAPU6K8rv/H+h+JfhjNf6sniPS7a3lto5pY4Rbzu5dcFMnBUnr7Gup8T/EHQvBdnZjUmurie5QG3tLWLzZ5RjrtoA6uiuS8J/EnQvGMk8Oni7tbu3TfJaX0HlShfXbk1za/tB+DZLOG6t4dWnhcZleKz3C3H/TQ7sD170Aeo0VzGu/EHQdA8O2etXEs1zb34U2iWkRkknyM/Kv0NWfCXjDTvGemSXmlx3UAik8qWG8hMUiNgHlfoRQBvUVz3i7xvovgqzin1qWQvOxSC3t4/MlmIGSFXvWT4e+LPh7xG91DbQ6jaXltA9wbK8tTFNIijJKLk5+maAOwa9tUultnuYVnb7sRkAY/h1qevnn4cax4f8YfF3VdQ1TR9Yl1WTUC+nXMsbCOzjUE7HIbCnjoQa7742eOLvwX4L8zSjeRX1xIqxXEEAdY8HncTwMjgcUAeiT3ENtH5lzNHCmQN0jBRk9smpK8M+K3jay8W/ByXUbSx1LT4rbV7ZHXULbyXOGByBk5FdppPxm8Lav4ih0iBdQha5bba3VxamOC4P+wxPP5UAd/RXH+LPidoPhC/SwvEvr6+ZBIbXT7czSKv94jIwOK1/C/ivS/F+k/2ho0jtGGKSRypskiYfwsvY0AbNFcv4t+IWheCr2wtteeeM34fynjj3LlVzg85yegwDyRXPW/x28ITQ3PmrqdrcwAFbK4sys82emxcnP6UAek0Vy/hL4h6H4xsbq505ri2NmcXMF7F5UkXuwyawo/jj4Sl1NbZV1P7Mz7F1E2ZFqTnH38/0oA9ForlPFvxF0Xwc9vFfRX15PcR+ZHBYW5mcp03Y4GPxpdE+Iuha/4XvtcsTciHTwxuoJotk0RAzgqT1x70AdVRXmQ+Pvg5mgZU1RrWXaHvBZ/uYCezvng/TNelQypPCk0LB45FDKw7g9KAH0UVieJtM1vU7aBPD+tDSZEcmRzAJd4x0wTxQBt0VwH/AAinj7/oe1/8Fyf40f8ACKePv+h7X/wXJ/jQB39FcB/winj7/oe1/wDBcn+NH/CKePv+h7X/AMFyf40Ad/RXAf8ACKePv+h7X/wXJ/jR/wAIp4+/6Htf/Bcn+NAHf0VwH/CKePv+h7X/AMFyf40f8Ip4+/6Htf8AwXJ/jQB39FcB/wAIp4+/6Htf/Bcn+NH/AAinj7/oe1/8Fyf40Ad/RXAf8Ip4+/6Htf8AwXJ/jR/winj7/oe1/wDBcn+NAHf0VwH/AAinj7/oe1/8Fyf40f8ACKePv+h7X/wXJ/jQB39FcB/winj7/oe1/wDBcn+NH/CKePv+h7X/AMFyf40Ad/RXAf8ACKePv+h7X/wXJ/jR/wAIp4+/6Htf/Bcn+NAHf0VwH/CKePv+h7X/AMFyf40f8Ip4+/6Htf8AwXJ/jQB39FcB/wAIp4+/6Htf/Bcn+NH/AAinj7/oe1/8Fyf40AdhqWt2OkSQjUZfISY7VlYfJu9Cexo1aRJfDt88Tq6NayEMpyD8pryzxxoPiu18OSxat4t/tJbg7I7JNOXdM3tg8fWofBHhHxtpGh3k+p6n9k0/7LIfsMo81mGw+/y/gfwoA7n4W/8AJO9O+jf+hGuvrkPhb/yTvTvo3/oRrr6ACiiigAooooAKKKKACiiigAooooAKKKKAOD+FP/IJ1f8A7CUv867nyY/OEvlr5gGN+Ocema4b4U/8gnV/+wlL/Ou8oAKKKKACiiigAooooAKKKKACiiigAooooAKKKKACiiigAooooAKKKKACiiigAooooAK8u+I+ufDOXWo9N+JNmwktYy1vcXFvKYzu6hGTOTwOteo1BcWVrd4+120M+OnmRhsfnQB5j8FSTJr39kJep4Y+0L/ZYu1I4wd2wHnb061b+K194Xs7vS5fEeq32h3cBaWy1S2hLrE3Ta2Ac59MV6RHGkMYSJFRB0VRgCmXFpb3ahbq3inUdBIgYfrQB4omtax4r+Bfit7mH7Z5DSJa3sNsYjfxDpLsPOas618T7a++EVveeD3FxJbG3t7yaW0dxZnaNzbSOSvtkV7IkEUcPlRxIseMbFUBcfSoo7CzihaKK1gSN+WRYwA31FAHzp4c1I6t8YPClxD4zu/FkKvMDNJpptooCVHyqx5b6duPWvQPhLaQHxP45neBDK2qbC5UZ27OmfTmvS4rCzg2+RaQR7TldkYGD6jFSxwRQs5iiRC5yxVQNx9T60AfPi6bc3XwI8Rpp1u862viOSeS2iXJkiSWMsoH05/Cp/H3xF8LeK/COk6f4fSa6uY76z3kWjKtpiVMhmIABPTjPWve47eGJGSKJEViSyqoAJPUmol02xRSEsrdQxBIESjJHIPSgDxL4geLr608f3Gl3viY+DbKO2jNveQ6abiS8YgZXI/lWHoYlPwE8e+dNPcs19M3nXEHlPJnncyfwk9cdq+i57G0umVrm1hmK/dMkYbH5077JbmN4zbxbJDl12DDfUd6APNvFWkT3n7PMNrpNtukXTLd/IhQZkARSyge9cb4w+JPhTxB8K7bR9GimnvohbrJALNh9iKsoO8kADnjgnrXv4VVQIqgKBgKBwB6VXXTbFN+2yt13/exEvzfXjmgBmnqzaJbKp2sbdAD6HaK8W8A+N9A8EaTq3hrxVBcJrX2+Z/sgtGka9DH5dpAwfxIFe6gADAGAKgextJLgTyWsLTDpI0YLD8etAHzh/Z+oaj+zlYXGmrcxJa6ybmcQwiSSOMSD5hGeGK9ce1WNCksvEfjTw6P+Fman4kmsr2OZLRdE8sREEfffI2j16/SvoqO3hiiMUUSJGc5RVAB/Co4dPs7aQvb2kETnq0cYUn8QKAPE/H99eeBPHGswaXHIR4vtlFsEHC3X3WP1IGa0PGWhReGl+GWj2w+SzvhGSB95gg3H8Tk/jXr8ttBO6PNDHI0ZyjOgJU+o9KdJBFMyNLEjlDlCyg7T6j0oA8D8beML8fEPWdL1DxS/g2CDy1tBbaUbiXUAUBJ3dDycVBolvdS/ss+IkjSe6mF88mGj2yOBNExJXscAnHavf5rG0uJVkuLWGWRfuu8YYj8TT1t4UjaNIY1RiSyhQAfwoA8U8f+LtH8XfAqSXQbhrhLaayimJiZNr+YmV+YDOMdqt6/q9p4L+Lem+IvFEMo0efSVt4b0QmRLWQYJJwCRnGK9cXT7NYDCtpAImOTGIhtJ9cYp81tBcxeXcQxyp/ddAw/I0AeS6Nq1l44+MK+IvC8Mkmk2WmSwT3xiaNLh2zjGQCcVU+DVjbH9mws9tHunju/NJQZfEjgZ9eBXs0NtBbR+XbwxxJ/djQKPyFEdtBDB5MMMccXP7tUAX8qAPDku/DVt8GfBDeKr690tliMlnqVrGXFtIuPvYB4ORxjtXX/AAi8S6h4ittX+1SLf2VtchLPVxbGA3qlQSSp5yOma797G0kt1gktYWhX7sbRgqPoOlSQwxW8YjgjSJB0VFAA/AUAeUfEe8i8M/FXw14n120lm0OG2nt5LhIjItpI20hyBzyARmq9rr2m/EL41eG9W8IRyXVjpEFyb3UPJaNG3xlVQFgNxyQa9fmhiuIzHPGkqHqrqCD+Bptva29qhW1gihU9RGgUfpQB5t8IARrXjfI/5jLfyNXfjhbzXPwl1QW8TyshSQqgydqsCTj6V30cEUJcwxJGXO5iqgbj6n1pzosiFJFDKRghhkGgDxL4r+MNF8dfBsXvh+drq2XVbSOQmJlw24Er8wGcZxxxXSfFe0t7e28KiCCOMQ6vEkYRQNgweB6V6Eun2S2/kLaQCHO7yxEu3PrjFSyQxTbfOjSTady7lBwfWgD528ZLeeHvjLr99qfjG98I2moRwPa3kWm/aY5VVdpQt1UggnH+1Xd/BSyto7XXdQtNcvdcW+uUd7y5sfsqyMFIyi5ORyOcDpXpdxaW12oW6t4pwOgkQNj86fFDHBGI4I0jQdFRQAPwFAHl3xGt4rr4w/D6O4iWWPzrglXXIyIyR+ozVjULC0k/aK0uR7aJnGlSsGKA8ggA16S8EUkiSSRIzx/cZlBK/Q9qDDEZhMY0MoGA+0bgPTNAHjmqaZc3/j74mafpC7Lq60aJYgnGZGjHP1zXmllcW134Pt9B1P4l6tbSGFIZfD/9gZkQjAKA5GcHvkGvq5YYlmaVY0EjgBnCjcw9zUJ06yM/nmztzLnPmeUu788UAeK+PvEl9oGsaFosuvN4X0xdJiI1ptPM80kg+XZgZ2njOM9TWV8Pmll8P/E2WTULnUxJCjreXNt5Dzjym+by+3T8QAa+griztrsAXVvFOF6CRA2PzpVtLdFdUgiUOMOAgG4eh9aAPIIbG1T9lBlW3jUNpZkYbBy27qfevTfCZz4Q0rP/AD6R/wDoIrT+zw/Z/I8mPycY8vaNuPTHSnqqooVAFUDAAGAKAFooooAKKKKACiiigAooooAKKKKACiiigAooooAKKKKACiiigAooooAKKKKACiiigBjQRPMsrxq0ijCsRkj6VV1r/kA6h/17Sf8AoJq7VLWv+QDqH/XtJ/6CaAOd+Fv/ACTvTvo3/oRrr65D4W/8k7076N/6Ea6+gAooooAKKKKACiiigAooooAKKKKACiiigDg/hT/yCdX/AOwlL/Ou8rg/hT/yCdX/AOwlL/Ou8oAKKKKACiiigAooooAKKKKACiiigAooooAKKKKACiiigAooooAKKKKACiiigAooooAKKKKACiiigAooooAKKKKACiiigAooooAKKKKACiisjxL4p0jwjpR1HX7xLW33bFJ5Lt/dUdzx0oA16K5Twj8S/DHjeeWDQb1nuIhuaGaMxvj1CnkisXV/jn4J0TWrzSr65vftVlM0Mwjs3cKwOCMgc0Aei0Vz0njfRo/DdjrZkma21AIbWNYWMspYZACdSfarmjeJdM17TJb6xmIigdo51lUo8LL95XU8qR6GgDVorO0PXLLxFpov9LZ3tmdkSRkKh9pwSM9Rkda0aACiisvXvEVh4btIbnVGkWOadIE8uMud7HA4HbJ60AalFVH1Wwj1OHTpLuJb2eMyxW5YB3QdSB6VkSeMLeP4hReEzbSG4kszdCfI2gAkYx1zxQB0VFRzzJbW0s8udkSF2wM8AZNUtA1yy8S6FbavpbSNaXIJjMiFGOGKnIPI5BoA0aKKKACiiigAooooAKKKKACiiigAooooAKKKKACiiigAooooAKKKKACiiigAooooAKKKKACiiigAooooAKKKKACiiigAooooAKKKKACiiigAqlrX/IB1D/r2k/8AQTV2qWtf8gHUP+vaT/0E0Ac78Lf+Sd6d9G/9CNdfXIfC3/knenfRv/QjXX0AFFFFABRRRQAUUUUAFFFFABRRRQAUUUUAcH8JefD2pHudTnyfxrvK4P4Sf8i7qP8A2E5/513lABRRRQAUUUUAFFFFABRRRQAUUUUAFFFFABRRRQAUUUUAFFMmOIHI4O0/yrj/AIX3dze+G72S8uJbh11KdA0rliFBGBk9qAOzooooAKKKKACiiigAooooAKKKKACiiigAooooAKKKKACiiigAooooAK8q+MCS2HiLwn4iudMm1PSNKupGvIYk37d0ZCvt74PNeq1znjD/AIS9LSCXwP8A2bJcK/72HUQ2x1x2KkEGgDy2Pxjpfiv44eEtR8PWF7bHbPDNPPbmLzlMbcYPXGPwrRis/iZ4N8Q+Jr3QtA0vUdM1DUpbxfMuGExUk8BQeuK6Twr4T8S3PixfFPj67tHv4IWhs7OxU+TbhvvMCeSSOOaz761+MW+fT7K80CW0lJVNRkjZZ41PQ7AdpP4UASJf3nxH8OeGPGPhy1UT2Ny8r2M8mzeR8jpu6AgqcGuXuHuLWTXdL1K4W0gvr/8AtDXHt23/AGdGVVS2Vh1dgoJ+teiaF4VvvBXw0j0Lw7JHd6hDG22a5barSsSWc+2STiqF98OWHw9/smwnWTVDcJez3U//AC9XAOWLH0J4HoAB2oA3vCviHSNUhk03SYJrJ9OREayuIfKeJCPkO30IBx9Ky9b8Q6povxV0GwlnB0XWLeaER+WvyXCbWB3Yzyu4YzjipfDOg6qvjDVfEuuwwWk97bw20drBL5oRYy53FsDJJc9uMU/4jeG9Q8ReHoP7CMK6tYXcd3aNK21dy5BBPYFWNAGJ4W8c6nqPxK1bTtTkQaQ6ynTTsA/1JQOd2MnO/v6VgXvxA8UR+A4fEEd2sf27XEgtlMCHbbGQLjpzkd+taWt/DvXx4J0SDw9JbJrdl5yzySyEKyzRyI/OOSC6kf7orS8XeALvUfAeiaDofkqdOureRvMbaNqMC2OOvWgDkfF2leM7v49aWNH8S21lNNp0r2jvZLIIIsnchBHzE+tN8TxeK1+OelWvh+5tTq7aIEmvZ4vkXk7nCdPcCuu8ceFvFU3jHRfFHgt7B7ywt3tZLe/JEbo3U5XnNWoPCest8VrDxPetbNDFpP2WcxsQTN3wv938aAMnwr4m8W2WseJfDfi68t7+90uzF3bX8EKxiRWViMoOOCKwrv4k+KYvgH4X8T21xFLrWpaglvKzQoFkDSSqFxjA+6vIrtpPCWpP8QPEGsDyfsuoaUlpD8/zbwGByMcD5hXLt8L9ePwY8K+Fg1r/AGhpOpxXVwfNOzYssjHBxycOKAHjXPiL4U8W6EfFuo2GoaZrVwbd7aC2WM2jlSwAYct0PJr12uR8ceGb/wAQah4cm0/ytmm6kt1P5j4+QIy8ccnLCuuoAKKKKACiiigAooooAKKKKACiiigAooooAKKKKACiiigAooooAKKKKACisPxb4lTwpoTalJbNchZUj8tX2/eYLnOD61tRv5kSvjG5QcUAOooooAKKKKACiiigAooooAKKKKACiiigAooooAKKKKACqOuHb4e1E+lrKf8Axw1eqhr3/Iual/16S/8AoBoAwPhcMfDnSz/eRj/48a66uS+F/wDyTbSf+uR/9CNdbQAUUUUAFFFFABRRRQAUUUUAFFFFABRRRQBwfwk/5F3Uf+wnP/Ou8rg/hJ/yLuo/9hOf+dd5QAUUUUAFFFFABRRRQAUUUUAFFFFABRRRQAUUUUAFFFFADJv+PeT/AHT/ACrzjwBr2m+HvA+oXmr3S28I1W4ALdWORwBXo83/AB7yf7p/lXn3w30uy1bwZqFtqVrHcwtqlxlZFz3H5UAZsPxjtNb8QLZ2U8WlabH8015dZLyAfwoo4BPqc8Zrrx8RvCIH/Idtj/31/hWFD8J7DRdeXUtCWKSB/lnsLtdyMp7q3Yjtx+NdcPC2hY50izH/AGyFAGf/AMLH8I/9B22/8e/wo/4WP4R/6Dtt/wCPf4Vof8ItoX/QIs/+/Io/4RbQv+gRZ/8AfkUAZjfEzwcrYbXrfP0b/Ck/4Wb4N/6D1v8A98v/AIVrr4b0RRhdKswP+uK/4Uv/AAjujf8AQKs/+/C/4UAY/wDws3wb/wBB63/75f8Awo/4Wb4N/wCg9b/98v8A4Vsf8I7o3/QKs/8Avwv+FH/CO6N/0CrP/vwv+FAGP/ws3wb/ANB63/75f/Cj/hZvg3/oPW//AHy/+FbH/CO6N/0CrP8A78L/AIUf8I7o3/QKs/8Avwv+FAGP/wALN8G/9B63/wC+X/wpV+Jfg93CrrtuWY4A2tz+la//AAjujf8AQKs/+/C/4Uo8PaMCCNLswR0/cL/hQBoI6yRq6HKsMg+opaAAqgKMAcACigAoorznxJqHxUbU72TwxpuiwadaMfLF9KzS3ajuu0YXPuaAPRqK5vwD4rPjTwXZa09t9mkmBWSLduCuDg4PcZrZv9V0/S0V9Tv7WzVjhWuJljBPtkigC3RXI+M/iDp/hGDTJDJaXH2+5SIBrpU2xt1kHXIH5e9dAuuaS+n/AG9NTs2s84+0i4Qx5/3s4oAvUVVsdTsNTgM+m31tdxKcGS3mWRR+INV5PEmhwrG02s6fGsrFYy10g3kcYHPJoA0qKimure3tmuLieOKBRuaV3CqB65PFcL4i8WM/jPwlBoGrQz2N7dvFci2kWRJAFJwSM0Ad/RVC913SdNmWHUdUsrSVvupPcIjH6Amp57+ztoo5bm7ghjlIEbySBQ5PQAnrQBYoqpb6tp15FNJaahazxwErK8UysIyOoYg8fjXEfEDxh5NjoEvhjWYJPO163tblrWZJMxskhKHGcZ2j8qAPQqKK5zxP4ksbXw/rEdjq1qmp29lNIkSToZUYISDtznt6UAdHRXMeBtae7+GWh6vrd4vmzWEUtxcTMFBYqCSTwBW1a6zpd9avdWWpWlxbx/flhnV0X6kHAoAu0VDHeWstmLuK5he2K7xMsgKFfXd0x71i/wBp31x4vsksdS0iTR5rNpDCJd1zI+7h0xwUx1PrQB0FFZ9xr+j2l4tpdatYwXLHAhkuUVyf90nNYHjf4gWXg250WGY20janfJbOJLlYzBGwJMpHcDAHYc9aAOvornNS1i5uLvRpfD2raM1lcXQS4M0+5p0xysJXgv7Vr3+r6bpSq2qaha2St903M6xg/TcRQBcoqumoWT2JvUu4GtQu4ziVTHj13Zxiq/8AwkGjfaYrf+1rHzplDRRfaU3SAjIKjOSCPSgDQoqrfapYaXGsmp31tZoxwrXEyxgn0BJFTwzRXEKzW8iSxOMq6MGVh7EUAPpskiQxNJK6xxoCzMxwFHqTTqhvLSC/sprO8jEtvPGY5Yz0ZSMEflQBV/t/R/8AoLWP/gSn+NH9v6P/ANBax/8AAlP8aw/+FXeC/wDoX7b/AL6f/Gj/AIVd4L/6F+2/76f/ABoA3P7f0f8A6C1j/wCBKf40f2/o/wD0FrH/AMCU/wAaw/8AhV3gv/oX7b/vp/8AGj/hV3gv/oX7b/vp/wDGgDc/t/R/+gtY/wDgSn+NH9v6P/0FrH/wJT/GsP8A4Vd4L/6F+2/76f8Axo/4Vd4L/wChftv++n/xoA3P7f0f/oLWP/gSn+NH9v6P/wBBax/8CU/xrD/4Vd4L/wChftv++n/xo/4Vd4L/AOhftv8Avp/8aANz+39H/wCgtY/+BKf40f2/o/8A0FrH/wACU/xrD/4Vd4L/AOhftv8Avp/8aP8AhV3gv/oX7b/vp/8AGgDc/t/R/wDoLWP/AIEp/jWD4n8c2/h6CPULeaz1CyU7biKG4XzUB6Moz830/Wnf8Ku8F/8AQv23/fT/AONc/wCKfhXpV5BHYeGtCs7SSU5lvpGbEK/7Izyx/LrQBU8feMdE8U/Dl5NIvFkf7TAWhbh1/eL1H+Fep23/AB6xf7g/lXi/i34aaP4M8Bvc2xkub4zwK1xIcdZFzgdv1r2i2/49Yv8AcH8qAJKKKKACiiigAooooAKKKKACiiigAooooAKKKKACiiigAqhr3/Iual/16S/+gGr9UNe/5FzUv+vSX/0A0AYPwv8A+SbaT/1yP/oRrra5L4X/APJNtJ/65H/0I11tABRRRQAUUUUAFFFFABRRRQAUUUUAFFFFAHB/CT/kXdR/7Cc/867yuD+En/Iu6j/2E5/513lABRRRQAUUUUAFFFFABRRRQAUUUUAFFFFABRRRQAUUUUAMm/495P8AdP8AKuJ+E3/Ir33/AGFLj+Yrtpv+PeT/AHT/ACrifhN/yK99/wBhS4/mKAO5ooooAKKKKACiiigAooooAKKKKACiiigAooooAK4Hxp4nvNR1BvBng3E2sXKFbq6B/d6fEeC7H+9jovXNd9XnGq/AnwZrGt3eq3aagt1dyGSVor10BJ9hQB2Xhnw/a+FvDlno9hnybWMLuPVj3J9zXn3xK8HSa14rg1mOxsPEMFnamO40a5uPLcck+YvbOPXFd14T8IaZ4M0k6dov2jyC5c/aJjI2T7msvxZ8LvDXjTUY77Wobj7QihN9vO0e4DscdaAPKvEtn4P8Q/DvwjqVlpuy1XUxabbw5eJPMbfETnpuz+GK6b4iad4X0Sy0Hwzpfhf+1Jp5pWstKt5xFCxwu4uScdx+tdze/D3w3f8Ag2PwtNYBdKjwUijO0qwJO4H1ySc+9Zt18IfCV54YtNCntZ2trN2eCTz281C33jv684H5UAedfC1L3S/inr+lz6FB4cjbSBM+mWt4txGrBiA2VJAOCeOv51F8Pfht4c8RfDXWdW1q0a7vDNdLDJI5/wBH25IKehzXqvhr4Z+GvCV693otrJFPJbm3kd5SxdSc856n3rT0Twnpfh7QZtH02ORLSZpGdXcsSX+9zQB4lcznVvAPw30jXbqQaVfXixXcjy7fNCg7UY++K3NZ8I+GPC3xd8Gr4bhis5ZLhvNtYpcgDacNszx9a9Cufhz4cvPBsXhi6s2m02HmIO5Loc5yG6g+9UNE+EPhLw/f2V7p1pMLqykMkU0k5diSMYJPUe1AHmfi2Ox8R+KfEkug+AU8RPYzvBe3+oaikCwSKMHywxHArOnebV/2c/Bkd9NIWk1YwM4kywVZ5EADewAGa9b1n4O+D9d8QS6xf2U32mZt8yxTskcrerKOCavj4beHF8NWGgpbSrYafdG6t41lIKuXL9fTLHigDhPid4Y0jwb4Es9N0G2/s6w1PVbeHUJY3ILpzksffAyfaqHj/wAEeEPC194Pn8NxQ2d3LrVuvkxTZ86PaxMhXPODt+b/AGvevZdc0LT/ABHo82maxbrc2kww6N/MehrkNO+CngzTHt5LeyuGlt7lLmKWW4ZnVlzgZP8ADz0+lAHWeJbm4s/CmrXVkCbmCymkhA7uEJX9QK8P0rwR4NvvgLL4j1Hyv7XlsZJpr9rjEiz7Sdmc+vG2voJlDqVYAqwwQe4rz5vgd4GbUZ7s6bJ+/DbofOPlKT3CdAfegDy7XJ9SuPBXwy0e001dVtbnTkdrKW8W2S4cJwpduPfHet3wN4Z16y+I3l3XhGy8K6Vd2MkVzYwapFOJTjhhGG3d+uK9Pv8A4eeHNS8JWXhy9sjLYWMax22XPmRBRgEN1zjvUHhL4Y+GvBd291o1vMbllK+dczGVgPQE9KAPLIdXu9K8B6p8NlcnVItVOmWq7vnNtIfMV/wVsfhXRtYQ6L8ffDWnwfLBZ+HGiX6K4Gf0rup/AWg3HjiLxbLbMdWijEauHO3A6Er69s1cn8LaZceLrfxJLG51G3tmtY23nbsJyRt9c0AfPXiS3tNd07X9X8OfD9L+zikmWTXL/U0ilikXqUUnOAeg79K2PFGlaXrXgf4Y6lrttDcXF3qNvaXE03WSJlfKE+hIH5V6Jd/BHwTe6xPqE1hNvnLNJCs7CIsep2dM85ra1P4e+HtX8H2/hm+tXfTrbb5KiQh4yOhDdQeetAHEeOdH0zQfEvw70/Q7WK0s49bXbDD91Tg5qHTPD2h+Ovix4sTxlGl9Np8yw2djO/yrDj74X+tdzbfDfw9a2ui28UM+zRbj7TaFpiSH9WP8VQ+LPhZ4W8Zagt9q9pKt2FCme2mMTuB0BI60AeaW1vbaPZ/E/RNBnMmiWlsrW6h9yxSNGC6A+x4xVa4+HPh+z/Z9g8SxwO2tQ2MN2l80hMit8uFB7KAcY9q9isPAXh/TPClx4dsLLybC6QpMFb55M9SW6k+9TzeEdKn8FjwtJHJ/ZYt1ttgkO7YuMfN68CgDznxf4UuPEtxoWs/ZrHxD9m0lDc6LdXHluwYA+cvbPDDnHSu0+GF/pF/4Ftm8P281pawyPEbadtzQuD8y57gE9qg8R/Cfwt4pks5NUguRLZ26W0ckFw0bGNfuqxHXqfzrpdD0PT/DmkQ6Zo9utvawjCov6k+poA0KKKKACiiigAooooAKKKKACiiigAooooAKKKKAOE+MH/Igyf8AX1B/6MWu3tv+PWL/AHB/KuI+MH/Igyf9fUH/AKMWu3tv+PWL/cH8qAJKKKKACiiigAooooAKKKKACiiigAooooAKKKKACiiigAqhr3/Iual/16S/+gGr9UNe/wCRc1L/AK9Jf/QDQBg/C/8A5JtpP/XI/wDoRrra5L4X/wDJNtJ/65H/ANCNdbQAUUUUAFFFFABRRRQAUUUUAFFFFABRRRQBwfwj58M6gw6HU58H8a7yuD+EH/In3f8A2E7j/wBCFd5QAUUUUAFFFFABRRRQAUUUUAFFFFABRRRQAUUUUAFFFFADJv8Aj3k/3T/KuJ+E3/Ir33/YUuP5iu2m/wCPeT/dP8q4n4Tf8ivff9hS4/mKAO5ooooAKKKKACiiigAooooAKKKKACiiigAooooAKKKKACiiigAooooAKKKKACiiigAooooAKKKKACiiigAooooAKKKKACiiigAooooAKKKKACiiigAooooAKKKKACiiigAooooAKKKKACiiigAooooA4T4wf8iDJ/19Qf8Aoxa7e2/49Yv9wfyriPjB/wAiDJ/19Qf+jFrt7b/j1i/3B/KgCSiiigAooooAKKKKACiiigAooooAKKKKACiiigAooooAKoa9/wAi5qX/AF6S/wDoBq/Wd4hOPC+qEdRZzf8AoBoAw/hf/wAk20n/AK5H/wBCNdbXKfDAY+GeiH1t8n/vo11dABRRRQAUUUUAFFFFABRRRQAUUUUAFFFFAHB/CD/kT7v/ALCdx/6EK7yuD+EH/In3f/YTuP8A0IV3lABRRRQAUUUUAFFFFABRRRQAUUUUAFFFFABRRRQAUUUUAMm/495P90/yrifhN/yK99/2FLj+Yrtpv+PeT/dP8q4n4Tf8ivff9hS4/mKAO5ooooAKKKKACiiigAooooAKKKKACiiigAooooAKKKKACiiigAooooAR3WNGdztVRkk9hXjo8QeNPHV3PfeH/FWm+FNKjmaK1jmgjmlutpwSd54BPpXreoRNPpl1FGMvJC6qPcgivnXwp4Y+G958O9RuvFUqxaxYvOsjTXjLLAwJIMaZH8jQB6V488ReJtB0Hw9pthe2cWrarcrazanJHmKIkElwvTtxniqXhjWPGmhfEWHwz4m1u18SW91aSXIuobZYWt9oOAwXjB6c1xzavNffD7wX4W8S3P2Sy1kuJ9Su1zJHGgJQKW+67YADHpW34c/s3wR8WLDRfC2r/wBuWesxN9pWWRZ5bfaOG80fw8fdNAF7RPGev3K+HNfuNV82217UDbSaWYYwlshYgbSBv3L3yxH0rrNM13UfFHjOU6PP5Ph7Sy0M0oQN9tn7gEjhV6ZHU5rn/E2gaV/wkkWieErJYNZvCZbm5V3ZLGJj8zhCdqu3OMAViJqmp6HomsXeiai9haeH9TXT7bSljQxyoAuWckbi7Fi2QR16UAex6jqNppOnzX2ozrb2sC7pJW6KPWq194i0jTdKg1K/v4YLK4ZFinY/K5f7oH1qTU7FNa0C5sp0AS7t2jKt23L/AErw22hm8ZeHNH8DzMz3OjrfPcc9JIAEhz9fPBH+7QB7je63punTWUV7dxwyX0nlWyt1lbBOB+AJriLzxynhfwT4j1m98TWerzWsky2itB5apKAdkB24JOcDP61j+FLweOfG3h24kO+Pw7pjSTf9fD/u1BHrtDmsXRbOG8+E/wAS1nt45ykl68YdA21xG2CM9wehoA3dZ+JNj4q+Cer32i6tENWh03zblbJ2RrdyvOD1GD710PhP4h+Gm0fQ9KvfENs2ry2UO+KSXLs5QZyfXPvXF3Unh+X9mm8OiiwF02iA3P2ZUEmdnO/HOc+tV/Engzw/pv7PenXljpcEN2kFtcC5Vf3vmEAk7uvJPTpQB6lf3ssfxB060XxDDbxSWjs2kGAF7g7v9YH6gDpimXvxJ8H6akjX3iCzhEU7Wz7mOVkUAlcY7ZFcjqjF/j/4SZjknRJCT6/NWX8LPCOha1rfja91bTILyc6xNAGnTftTAPAPAPJ560Aew2N/a6nYxXmnzpcW8y7o5YzkMKsV5x8DlEPgS7t0yIrfVrqKJc/cQMMAV6PQAUUUUAFFFFABRRRQAUUUUAFFFFABRRRQAUUUUAFFFFABRRRQAUUUUAcJ8YP+RBk/6+oP/Ri129t/x6xf7g/lXEfGD/kQZP8Ar6g/9GLXb23/AB6xf7g/lQBJRRRQAUUUUAFFFFABRRRQAUUUUAFFFFABRRRQAUUUUAFZviL/AJFfVf8Arzm/9ANaVZviL/kV9V/685v/AEA0AY3wx/5Jlof/AF7/APsxrq65T4Y/8ky0P/r3/wDZjXV0AFFFFABRRRQAUUUUAFFFFABRRRQAUUUUAcH8IP8AkT7v/sJ3H/oQrvK4P4Qf8ifd/wDYTuP/AEIV3lABRRRQAUUUUAFFFFABRRRQAUUUUAFFFFABRRRQAUUUUAR3BxaykdkP8q4v4TD/AIpK6bu2ozk/mK7O5/49Jv8Acb+Vcb8J/wDkULj/ALCE/wD6EKAO3ooooAKKKKACiiigAooooAKKKKACiiigAooooAydB8R2niEXhso5k+xzmCTzVAyw9ME8VrVwfwv+74g/7CT13TyJEu6R1RemWOBQA6iiigAooooAK5fUPhr4O1XWBquoeH7Oe9B3ecykZPqQDg/lXUVDdXdtY2r3N9cRW0EYy8szhFUepJ4FAFHWPDOi+INNXT9Z023u7VfuxOvC/THSqfh7wH4Y8KStL4e0W2sZGGC8YJb8yTW7DNFcQpNbyJLE43K6MGVh6gjrT6AKVrpFhZahdX1rbJHdXjBp5eS0hAwM5/lVG58HaBd6wdUuNMie8LBzJuYBmAwCVztJ46kVt0UAFZVh4Y0bTNavNWsNPigv73H2idc5k/XHYdK1aKAMvRvDOj+HpLp9FsIrRrx/MnKZ/eNzycn3NOsPD2laXBdw2FjHDFeO0lwgyRIzdSc+taVZ2t6/pvh2yS71i4+zwPKkKtsZsu7BVGAD1JFAGXZfDrwlp9hf2VlodtDb6ipW6jXdiUHsef5Vp3fh7Sr7Ql0a7so5dORFRbck7Qq9B1zxitIHIBHQ0UAZz6Bpcus22qyWcbX1rCYIJ8nKIeqil0vQtM0VrttLtEtjeTG4nKZ/eSEAFjn6CtCqGta3YeH9LfUNWn8i1jZVZ9jNgk4HABPU0ALpOi6doVrJbaTapawyStM6ITguxyzc+tXqbHIssSSRnKOoZT6g06gAooooAKKKRmCKWcgKBkk9qAFqE3dst0tq1xELhl3CIuN5HrjripI5EmjWSJ1dGGQynIP41wV9/wAl007/ALBkn/oQoA7+iiigAooooAKKKKACiiigAooooAKKKKACiiigDhPi9/yJcY9b2D/0YK7eD/j3j/3B/KuI+L3/ACJkX/X7B/6MFdvB/wAe8f8AuD+VAElFFFABRRRQAUUUUAFFFFABRRRQAUUUUAFFFFABRRRQAVm+Iv8AkV9V/wCvOb/0A1pVm+Iv+RX1X/rzm/8AQDQBjfDH/kmWh/8AXv8A+zGurrlPhj/yTLQ/+vf/ANmNdXQAUUUUAFFFFABRRRQAUUUUAFFFFABRRSM21C3oM0AcJ8IP+RPu/wDsJ3H/AKEK7yuE+EIx4NuT/e1G4P8A48K7ugAooooAKKKKACiiigAooooAKKKKACiiigAooooAKKKKAIrn/j0m/wBxv5Vxvwn/AORQuP8AsIT/APoQrsrn/j0m/wBxv5Vxvwn/AORQuP8AsIT/APoQoA7eiiigAooooAKKKKACiiigAooooAKKKKACiiigDyXw7q+raNoniK40LSJNTnGpP8iEfLx1x1P4Vy/hnxh4n8QeMJLi+0+TVbm0BaOx3iNYT03bT1Ir0b4X/d8Qf9hJ66e98N6be6jDqDW6xX0DZjuYvlcexI6j2oA5j/hKvHDAGPwXx/tXKj+tH/CUeO/+hMT/AMCl/wAa7yigDhW8R+P/AODwdb/jer/jSL4h+ITHA8HWo+t8o/rXd0UAYHh3UPEt5NMPEeiwaaigeW0Vysu89+h4rl/i54Th1jwtq+qaheXEkFlp0rQWQbEQkCn94fU+lej15z8Wde1eHQr3QNJ8JatrB1GzkjF1Zx7kiJGPm/OgDqfBH/Ii6N/16J/Ksjx5421Dw1daZpmg6Ump6rqblLeKacRR8DPLE9ah+F+uanqHh+LTdW8Manoj6fAkYe+TaJjj+Gq/xSZ3gtYLnwTP4psGBLC1XM0D9ivpx3oA5f4neI/GV18JJJLnw0NPufP8u+VrkARKD8rIc/OCfSupsPFHji08FNear4OVtSEqQ2tpZXIl8xCo/eMwPyjOc1ylr4X8Xah8E9c0+8trsSyzmXS7C8kLzxQg5WNiec1N4lv/ABl4v+GkP2fw1q2lvbXEaXdiH8ue6iCjdsxzjOeKAOh8NfEDxFL4wh8O+N/DcejXN5C01pJBcCZJApGQSOh5rK/4Wr4s1TWdY0vwp4OGpT6XctHJK8/lxbMAj5j/ABnngelcr4B8Fz2XxQ0fWdM8GatoWn+VMkzahM0rlvl5YE/KDnj159K9D+GOj6hpWreLpNRs5rZLrVPMgaRCPMXb94eooALP4r2cvwtuPF13YzRPbSG3lsl5fzwwXYPXlhXBePfFnjDVPDdhD4p8IHSra61G1eC5hnEoXEqnEgzlSf51oR+Bdc1H4Qa3p8dlJBqceuSX9pDcKU80K6MPwIBxUXijV/Gvjbw/YacPAuoaelte2z3Mk45bbIpyi9SOMk+lAHdeKPE/jGx1JbHwh4R/tVUiV3ubmcQxHI6KT1NUYvipLL8MNW8SPpXkahpEkkF1YyPwkqHBXI7Vx/xJ8PavqHjyZ9c8N634k0SSCNbKDTbho0gfA3FwDxzUOh+Ctc074I+L9H/sO5trm4u5GtbIZkYoegU9W9M96AOz034l67/YV74j8ReGG03Qo7UT2splDTTk9AU6jPGPUGuN8c+NPGOreAZDr/gxtP0y+kha2uYpxIyAuCDIucrkV6B4k8LX2v8AwYh0W3Ty9QSwg2RycYkRF+U/kRXDeINa8ceKvAi6AvgO/s5IPIW5nlHyuFZeYh1PTP0oA9s03/kFWn/XBP8A0EVz/iDX/Eem6p5Gj+G31G32BvPEgXnuMV0NgjR6bbI4KssSgg9jgVYoA4P/AIS7xn/0JUn/AH+H+NH/AAlPjrt4MX/wKH+Nd5RQBwf/AAk/jxuF8GR5/wBq7UD+dIfEXxBIwfBtsR/1+r/jXe0jruQrkjIxkdRQB86zeJPGGi/ECa10Sxa3uZiHl0uGTz03HqcDOP6V3en3Op3fxc0ibXLNLO8bS5N8KPuA+Yd69A0vQtO0cSGxtkjklbdLLjLyN6seprkL7/kumnf9gyT/ANCFAHf0UUUAFFFFABRRRQAUUUUAFFFFABRRRQAUUUUAcJ8Xv+RMi/6/YP8A0YK7eD/j3j/3B/KuI+L3/ImRf9fsH/owV28H/HvH/uD+VAElFFFABRRRQAUUUUAFFFFABRRRQAUUUUAFFFFABRRRQAVm+Iv+RX1X/rzm/wDQDWlWb4jOPC2q5/585v8A0A0AY3wx/wCSZaH/ANe//sxrq65X4YjHwz0PP/Pv/wCzGuqoAKKKKACiiigAooooAKKKKACiiigApsv+pf8A3TTqbL/qX/3TQBw/wi/5Eyb/ALCE/wD6EK7quF+EX/ImTf8AYQn/APQhXdUAFFFFABRRRQAUUUUAFFFFABRRRQAUUUUAFFFFABRRRQBFc/8AHpN/uN/KuN+E/wDyKFx/2EJ//QhXZXP/AB6Tf7jfyrjfhP8A8ihcf9hCf/0IUAdvRRRQAUUUUAFFFFABRRRQAUUUUAFFFFABRRRQBwfwv+74g/7CT13lcH8L/u+IP+wk9d5QAUUUUAFFFFABRRRQAUUVyvw78U3fjDwqdUv4YYZhdTQbYAQuEcqDyTzxQB1VFFFABRWXrOqX2nTWKWOkzaitxP5czRuF+zrj75z1FalABRWZ4j8QWXhbw9d61qnmfZLRQ0nlLubBIHA+pqLXdZvNO8Ntqej6RNrE+EaOzicI7hiOcnIGAc/hQBsUUiEsikjaSMkelLQAUUUUAFFFFABRRRQAUUUUAFcBff8AJdNO/wCwZJ/6EK7+uBvgT8dNOx20uTP/AH0KAO+ooooAKKKKACiiigAooooAKKKKACiiigAooooA4T4vf8iZF/1+wf8AowV28H/HvH/uD+VcR8Xv+RMi/wCv2D/0YK7eD/j3j/3B/KgCSiiigAooooAKKKKACiiigAooooAKKKKACiiigAooooAKyvFP/Io6r/16S/8AoJrVrK8U/wDIo6r/ANekv/oJoAzfhv8A8k40X/r3/qa6euY+G/8AyTjRf+vf+prp6ACiiigAooooAKKKKACiiigAooooAKbL/qX/AN006my/6l/900AcP8Iv+RMm/wCwhP8A+hCu6rhfhF/yJk3/AGEJ/wD0IV3VABRRRQAUUUUAFFFFABRRRQAUUUUAFFFFABRRRQAUUUUARXP/AB6Tf7jfyrjfhP8A8ihcf9hCf/0IV2Vz/wAek3+438q434T/APIoXH/YQn/9CFAHb0UUUAFFFFABRRRQAUUUUAFFFFABRRRQAUUUUAcH8Lfmt9dk7NqcnH0rvK4P4Vf8g/Wv+wnLXeUAFFFFABRRRQAUUUUAeIeE/D2qfE9dR8V3XizWNMuEvpYbG3tJAsVuEOBuQgh/xrD0rxLqXhP9nRXsrmVby41ea2a6hhDuoaYhmVM8tjoPWu+m+D08OtXk2heL9S0jSr+Uy3WnW8akOT12uTlfyq9p/wAJNMtfhs3g+7vZ7iD7Q9xHdKPLkjcvuBHJ5B796APLfDXiBtL8Z6MfDE/ji7F3crFqMWu22YWRurKR9wiu50fxDP4J17xvpGtXU00VsTqthJPIWJilH3Fz2VwRWrovw212z1q0u9c8fanq9tZyiSG0MCwqSOgYgksP51Y8d/C+28ca1puovqMlg1qvlzrHFu+0xbt2wnIwM59etAHCzNrWl+FvAc17qF2LzVdXa6uR5zdJMsE6/dC446U/4nX2jTeMriDU/EviuV4I126d4cix9mPPMh759K9M8U+C4vEs2iOLs2i6RdC4RFj3BwBjb1GPrzXP618Kry78W32ueHfFt7oJ1Pb9vhgt1k87aMDDE/LxQB5nfyXPjP8AZj1DUdW1LUTNpF5IkJL+W0yqyqBMuDu4fOPUCt/x74ebwB+z9qs+i67rU09y1pJ513el3i/eICEIA2jBPFdvpfwrsdP+HOqeELjUJ7u21GaSVp3UB1LbT684Kg1n3PwkvtS+G+oeE9Z8X3WoC6kiMd1LaqPISNgwUKG5zjqTQBV8WLqfjD4g6f4Oh1m60jTVsPtV29m2yac9grdqraPZ6l4C+JyeF4NdvtV0nUdMmukXUJRJLA6A/wAWBnNdT4w+HC+Jbyy1PTNZudE1mxj8qK+t0D5XuCpIB/OmeF/ht/YupXGr63rt1r2szwmD7bcRhPLQ9lQE46+tAHl3g3wfrfjD4bXGvX/jPWYZbV7k2MUE+1U2SMT5hOS+SD3GBgV7F8NdYu9f+G2ianqL+Zcz22ZHx94glc/pTfCXgdPCvgeXw4l81ysnn/vzFtI8xmP3cnpu9ecVoeD/AA6PCXhHT9CW5N0LKMoJimzf8xOcZOOvrQBtUUUUAFFFFABRRRQAVwl0R/wvOzHcaTJ/6Gtd3XAXH/Jerb/sEN/6GKAO/ooooAKKKKACiiigAooooAKKKKACiiigAooooA4T4vf8iZF/1+wf+jBXbwf8e8f+4P5VxHxe/wCRMi/6/YP/AEYK7eD/AI94/wDcH8qAJKKKKACiiigAooooAKKKKACiiigAooooAKKKKACiiigArK8U/wDIo6r/ANekv/oJrVrK8U/8ijqv/XpL/wCgmgDN+G//ACTjRf8Ar3/qa6euY+G//JONF/69/wCprp6ACiiigAooooAKKKKACiiigAooooAKbL/qX/3TTqbL/qX/AN00AcP8Iv8AkTJv+whP/wChCu6rhfhF/wAiZN/2EJ//AEIV3VABRRRQAUUUUAFFFFABRRRQAUUUUAFFFFABRRRQAUUUUARXP/HpN/uN/KuN+E//ACKFx/2EJ/8A0IV2V2cWcx9I2/lXG/Ccf8UbK396+nb/AMeoA7eiiigAooooAKKKKACiiigAooooAKKKKACiiigDg/hV/wAg/Wv+wnLXeVwfwq/5B+tf9hOWu8oAKKKKACiiigAooooAKKKKACiisbxJ4t0Pwjp5vPEGow2cePlEjfM/sq9SfpQBs0V5WPir4i8R8eAvBN/eRN929vx9ngYeoJ61h+L/ABZ8WvDVnp15ejRbNb/UIrBIlHmkPJnBJ9PloA9wory59a+LujjzLzw7pmswr9/7JcBHI9lPU+1WtI+NWhT6kmmeJrW88M6g/Ah1SIxKx9mPH60Aej0UiOsiB42DKwyGByCKWgAooooAKKKKACiiigAooooAK4C4/wCS9W3/AGCG/wDQxXf1wFx/yXq2/wCwQ3/oYoA7+iiigAooooAKKKKACiiigAooooAKKKKACiiigDg/i6c+EbdO738AH/fYruYOLeP/AHR/KuG+Ln/Ir2X/AGEbf/0MV3MP+oj/AN0fyoAfRRRQAUUUUAFFFFABRRRQAUUUUAFFFFABRRRQAUUUUAFZXin/AJFHVf8Ar0l/9BNatZXin/kUdV/69Jf/AEE0AZvw3/5Jxov/AF7/ANTXT1zHw3/5Jxov/Xv/AFNdPQAUUUUAFFFFABRRRQAUUUUAFFFFABUdycWspHXYf5VJUVz/AMek3+438qAOM+Egx4Jb3vZif++q7iuI+Ev/ACJB/wCvyb+ddvQAUUUUAFFFFABRRRQAUUUUAFFFFABRRRQAUUUUAFFFFAEN5/x4XH/XJv5Vx/wm/wCRJP8A1+Tf+hV2F5/x4XH/AFyb+Vcf8Jv+RJP/AF+Tf+hUAdtRRRQAUUUUAFFFFABRRRQAUUUUAFFFFABRRRQBwfwq/wCQfrX/AGE5a7yuD+FX/IP1r/sJy13lABRRRQAUUUUAFFFFABR060V5V4t8T6p418RSeCPAty0Cpxquqxni3Xuin+92oAs+JfiNqOo67L4X+HFquoapH8tzetzBZ9jk9CR6VZ8M/CPTbC9Gs+Kpm8Q6853Pd3Z3Kh9EU8ADtXT+EvCGkeC9Dj0vQ7cRRLy7nl5W7sx7mtygBFUKuFAAHYCvMPjuP+Ke8MN2TxPZMfp89eoV5j8dv+RX8P8A/YxWf/s9AHpwOQCOhrM1zw5pHiXT2stcsIL2Bv4ZUBwfUeh960Y/9Wv0FOoA8in8LeKfhbK174Fkm1nQQd02izuXeIdzETz+Fd54N8a6T430Vb/SJeR8s1u/EkL91YV0NeZeNvA19pWsP41+H4+z6wnzXlmnEd+vcMvTd70Aem0Vzngnxpp3jfQUv7AmOZTsubZ+HgkHVSK6OgAooooAKKKKACiiigArgLj/AJL1bf8AYIb/ANDFd/XAXH/Jerb/ALBDf+higDv6KKKACiiigAooooAKKKKACiiigAooooAKKKKAOD+Ln/Ir2X/YRt//AEMV3MP+oj/3R/KuG+Ln/Ir2X/YRt/8A0MV3MP8AqI/90fyoAfRRRQAUUUUAFFFFABRRRQAUUUUAFFFFABRRRQAUUUUAFZHixtng/Vif+fST/wBBNa9Y3jD/AJEzVv8Ar0k/lQBT+HS7Ph3oyntbj+Zrpa5z4ff8k+0b/r3H8zXR0AFFFFABRRRQAUUUUAFFFFABRRRQAVFc/wDHpN/uN/Kpaiuf+PSb/cb+VAHG/CX/AJEg/wDX5N/Ou3riPhL/AMiQf+vyb+ddvQAUUUUAFFFFABRRRQAUUUUAFFFFABRRRQAUUUUAFFFFAEN5/wAeFx/1yb+Vcf8ACb/kST/1+Tf+hV2F5/x4XH/XJv5Vx/wm/wCRJP8A1+Tf+hUAdtRRRQAUUUUAFFFFABRRRQAUUUUAFFFFABRRRQBwfwq/5B+tf9hOWu8rg/hV/wAg/Wv+wnLXeUAFFFFABRRRQAUUVh+MfFVl4N8L3es6gcrCuIoh96WQ8Kg9yaAOU+Jvi/UI5rfwd4OO/wARasNnmDpZxH70p9MDpXS+CfB1h4I8Nw6Zp67nxuuLhvvzyd2Y1zvwr8K3lpDdeK/Ew8zX9aPmSbh/x7xHlYx6e9eiUAFFFFABXmPx2/5Ffw//ANjFZ/8As9enV5l8dh/xR+jN3XXrRh7HLUAelx/6tfoKdTIDm3jJ6lR/Kn0AFFFFAHkvjnRbvwD4pHxA8KQE28mE1uwjHyzJ/wA9QP7w7/8A1zXpujavZ69o9tqemTCa1uYw8bj09PqKtTQx3EDwzoHjkUqysMgg9q8i8PSzfCn4jyeGL1j/AMIzrkhn0qVultN/HET6Hgj/APXQB7BRRRQAUUUUAFFFFABXAXH/ACXq2/7BDf8AoYrv64C4/wCS9W3/AGCG/wDQxQB39FFFABRRRQAUUUUAFFFFABRRRQAUUUUAFFFFAHB/Fz/kV7L/ALCNv/6GK7mH/UR/7o/lXDfFz/kV7L/sI2//AKGK7mH/AFEf+6P5UAPooooAKKKKACiiigAooooAKKKKACiiigAooooAKKKKACsbxh/yJmrf9ekn8q2axvGH/Imat/16SfyoAq/D7/kn2jf9e4/ma6Ouc+H3/JPtG/69x/M10dABRRRQAUUUUAFFFFABRRRQAUUUUAFRXP8Ax6Tf7jfyqWorn/j0m/3G/lQBxvwl/wCRIP8A1+Tfzrt64j4S/wDIkH/r8m/nXb0AFFFFABRRRQAUUUUAFFFFABRRRQAUUUUAFFFFABRRRQBDef8AHhcf9cm/lXH/AAm/5Ek/9fk3/oVdhef8eFx/1yb+Vcf8Jv8AkST/ANfk3/oVAHbUUUUAFFFFABRRRQAUUUUAFFFFABRRRQAUUUUAcH8Kv+QfrX/YTlrvK4P4Vf8AIP1r/sJy13lABRRRQAUUUUAFeQSA/FT4trHkv4Z8LPvb+7c3fYe4Xk11XxU8VSeGfBzpp/z6rqcgsrGIdTI/GfoBk5+lX/h/4Uj8HeDrTTB81wR5t1J3klbliaAOmAAAAGAOgooooAKKKKACvMvjt/yJuk/9h20/m1em15n8dh/xRWlt2XW7Rj7DLUAekQf8e0X+4P5VJUduc2sRHQoP5VJQAUUUUAFcv8QvCMfjLwjcWAPl3cf7+zmHWOVeVI/lXUUUAcT8LfF0nijwsYdSHlaxpb/ZL+E9Q46N9CB+hrtq8j8WRv8ADr4raf4utgV0bXCLDVVHSOU8xyH8iM9q9bVldFdCGVhkEdxQAtFFFABRRRQAVwFx/wAl6tv+wQ3/AKGK7+uBnUn482+O2jsT/wB/BQB31FFFABRRRQAUUUUAFFFFABRRRQAUUUUAFFFFAHB/Fz/kV7L/ALCNv/6GK7mH/UR/7o/lXDfFz/kV7L/sI2//AKGK7mH/AFEf+6P5UAPooooAKKKKACiiigAooooAKKKKACiiigAooooAKKKKACsbxh/yJmrf9ekn8q2axvGH/Imat/16SfyoAq/D7/kn2jf9e4/ma6Ouc+H3/JPtG/69x/M10dABRRRQAUUUUAFFFFABRRRQAUUUUAFRXRxZzE9PLb+VS1Bff8g65/65N/I0Acf8JR/xQ/1u5iPzrt64r4T/APIix/8AXxL/ADrtaACiiigAooooAKKKKACiiigAooooAKKKKACiiigAooooAhvP+PC4/wCuTfyrj/hN/wAiSf8Ar8m/9CrsLz/jwuP+uTfyrj/hN/yJJ/6/Jv8A0KgDtqKKKACiiigAooooAKKKKACiiigAooooAKKKKAOD+FX/ACD9a/7Cctd5XB/Cr/kH61/2E5a7ygAooooAKKK434p+J28MeBLqW1Ob68ItLRO7SPwP0zQBy+iKfiJ8aLvXX/eaL4YU2llnlZLlvvuPoBj8q9armfh54XTwj4HsNMx+/wBnm3Lnq8rcsT79vwrpqACiiigAooooAK80+O3/ACIdl/2F7X/0I16XXmnx2/5EOy/7C9r/AOhGgD0W0/48YP8Armv8qmqG0/48YP8Armv8qmoAKKKKACiiigDG8XeHbfxX4T1DRrtQVuoiqk/wuOVb8CBXM/CLxFcap4Xl0fViRq+hy/Y7pW+8QPut+IH6V39eTeJv+KB+M2leJIxs0vxD/wAS6/x91ZTzG31JHX0oA9ZooByARyDRQAUUUUAFcI//ACXeP/sCt/6MWu7rhH/5LvH/ANgVv/Ri0Ad3RRRQAUUUUAFFFFABRRRQAUUUUAFFFFABRRRQBwfxc/5Fey/7CNv/AOhiu5h/1Ef+6P5Vwvxa/wCQDpY7HVLfP/fYru4v9Sn+6KAHUUUUAFFFFABRRRQAUUUUAFFFFABRRRQAUUUUAFFFFABWN4w/5EzVv+vST+VbNYfjRivgnVyOv2V/5UAQfD7/AJJ9o3/XuP5mujrn/AahfAekAdPswroKACiiigAooooAKKKKACiiigAooooAKgvv+Qdc/wDXJv5Gp6gvv+Qdc/8AXJv5GgDkfhP/AMiLH/18S/zrta4r4T/8iLH/ANfEv867WgAooooAKKKKACiiigAooooAKKKKACiiigAooooAKKKKAIL040+4J/55N/KuQ+E4/wCKHB7NdzEf99V12of8g25/64v/ACNcn8J/+RCh/wCviX/0I0AdpRRRQAUUUUAFFFFABRRRQAUUUUAFFFFABRRRQBwfwo+bSNXk/vapNx9CK7yuD+E3/IC1X/sKT/zFd5QAUUUUAFeTXx/4T348QWA/eaV4ThE0w6q11J0B9cKB+Neh+KNdg8NeF9Q1e6balrCz/U44H51yfwZ0GbTfBR1bUl/4mevTvqFyT1G8/Kv0CgH8aAPQqKKKACiiigAooooAK81+Ow/4t5C3dNTtmH13V6VXm3x3/wCScp/2Ebb/ANDoA9CsTnT7YnvEv8hU9V7D/kG23/XFP5CrFABRRRQAUUUUAFcx8RPCyeMPAmpaTj9+0fmWzDqsq/MhB7cgD8a6eigDjvhb4nbxT4Cs7m5P+m24NtdL3EicGuxryjQf+KI+OWpaK3yad4kjN5ajoBMvLKPTjNer0AFFFFABXBuwPx5Re40Rs/8Af1a7yuBP/Jfh/wBgM/8Ao0UAd9RRRQAUUUUAFFFFABRRRQAUUUUAFFFFABRRRQBwXxa/5Aelf9hW3/8AQq7uP/VJ/uiuE+LX/ID0r/sK2/8A6FXdx/6pP90UAOooooAKKKKACiiigAooooAKKKKACiiigAooooAKKKKACsLxt/yI+r/9erVu1heNv+RH1f8A69WoAb4F/wCRE0j/AK9lrfrA8C/8iJpH/Xstb9ABRRRQAUUUUAFFFFABRRRQAUUUUAFQX3/IOuf+uTfyNT1Bff8AIOuf+uTfyNAHI/Cf/kRY/wDr4l/nXa1xXwn/AORFj/6+Jf512tABRRRQAUUUUAFFFFABRRRQAUUUUAFFFFABRRRQAUUUUAV9Q/5Btz/1xf8Aka5P4T/8iFD/ANfEv/oRrrNQ/wCQbc/9cX/ka5P4T/8AIhQ/9fEv/oRoA7SiiigAooooAKKKKACiiigAooooAKKKKACiiigDg/hN/wAgLVf+wpP/ADFd5XB/Cb/kBar/ANhSf+YrvKACiimu6xxs7nCqCSfQUAeW/FeV/Evibw94DtGOL2YXl+V/ggQ8fmc16jFEkEKQwqEjjUKqjoABgCvLPhaG8V+NvE/jqcboZrk2Gnk9PJi+XcvsxzXq1ABRRRQAUUUUAFFFFABXm3x2H/Ft1PZdRtifYb69Jrzj47f8kvm/6/Lf/wBGCgDv9POdNtcf88U/kKsVV0z/AJBNp/1wT/0EVaoAKKKKACiiigAooooA82+Nek3J8LW/ibSEzqfh24W+ix/EinLqfbbk13Whavb6/oNlqtk26C7hWVD7EZq3c28V3ay21ygkhmQo6N0ZSMEV5j8G55NFl13wPeuTNol2xt93V4GOVb6c0AepUUUUAFcCf+S/D/sBn/0aK76uBP8AyX4f9gM/+jRQB31FFFABRRRQAUUUUAFFFFABRRRQAUUUUAFFFFAHBfFr/kB6V/2Fbf8A9Cru4/8AVJ/uiuE+LX/ID0r/ALCtv/6FXdx/6pP90UAOooooAKKKKACiiigAooooAKKKKACiiigAooooAKKKKACsLxt/yI+r/wDXq1btYXjb/kR9X/69WoAb4F/5ETSP+vZa36wPAv8AyImkf9ey1v0AFFFFABRRRQAUUUUAFFFFABRRRQAVBff8g65/65N/I1PVfUG26ZdN6Quf/HTQByXwn/5EWP8A6+Jf512tcX8KBjwHCf708h/Wu0oAKKKKACiiigAooooAKKKKACiiigAooooAKKKKACiiigCvqH/INuf+uL/yNcn8J/8AkQof+viX/wBCNdZqH/INuf8Ari/8jXJ/Cf8A5EKH/r4l/wDQjQB2lFFFABRRRQAUUUUAFFFFABRRRQAUUUUAFFFFAHB/Cb/kBar/ANhSf+YrvK4P4Tf8gLVf+wpP/MV3lABXDfF/xFJ4f+Ht2LMn7dfkWlsF+9vfjI+ldzXlOuf8Vl8eNM0cfPYeG4Re3I6jzm5QfligDuPBPhyLwl4K0vRYgAbW3VZCP4pDy5/FiTW9RRQAUUUUAFFFFABRRRQAV5x8dv8Akl83/X5b/wDowV6PXnPx2H/FqLx+6XEDD/v4KAO80z/kE2n/AFwT/wBBFWqqaUc6NZE97eP/ANBFW6ACiiigAooooAKKKKACvKfG3/FH/GDw94qT5LPVD/Zt+ewJ4Rj7DivVq5L4neGT4s+H2padEubkR+dbH0lXlf1FAHW0Vynwy8Uf8Jf8PNK1WRs3DQiO4z1Eq/K/6g11dABXAn/kvw/7AZ/9Giu+rgT/AMl+H/YDP/o0UAd9RRRQAUUUUAFFFFABRRRQAUUUUAFFFFABRRRQBwXxa/5Aelf9hW3/APQq7uP/AFSf7orhPi1/yA9K/wCwrb/+hV3cf+qT/dFADqKKKACiiigAooooAKKKKACiiigAooooAKKKKACiiigArC8bf8iPq/8A16tW7WF42/5EfV/+vZqAG+Bf+RE0j/r2Wt+sDwL/AMiLpH/Xstb9ABRRRQAUUUUAFFFFABRRRQAUUUUAFVdT/wCQTd/9cH/9BNWqq6n/AMgm7/64P/6CaAOW+FP/ACINt/11k/nXZ1xnwp/5EG2/66yfzrs6ACiiigAooooAKKKKACiiigAooooAKKKKACiiigAooooAr6h/yDbn/ri/8jXJ/Cf/AJEKH/r4l/8AQjXWah/yDbn/AK4v/I1yfwn/AORCh/6+Jf8A0I0AdpRRRQAUUUUAFFFFABRRRQAUUUUAFFFFABRRRQBwfwm/5AWq/wDYUn/mK7yuD+E3/IC1X/sKT/zFd5QBW1G+h0zTLm+u3CQW8TSSMewAya86+CVnPeaHqPi/UUK3niK8e6AbqkWfkX6Ywaf8btQnk8L2nhjTWxfeIrpLJMdkJ+bPtjIr0DSdNt9G0e002yXZb2kKwxr6KowP5UAW6KKKACiiigAooooAKKKKACvOvjt/ySXUP+u0H/oxa9Frzr47f8kj1E9hLAT7fvFoA7rSf+QLY/8AXvH/AOgirdU9I50Sx/694/8A0EVcoAKKKKACiiigAooooAKCMgg9DRRQB5T4B/4pL4seJ/CL/Ja3sn9p2C9sPy6r7A16tXlnxdjfw/rnhzxxbKc6bci3uyBy0Dnp9Mk16jFIk0SSxMGR1DKw6EHoaAHVwJ/5L8P+wGf/AEaK76uC2lvj6SP4dDJP/f0UAd7RRRQAUUUUAFFFFABRRRQAUUUUAFFFFABRRRQBwXxa/wCQHpX/AGFbf/0Ku7j/ANUn+6K4T4snOj6Ond9WtwP++q7uPiNfoKAHUUUUAFFFFABRRRQAUUUUAFFFFABRRRQAUUUUAFFFFABXPePf+RC1j/r2NdDXPePf+RC1j/r2NAE3gz/kStK/69lrbrE8Gf8AIlaV/wBey1t0AFFFFABRRRQAUUUUAFFFFABRRRQAVV1P/kE3f/XB/wD0E1aqrqf/ACCbv/rg/wD6CaAOW+FP/Ig23/XWT+ddnXGfCn/kQbb/AK6yfzrs6ACiiigAooooAKKKKACiiigAooooAKKKKACiiigAooooAr6h/wAg25/64v8AyNcn8J/+RCh/6+Jf/QjXWah/yDbn/ri/8jXJ/Cf/AJEKH/r4l/8AQjQB2lFFFABRRRQAUUUUAFFFFABRRRQAUUUUAFFFFAHB/Cb/AJAWq/8AYUn/AJiu8rg/hN/yAtV/7Ck/8xXT+KNdh8M+FtR1m5I2Wdu8uCfvEDhfxOBQB59Yf8Vj+0Bd3p+ew8L25t4vQzt978RXq1effBfQ5tL8ARX9+CdQ1iRr64ZhyS5yAfcA16DQAUUUUAFFFFABRRRQAUUUUAFeefHb/kjes/8AbH/0ateh1558dv8Akjes/wDbH/0atAHbaL/yANP/AOvWP/0EVdqlov8AyANP/wCvWP8A9BFXaACiiigAooooAKKKKACiiigDF8X6FF4l8IalpE4yt1AyA9wccEe9c58Gtfl1r4d2ttfH/iYaQ7addqeqvEdo/wDHdtd7XlGkL/whfx+1PTfuaf4nt1vYB/Cs6/K4+pxmgD1euFT/AJL5J/2AT/6OWu6rhU/5L5J/2AT/AOjloA7qiiigAooooAKKKKACiiigAooooAKKKKACiiigDgfix/yDtC/7DNv/AOhV3qf6tfoK4L4sf8g7Qv8AsM2//oVd6n+rX6CgBaKKKACiiigAooooAKKKKACiiigAooooAKKKKACiiigArnvHv/Ihax/17GuhrnvHv/Ihax/17GgCbwZ/yJWlf9ey1t1ieDP+RK0r/r2WtugAooooAKKKKACiiigAooooAKKKKACqup/8gm7/AOuD/wDoJq1VXU/+QTd/9cH/APQTQBy3wp/5EG2/66yfzrs64z4U/wDIg23/AF1k/nXZ0AFFFFABRRRQAUUUUAFFFFABRRRQAUUUUAFFFFABRRRQBW1L/kE3f/XB/wD0E1yvwo/5J5Z/9dJf/QzXVan/AMgm7/64P/6Ca5X4Uf8AJO7L/rpL/wChmgDs6KKKACiiigAooooAKKKKACiiigAooooAKKKKAOD+E3/IC1X/ALCk/wDMVj/GKR/EGo+HfAlqxJ1i9WS8APS2jO5/5VsfCb/kBar/ANhSf+YrF8Cf8Vd8WvEfi1vntLAf2bYN2OPvMPyx+NAHqcMKW8CQxAKkahVAHQCn0UUAFFFFABRRRQAUUUUAFFFFABXnvx2H/FldffvGkTD3/fJXoVeffHb/AJIj4j/64xf+jkoA7LQju8O6cfW1iP8A44Kv1Q0H/kW9N/69Iv8A0AVfoAKKKKACiiigAooooAKKKKACvNPjXp80Og6d4psB/pnh+7W4yB/yyPD/ANK9Lqpq2nxato91p9woaK5iaNgfcUALpmoQ6rpNrqFscw3UKyoQezDNcen/ACXyT/sAn/0ctZ3wT1KWPw9qHhW/Y/bvDt49sQ3Uwk7o2/EE/lWin/JfJP8AsAn/ANHLQB3VFFFABRRRQAUUUUAFFFFABRRRQAUUUUAFFFFAHA/Fj/kHaF/2Gbf/ANCrvU/1a/QVwXxY/wCQdoX/AGGbf/0Ku9T/AFa/QUALRRRQAUUUUAFFFFABRRRQAUUUUAFFFFABRRRQAUUUUAFc949/5ELWP+vY10Nc949/5ELWP+vY0ATeDP8AkStK/wCvZa26xPBn/IlaV/17LW3QAUUUUAFFFFABRRRQAUUUUAFFFFABVTVjjRb4jqLeT/0E1bqnrH/IDvv+vaT/ANBNAHNfCsY+H9mR3Zyfzrsa4/4Wf8k+svq/867CgAooooAKKKKACiiigAooooAKKKKACiiigAooooAKKKKAK2p/8gm7/wCuD/8AoJrlfhR/yTuy/wCukv8A6Ga6rU/+QTd/9cH/APQTXK/Cj/kndl/10l/9DNAHZ0UUUAFFFFABRRRQAUUUUAFFFFABRRRQAUUUUAef+MZbL4Z/DLW7jS/ME1yzeQrNlmnlIUbfpnOPatb4a+G/+EV8A6dp7j/SDH51w396RuWNch42B8afGTw74Uj+ey0jOrX4HTK8Rj/vo/rXrIGAAOAKACiiigAooooAKKKKACiiigAooooAK8++Ov8AyRHxH/1xj/8ARyV6DXB/G3/ki/iL/rgn/o1KAOs0A58N6bj/AJ9Iv/QBWhWX4Y/5FPSv+vSP/wBBFalABRRRQAUUUUAFFFFABRRRQAUUUUAeTa6v/CE/HrTNaX5NP8TQGyufQTpyrH6g4Fdsvh24HxKbxF5sf2Y6b9k8vndu3hs/TArL+Lvh6TX/AIe3ZtFzfaey31qR1Dx8/wAs1seBvEMfinwTpmrxtlp4R5g7hxw2fxFAG/RRRQAUUUUAFFFFABRRRQAUUUUAFFFFABRRRQBwPxY/5B2hf9hm3/8AQq71P9Wv0FcF8WP+QdoX/YZt/wD0Ku9T/Vr9BQAtFFFABRRRQAUUUUAFFFFABRRRQAUUUUAFFFFABRRRQAVzvj9gvgDWCf8An3P8xXRVzfxD/wCSe6x/17/1FAFrwcpXwZpQPX7MtbVY/hL/AJFDS/8Ar2T+VbFABRRRQAUUUUAFFFFABRRRQAUUUUAFU9Y/5Ad9/wBe0n/oJq5VPWP+QHff9e0n/oJoA5v4Wf8AJPrL6v8AzrsK4/4Wf8k+svq/867CgAooooAKKKKACiiigAooooAKKKKACiiigAooooAKKKKAK2p/8gm7/wCuD/8AoJrlfhR/yTuy/wCukv8A6Ga6rU/+QTd/9cH/APQTXK/Cj/kndl/10l/9DNAHZ0UUUAFFFFABRRRQAUUUUAFFFFABRRRQAVXv72HTdOuL26bbDbxtK59ABk1YrzP4z6nNcaTpvg/TGP2/xFdCA7TysC/NI38v1oAo/A2aPxG3iTxnK2+51S/MIyP9XGnQD2OQfwr1qvJ/2ebRbDwPqdohytvq08YPrt2j+lesUAFFFFABRRRQAUUUUAFFFFABRRRQAVwfxt/5Iv4i/wCuCf8Ao1K7yuG+NKeZ8G/ES5x/o6n/AMiLQB0vhj/kU9K/69I//QRWpWR4TfzPB+ktjGbSP/0EVr0AFFFFABRRRQAUUUUAFFFFABRRRQAjoskbI4DKwIYHuK8f+E2rW+hfEHxb4A87K2l0bu0B/usAXX8Cy/rXsNfL+sR3Wi/GjxZ44smb/iRavaJdIOht5omVyfoQtAH1BRUNpcx3tnDcwMGimQOhHcEZqagAooooAKKKKACiiigAooooAKKKKACiiigDgfix/wAg7Qv+wzb/APoVd6n+rX6CuC+LH/IO0L/sM2//AKFXep/q1+goAWiiigAooooAKKKKACiiigAooooAKKKKACiiigAooooAK5v4h/8AJPdY/wCvf+orpK5v4h/8k91j/r3/AKigC54S/wCRQ0v/AK9k/lWxWP4S/wCRQ0v/AK9k/lWxQAUUUUAFFFFABRRRQAUUUUAFFFFABVPWP+QHff8AXtJ/6CauVT1j/kB33/XtJ/6CaAOb+Fn/ACT6y+r/AM67CuP+Fn/JPrL6v/OuwoAKKKKACiiigAooooAKKKKACiiigAooooAKKKKACiiigCtqf/IJu/8Arg//AKCa5X4Uf8k7sv8ArpL/AOhmuq1P/kE3f/XB/wD0E1yvwo/5J3Zf9dJf/QzQB2dFFFABRRRQAUUUUAFFFFABRRRQAUUUUABIAJJwB1NeT+DEPjb4wa54ul+ew0df7M07PQtnMjj3HA+hrpPit4nfw14Hn+xfNqOoMLOzQdWkfjP4CtHwF4ZTwj4K0/Sl5lRN9w56vK3LE/jx+FAHJfAj/kWdc/7Ddz/MV6hXl/wI/wCRZ1z/ALDdz/MV6hQAUUUUAFFFFABRRRQAUUUUAFFFFABXEfGT/kj3iL/r2H/oa129cR8ZP+SPeIv+vYf+hrQBveD/APkS9I/69I//AEGtmsXwf/yJekf9ekf/AKDW1QAUUUUAFFFFABRRRQAUUUUAFFFFABXkHhHSbfXfiB8XNLvFDQ3c1rE2R0zE+D+B5/CvX68v+G3/ACV74n/9ftn/AOinoAs/BnVrg+HrzwzqjH+0PD9wbVwx5MfVD78V6PXk/i4nwF8XtI8VR/JpeuEabqWOiuf9W5/EcmvVwQygqcgjINAC0UUUAFFFFABRRRQAUUUUAFFFFABRRRQBwPxV/wBR4aHY65bgj15rvV+6PpXBfFX/AFXhn/sOW/8AOu9H3R9KAFooooAKKKKACiiigAooooAKKKKACiiigAooooAKKKKACub+If8AyT3WP+vf+orpK5v4h/8AJPdY/wCvf+ooAueEv+RQ0v8A69k/lWxWP4S/5FDS/wDr2T+VbFABRRRQAUUUUAFFFFABRRRQAUUUUAFU9Y40O/8A+vaT/wBBNXKo65/yL2o/9esv/oBoA534Wf8AJPbH6t/Ouwrkfhd/yTvTf90/zrrqACiiigAooooAKKKKACiiigAooooAKKKKACiiigAooooAran/AMgm7/64P/6Ca5X4Uf8AJO7L/rpL/wChmuo1U40e9I/593/9BNcx8KB/xbbTT3YyE/8AfbUAdlRRRQAUUUUAFFFFABRRRQAUUUUAFFFcd8UPFv8AwiXguea2+bULs/ZrKIdXkbgce1AHKWzn4j/G6WcfPofhIeVGeqy3bfeI/wB0YB+leuVyfw18JDwb4ItLCX5r2XNxeyHq8z8tn6cD8K6ygDy/4Ef8izrn/Ybuf5ivUK8v+BH/ACLOuf8AYbuf5ivUKACiiigAooooAKKKKACiiigAooooAK434uc/CXxDn/n1/wDZhXZVxvxc/wCSS+If+vX/ANmFAGp4G/5EPRv+vRP5VvVgeBv+RD0X/r0T+Vb9ABRRRQAUUUUAFFFFABRRRQAUUUUAFeX/AA2/5K98T/8Ar9s//RT16hXl/wANv+SvfE//AK/bP/0U9AHYeOfC0PjLwZqGizYDTxEwuf4JByjf99AVj/CfxRN4h8Hrb6lldV0tzZ3sbfeDrxk/XGa7ivI9eP8Awrj4w2mvj93oniRha3x/hinP3XPpk9TQB65RQDkZHSigAooooAKKKKACiiigAooooAKKKKAOB+Kv+q8M/wDYct/513o+6PpXBfFX/VeGf+w5b/zrvR90fSgBaKKKACiiigAooooAKKKKACiiigAooooAKKKKACiiigArm/iH/wAk91j/AK9/6iukrmPiOxX4c6yR/wA8P/ZhQBf8Jf8AIoaX/wBeyfyrYrK8LqE8KaYo6C2T+VatABRRRQAUUUUAFFFFABRRRQAUUUUAFUdc/wCRe1H/AK9Zf/QDV6qOuf8AIvaj/wBesv8A6AaAOf8Ahf8A8k703/dP8666uR+F/wDyTvTf90/zrrqACiiigAooooAKKKKACiiigAooooAKKKKACiiigAooooAqat/yBb3/AK95P/QTXM/Cj/kmml/ST/0Nq6bVv+QLe/8AXvJ/6Ca5n4Uf8k00v6Sf+htQB2NFFFABRRRQAUUUUAFFFFABRRRQAjEKpLHAAyTXkWkn/hZ/xfm1gjzPD/hlzb2efuzXP8bj6dPpitn4r+Jry3s7bwp4ccnXdbbyY9h5hjPDSH04711fhDwvZeDvCtlommoBFbRgM2OZHPLMfcnJoA2qKKKAPL/gR/yLOuf9hu5/mK9Qry/4Ef8AIs65/wBhu5/mK9QoAKKKKACiiigAooooAKKKKACiiigArj/iwnmfCjxAoOP9EJ/UV2Fcl8U/+SV+IP8Ar0b+YoAueAX8z4f6IwGM2ifyroa5v4ef8k60P/r0SukoAKKKKACiiigAooooAKKKKACiiigAry/4bf8AJXvif/1+2f8A6KevUK8v+G3/ACV74n/9ftn/AOinoA9QrA8beFbXxp4QvtEvMAXEZEchH+rccq34HBrfooA8/wDhJ4pudX8Py6LrpKa7oj/ZbxHPzNt4D++R3r0CvKPiPZXHgnxbZ/EXR4maJdtvrEEY/wBbD0349RXp9hf22qafBfWEqzW1xGJIpFOQykZBoAsUUUUAFFFFABRRRQAUUUUAFFFFAHA/FX/VeGf+w5b/AM670fdH0rgvir/qvDP/AGHLf+dd6Puj6UALRRRQAUUUUAFFFFABRRRQAUUUUAFFFFABRRRQAUUUUAFcv8Sv+Sb6z/1wH/oQrqK5f4lf8k31n/rgP/QhQBqeGf8AkV9N/wCvZP5VqVl+Gf8AkV9N/wCvZP5VqUAFFFFABRRRQAUUUUAFFFFABRRRQAVR1z/kXtR/69Zf/QDV6qOuf8i9qP8A16y/+gGgDn/hf/yTvTf90/zrrq5H4X/8k703/dP8666gAooooAKKKKACiiigAooooAKKKKACiiigAooooAKKKKAKmrf8gW9/695P/QTXM/Cj/kmml/ST/wBDaum1b/kC3v8A17yf+gmuZ+FH/JNNL+kn/obUAdjRRRQAUUUUAFFFFABRRRQAVkeKPEun+EvD1zq+rShILdCcd3PZR6k1pXV1BY2kt1eSpDBCpeSRzgKB1JryHTYZvjJ41TWL2N08H6RJmygcY+3Sj+Nh3UUAavwt8PX+oXl34+8VRldX1fm2gYf8elv/AAoPQ4xXp1AAAAAwB0AooAKKKKAPL/gR/wAizrn/AGG7n+Yr1CvL/gR/yLOuf9hu5/mK9QoAKKKKACiiigAooooAKKKKACiiigArkvin/wAkr8Qf9ejfzFdbXL/EsA/DLX8jP+hPQBJ8PP8AknWh/wDXoldJXL/DQk/DPQc8/wChrXUUAFFFFABRRRQAUUUUAFFFFABRRRQAV5f8Nv8Akr3xP/6/bP8A9FPXqFeX/Db/AJK98T/+v2z/APRT0AeoUUUUAQ3lpBf2U1peRLLBMhSSNxkMD1BryfwXdzfDHxpL4E1iVjo945m0S5lP3VJyYSfY169XM+PPBlp428OSWE5MN1GfMtLlfvQSDoQaAOmorzv4a+OLq/MvhXxcv2bxNpf7uUNwLtB92VPXIxn/ACB6JQAUUUUAFFFFABRRRQAUUUUAcD8Vf9V4Z/7Dlv8AzrvR90fSuC+Kv+q8M/8AYct/513o+6PpQAtFFFABRRRQAUUUUAFFFFABRRRQAUUUUAFFFFABRRRQAVy/xK/5JvrP/XAf+hCuorl/iV/yTfWf+uA/9CFAGp4Z/wCRX03/AK9k/lWpWX4Z/wCRX03/AK9k/lWpQAUUUUAFFFFABRRRQAUUUUAFFFFABVHXP+Re1H/r1l/9ANXqoa8dvhvUie1pKf8Axw0AYHwv/wCSd6b/ALp/nXXVyXwvGPhzpZ/vRkj8zXW0AFFFFABRRRQAUUUUAFFFFABRRRQAUUUUAFFFFABRRRQBU1b/AJAt7/17yf8AoJrmfhR/yTTS/pJ/6G1dNq3/ACBb3/r3k/8AQTXM/Cj/AJJppf0k/wDQ2oA7GiiigAooooAKKKKACorq7gsbSW6vJkgghUvJI5wqgdyay/FHizSPB+jvqWu3aW8S8IucvK391V6k15tb6P4l+MNzHe+JVm0PwmrB4NNzia8HYyei+1ADLq51D42619g0/wA6x8EWsmbm6+6+okH7i/7Pv/8Aqr12wsLXTLCGysIUgt4VCRxoMBQKLCwtdLsYrOwgSC3hUKkaDAAqxQAUUUUAFFFFAHl3wG+bwlrMo+6+uXQH4EV6jXl/wC/5EfVf+w7ef+hCvUKACiiigAooooAKKKKACiiigAooooAK5f4lf8ky1/8A68n/AJV1Fcz8R0Mnw119R1+wyH9KAGfDT/kmWg/9ea11Ncp8MHEnwv0Bh0NmvX8a6ugAooooAKKKKACiiigAooooAKKKKACvLvhz8nxi+JaHq91aOMenluK9Rry74ff8lo+I3/Xa0/8AQGoA9RooooAKKKKAOI+IfgI+J4IdV0SYWPiLT/ns7teN3+w3qpqPwB8RV8QvJofiGA6X4mshtubOXjzP+mkZ/iU13dcd45+Hln4vSG8tpm03W7Q7rTUIRhkPo3qtAHY0V5b4c+JN/oOsx+F/ifCNP1BjttNTH/HteD/e/hb2P+FeoqwZQykEEZBHegBaKKKACiiigAooooA4D4qHI8LJ3fXrYD8zXfjgCuA+Kf8ArvCP/YwW39a7+gAooooAKKKKACiiigAooooAKKKKACiiigAooooAKKKKACuX+JX/ACTfWf8ArgP/AEIV1Fcv8Sv+Sb6z/wBcB/6EKANTwz/yK+m/9eyfyrUrL8M/8ivpv/Xsn8q1KACiiigAooooAKKKKACiiigAooooAKzvEP8AyLGqf9ecv/oBrRrO8Q/8ixqn/XnL/wCgGgDF+GP/ACTfSP8Arj/U11dcp8Mf+Sb6R/1x/qa6ugAooooAKKKKACiiigAooooAKKKKACiiigAooooAKKKKAKmrf8gW9/695P8A0E1zPwo/5Jppf0k/9Daum1b/AJAt7/17yf8AoJrmfhR/yTTS/pJ/6G1AHY0UUUAFFFc/4r8caB4MsvtGu38cJI/dwg5kkPoqjk0AdBXnni34r2mm6ofD/hO2bxB4hbj7La/MsB9ZGHC49KwmuvHPxXPl2UM/hTwzJ96d+Lm5X2HYGvQPCXgjQ/BWm/ZNDs1iLcyzMMySt6s3U0Acl4Z+GV3fayvif4j3K6prHWC1BzBZj0UdCfevTQAoAUYA6AUUUAFFFFABRRRQAUUUUAeX/AL/AJEfVf8AsO3n/oQr1CvL/gF/yI+q/wDYdvP/AEIV6hQAUUUUAFFFFABRRRQAUUUUAFFFFABXOfEL/knOv/8AXjL/AOgmujrnPiF/yTnX/wDrxl/9BNAFT4V/8kq8Pf8AXmv8zXXVyPwr/wCSVeHv+vNf5muuoAKKKKACiiigAooooAKKKKACiiigAry74ff8lo+I3/Xa0/8AQGr1GvLvh9/yWj4jf9drT/0BqAPUaKKKACiiigAooooAyvEfhnSvFekSadrdolzA44yPmQ+oPY15iJvF/wAHmKzxXHiXwip4lj+a4sl9x3UV7HSEBlIYZB6g0AZHhnxXo3i/SV1DQL6O7gP3tp+ZD6MOoPsa2K808SfChotUfxD8PL3+wda+8yR/6i5Po69Oah0f4uSaVfR6N8TNNfQNQPyrdMM2059Q/QUAeo0UyGeK5hWa3kWWNxlXQ5BFPoAKKKKAOA+Kf+u8I/8AYwW39a7+uA+Kf+u8I/8AYwW39a7+gAooooAKKKKACiiigAooooAKKKKACiiigAooooAKKKKACuT+KH/JM9a/64r/AOhrXWVyfxQ/5JlrX/XFf/Q1oA3NA/5FzT/+vZP/AEEVoVn6B/yLun/9eyf+gitCgAooooAKKKKACiiigAooooAKKKKACs7xD/yLGqf9ecv/AKAa0azvEP8AyLGqf9ecv/oBoAxfhj/yTfSP+uP9TXV1ynwx/wCSb6R/1x/qa6ugAooooAKKKKACiiigAooooAKKKKACiiigAooooAKKKKAIrqD7TZzQZ2+bGyZ9MjFZnhXQR4Z8N22krMZxBu+cjGcsT/WtaSRIkLyuqKOrMcAVxPiH4u+FdAmNql0+p3/QWlgnmvn3xwKAO4rE8R+MNB8KWhuNd1GG1H8KFsu59AOpNcIdU+KPjcbdJsbbwhp0n/LzdDzrkj2XoOPatfw38H/D+j3g1LWDN4h1c8te6m/nEH/ZU/KPbjIoAxH8b+NfHuYPAGkNpOnucHWNRTnHqiHr+NbfhX4R6Pomof2xrUsuv64x3Pf37eYVP+yDwPbvXfABVAUAAcADtS0AFFFFABRRRQAUUUUAFFFFABRRRQB5f8Av+RH1X/sO3n/oQr1CvL/gF/yI+q/9h28/9CFeoUAFFFFABRRRQAUUUUAFFFFABRRRQAVg+OgG+H+vBhkf2fN/6Aa3qwfHP/JP9e/7B83/AKAaAMv4Rkt8I/DhY5P2MfzNdlXGfCH/AJJD4c/68x/M12dABRRRQAUUUUAFFFFABRRRQAUUUUAFeXfD7/ktHxG/67Wn/oDV6jXl3w+/5LR8Rv8Artaf+gNQB6jRRRQAUUUUAFFFFABRRRQAVR1jRNN1/TpLDWbKG9tpBho5kDD689DV6igDyV/h14m8AzNdfDDVGlsMln0O/cvF9EY8rWlovxk05r4aX4ysbjw1qmdpS7GI3Pqr9Oa9IrO1rQNJ8RWLWeuafb30DD7syBsfQ9QfcUAXoZ4riFZbeRZI2GQyHINPryqT4XeIPCVw118MvEc1rBnJ0nUD51ufZSeU/OnRfFnVfD0q23xG8L3OmnOPt1kDLAx9cdQPqaANr4lWdxdzeFfssLy+TrtvJJsGdqjOSfau5rI0PxVofiS2WfRNTt7tG7I4z+XWtegAooooAKKKKACiiigAooooAKKKKACiiigAooooAKKKKACuT+KH/JMta/64r/6GtdZXJ/FD/kmWtf8AXFf/AENaANzQP+Rd0/8A69k/9BFaFZ+gf8i7p/8A17J/6CK0KACiiigAooooAKKKKACiiigAooooAKzvEP8AyLGqf9ecv/oBrRrO8Q/8ixqn/XnL/wCgGgDF+GP/ACTfSP8Arj/U11dcp8Mf+Sb6R/1x/qa6ugAooooAKKKKACiiigAooooAKKQsFUliAB1JrI1Hxf4d0lC2o63YW+3qr3C7vyzmgDYorzq8+OngiB2j0+7u9XlXgx6faPIc/iAKzj8U/F2tnb4Q+HeoSI3SfU5VtgvuVOSaAPVqhubu2s4vMvLiKBP70rhR+ZrzBdF+MHiDnU/EGk+HYW6Lp8LTSqPfdgZqxbfBDS7mXz/Fmt6t4gmP3luJvLib/gC/40AamsfGLwZpEjQrqTahcj/l3sIjM5/Lj9aw28d+P/FXyeC/CC6bbt92/wBakIBHr5a8g/jXeaP4Q8PaBEsej6PaWoXoUiBYfiea2aAPnf4meDfFll4Uj1bxZ4zur+aS8hgNnaJ9nhVXPI4OW/GvZvCvgvw74Y0+EaJpNtbOUBaULukYkc5Y5P61yvx5bHw/tV/v6tbKP++jXpFsu21iU9kA/SgCSiiigAooooAKKKKACiiigAooooAKKKKACiiigDy/4Bf8iPqv/YdvP/QhXqFeX/AL/kR9V/7Dt5/6EK9QoAKKKKACiiigAooooAKKKKACiiigArD8bIX8Ba8q9f7Pn/8ARZrcrG8Yf8iPrv8A2Drj/wBFtQBifB5w/wAH/DbL0NmP/QjXaVw/wY/5Iz4a/wCvMf8AoRruKACiiigAooooAKKKKACiiigAooooAK8u+H3/ACWj4jf9drT/ANAavUa8u+H3/JaPiN/12tP/AEBqAPUaKKKACiiigAooooAKKKKACiiigAooooAKZLDHcRNFPGksbDDI6gg/UGn0UAeJ/GrwBoGheBNU8U+H7aTSNWt/LKzWEzQht0iqcgHHQnpitC10j4r+FrWGbSNasfFFkY1b7PqERimUYzhWU8n3Navx+/5Ilrv0h/8ARyV3ekMX0WzZjkmBMn8BQB55b/GiLT5Bb+NfDOq6BOOGfy/PhHvvXH8q7HRfHHhjxDGH0fW7O53dFEgVvyODW1Pbw3MZjuYY5kPVZFDA/ga4/WvhH4M1uQzS6QlpcnpcWbGF1+mOP0oA7TOelFeWH4V+J9EyfB3j+/gjX7trqEQnU+xfIP6VGdZ+MXh7/j/0DSPEkK/xWFyYHI9TvHWgD1eivLYfjhbWjeV4n8KeINIkH3nNp5sS/wDAwf6Vv6V8XPAusMFtPEdqj9Ck+6Ig++4AUAdnRVa01Gxv1DWN5b3IPQwyq/8AI1ZoAKKKKACiiigAooooAKKKKACuT+KH/JMta/64r/6GtdZXJ/FD/kmWtf8AXFf/AENaANzQP+Rd0/8A69k/9BFaFZ+gf8i7p/8A17J/6CK0KACiiigAooooAKKKKACiiigAornPGFl4tvba2XwXqdhp0gdvtDXkJk3LjgLgcHOa5M+EvilP/wAfPjizi/64WpH9KAPT6iuraO8s5rabPlzRtG+Dg4Iwf515r/wrnxxP/wAfPxK1CL18iICk/wCFRa1L/wAfvxI8QXHrkhf5GgD0PR9JtdC0mDTrAMLe3Xagc5OPrVqWaKFd00iRj1dgK8A+Gvw9/wCE30O+vdd8Raw7wahNbKEuSoKocA/Wu0i+APg1W3Ttqlw3cyXzkH8KAO8n8SaHbf8AHzrOnw/9dLpF/mazLn4jeDbTPneKNJ46hLxGP6E1jQ/BLwJD97RVm/67OWrRt/hZ4Gtf9R4X01D6+SM0AUbn41/D20z5via2OP8Anmjv/wCgqazZPj94Jf8A5Bsuoal6fZbCU5/NRXbW3hPw/aY+zaPZx46bYRWgljaR/wCrtYV/3YwKAPMj8bnuG26V4C8V3R7ObDYh/EmgfED4j6hxo/w1kVT/AB3t9HDj8Ca9TChRhQAPYUtAHlvm/GnUf9Vb+HtIB/57yNLj/vkUf8IN8StT/wCQt8QUsQeo022z/wChYr1KigDy9fghZ3bBtf8AE+uak3U/6T5QP4DNbGn/AAc8D6e4k/sSO6lXpLdMZG/Wu4ooAo2mi6ZYIqWWn20AXpsiUYq9RRQAUUUUAFFFFAHmPx6/5EKx/wCwxa/+hGvS4f8AUp/uj+VeafHr/kQrH/sMWv8A6Ea9Lh/1Kf7o/lQA+iiigAooooAKKKKACiiigAooooAKKKKACiiigDy/4Bf8iPqv/YdvP/QhXqFeX/AL/kR9V/7Dt5/6EK9QoAKKKKACiiigAooooAKKKKACiiigArG8Yf8AIj67/wBg64/9FtWzWT4rAbwZrQPQ6fPn/v21AHO/Bj/kjPhr/rzH/oRruK4X4LEn4O+Hwei25A+m413VABRRRQAUUUUAFFFFABRRRQAUUUUAFeXfD7/ktHxG/wCu1p/6A1eo15d8Pv8AktHxG/67Wn/oDUAeo0UUUAFFFFABRRRQAUUUUAFFFFABRRRQAUUUUAecfH7/AJIlrv0h/wDRyV3Wjf8AIDsv+uCfyFcV8dQD8F9ez/zzj/8ARi12Wgv5nh6wcjG63Q4/CgDQooooAKKKKAGSQxzLtmjWRfRlBFYeqeBfC+tKRqehWM4PXMQH8q36KAPOLv4F+D5m3WS3+mnqv2O7ZAPwqr/wqXXbDnw/8Q9XswOkcyCUH6kmvUaKAPLf7C+MWm/8eXiXQtRQdruB1dvxAxSHxB8YNO/4+PB+maqB1NtqCxZ/Bq9TooA8rPxY8T2P/IZ+GutqR1+xbZ/ywacnx30iP/kJ+G/Emm+v2nTWGPyzXqVMeGKT/WRo3+8oNAHncHx7+HcrbJdca3k7pNaTKR/45WtbfFrwJdY8rxPYD/rpJs/9CxXST6PptyuJ7C2kH+1EtZdz4B8KXeftPh+wkz13QigCWDxt4WucfZ/EmkSZ7LfRE/8AoVaMOradc4+z39rLnp5cyt/I1ys/we8BT5P/AAjNjGT1MUe01nT/AAJ8DTZ22NxD/wBcblloA9GBz0rn/Hel3et+B9T07To/NubiMLGhYLk7gep47Vxx+AnhuE50/UtZtf8Advmb+dc74++Hd54M8B6prukeMNbWayjV0jabIOXA9fegD2fSLeS10azt5xtkihRGGc4IHNXK8k0j4b+LLnRrO8i+JmuRvPAkpidQyqSAfWrn/CCfESD/AI9viE8vp58GaAPT6K8xXw78XIGHkeMNGlH/AE3s2P8ASvTqACiiigAooooAKKKKAGSl1hcxKGkCkqpPU9hXmP8AwlHxc/6EbS//AAP/APr16jRQB5d/wlHxc/6EbS//AAP/APr0f8JR8XP+hG0v/wAD/wD69eo0UAeG+Cofit4M0a40+38H6fcrPeS3Rd70AguQccHtiuh/4Sj4uf8AQjaX/wCB/wD9evUaKAPLv+Eo+Ln/AEI2l/8Agf8A/Xo/4Sj4uf8AQjaX/wCB/wD9evUaKAPLv+Eo+Ln/AEI2l/8Agf8A/Xo/4Sj4uf8AQjaX/wCB/wD9evUaKAPLv+Eo+Ln/AEI2l/8Agf8A/Xo/4Sj4uf8AQjaX/wCB/wD9evUaKAPLv+Eo+Ln/AEI2l/8Agf8A/Xo/4Sj4uf8AQjaX/wCB/wD9evUaKAPLv+Eo+Ln/AEI2l/8Agf8A/Xo/4Sj4uf8AQjaX/wCB/wD9evUaKAPLv+Eo+Ln/AEI2l/8Agf8A/Xo/4Sj4uf8AQjaX/wCB/wD9evUaKAPLv+Eo+Ln/AEI2l/8Agf8A/Xo/4Sj4uf8AQjaX/wCB/wD9evUaKAPLv+Eo+Ln/AEI2l/8Agf8A/Xo/4Sj4uf8AQjaX/wCB/wD9evUaKAPDPG8HxW8a6JDptz4P0+2WG7iug8d6CSUOQOT710K+Jvi4qKv/AAg2l8DH/H//APXr1KigDy7/AISj4uf9CNpf/gf/APXo/wCEo+Ln/QjaX/4H/wD169RooA8u/wCEo+Ln/QjaX/4H/wD16P8AhKPi5/0I2l/+B/8A9evUaKAPLv8AhKPi5/0I2l/+B/8A9ej/AISj4uf9CNpf/gf/APXr1GigDy7/AISj4uf9CNpf/gf/APXo/wCEo+Ln/QjaX/4H/wD169RooA8u/wCEo+Ln/QjaX/4H/wD16P8AhKPi5/0I2l/+B/8A9evUaKAPLv8AhKPi5/0I2l/+B/8A9ej/AISj4uf9CNpf/gf/APXr1GigDy7/AISj4uf9CNpf/gf/APXo/wCEo+Ln/QjaX/4H/wD169RooA8L8D23xW8E6Nc6fbeENPuVuL2W7LyXoBBkIJHB6DFdH/wlHxc/6EbS/wDwP/8Ar16jRQB5d/wlHxc/6EbS/wDwP/8Ar0f8JX8WU5k8CaeR/sX2f616jRQB5d/wmHxU/wChCtP/AAM/+vR/wmHxU/6EK0/8DP8A69eo0UAeXf8ACYfFT/oQrT/wM/8Ar0f8Jh8VP+hCtP8AwM/+vXqNFAHl3/CYfFT/AKEK0/8AAz/69H/CYfFT/oQrT/wM/wDr16jRQB5d/wAJh8VP+hCtP/Az/wCvR/wmHxU/6EK0/wDAz/69eo0UAeXf8Jh8VP8AoQrT/wADP/r1W1PxF8UtS0m7sX8C2qLdQPCWF4MqGUjPX3r1qigDxXwjefE7wj4VstDt/BNvcR2abFkkuwC3OecH3rZ/4TD4qf8AQhWn/gZ/9evUaKAPLv8AhMPip/0IVp/4Gf8A16P+Ew+Kn/QhWn/gZ/8AXr1GigDy7/hMPip/0IVp/wCBn/16P+Ew+Kn/AEIVp/4Gf/Xr1GigDy7/AITD4qf9CFaf+Bn/ANej/hMPip/0IVp/4Gf/AF69RooA8u/4TD4qf9CFaf8AgZ/9ej/hMPip/wBCFaf+Bn/169RooA8u/wCEw+Kn/QhWn/gZ/wDXo/4TD4qf9CFaf+Bn/wBevUaKAPLv+Ew+Kn/QhWn/AIGf/XrmtBHxP0Pxh4g15PBlvK+tvEzxG6AEewEcc9817tRQB5d/wmHxU/6EK0/8DP8A69H/AAmHxU/6EK0/8DP/AK9eo0UAeXf8Jh8VP+hCtP8AwM/+vR/wmHxU/wChCtP/AAM/+vXqNFAHl3/CYfFT/oQrT/wM/wDr0f8ACYfFT/oQrT/wM/8Ar16jRQB5d/wmHxU/6EK0/wDAz/69H/CYfFT/AKEK0/8AAz/69eo0UAeXf8Jh8VP+hCtP/Az/AOvR/wAJh8VP+hCtP/Az/wCvXqNFAHl3/CYfFT/oQrT/AMDP/r0f8Jh8VP8AoQrT/wADP/r16jRQB5d/wmHxU/6EK0/8DP8A69H/AAmHxU/6EK0/8DP/AK9eo0UAeIeNrj4oeM/B99oM3gq2tkvFVTKl2CVwwb19q1tP8S/FOw063tF8CWriGMIGN51wMetes0UAeXf8Jt8TV4f4fxlu+25yP50f8Jv8S/8Aony/+BP/ANevTJbqC3/188cX++4H86ekiSoHjdXU9CpyDQB5h/wm/wAS/wDony/+BP8A9ej/AITf4l/9E+X/AMCf/r16jRQB5d/wm/xL/wCifL/4E/8A16P+E3+Jf/RPl/8AAn/69eo0UAeXf8Jv8S/+ifL/AOBP/wBej/hN/iX/ANE+X/wJ/wDr16jRQB5d/wAJv8S/+ifL/wCBP/16P+E3+Jf/AET5f/An/wCvXqNFAHl3/Cb/ABL/AOifL/4E/wD16P8AhN/iX/0T5f8AwJ/+vXqNFAHl3/Cb/Ev/AKJ8v/gT/wDXo/4Tf4l/9E+X/wACf/r16jRQB5d/wm/xL/6J8v8A4E//AF6P+E3+Jf8A0T5f/An/AOvXqNFAHl3/AAm/xL/6J8v/AIE//XrG8X6n8RfF3hK/0G58Cm3ivUCNLHcAsuGDcZPtXtVFAHk9j4t+JNjp1taJ4ADLbxLEGNwMkKAM9fap/wDhN/iX/wBE+X/wJ/8Ar16jRQByvg7XfE+sSXA8T+HRo6xgGIiXfvNdVRRQAUUUUAFFFFABVLVdY0/Q7MXerXUdrAXWMPJ0LMcAfiau15t8S5F1Pxn4M8PFhtm1AXc6E/ejj5x+YoA7u71nTrDULSwu7uOK6vCRbxN96Qjrir1eWjULXxH+0EhimVrbQNOKkkja0sjHkH26fhXptzC1xbSRJPJbs64EsWNye4yCM/UGgCWiuW/4Q7Uf+h48R/8Akp/8j1b0zw3e6ffJcT+Kda1BFzm3uvs/lt9dkKn9aANLV7e8u9Hu7fS7sWV5LEyw3JQP5TEcNtPXHpXk3xG0q98G+FLa/wDD+varc+KftEMcSveySLdMXAYGEkoBgk8KK9b1PU7PRtMn1DU51t7S3XfLKwOFHrxXkvxW0nS9F8NN488K3ckWtRSJJazCdpln3MAVCOSMEHouKAPW/tS22nLcajJHAFQGVmbCqcc81gP8SPCKXZtW1qHzwAdgRycHvwvT3rmPEMs3iT4geE9B1qPy9Pns3v7m2Jws0qjiNvUAjOKWCf7f+0HEmiBBYaVpBt70wjCB2YsicccZ6dqAPTI5FliSSM5R1DKfUGnUUUAFFFFABRRRQAUUUUAFFFFAFL+2NP8A7a/sj7VH/aHled9nz82zON30yRSWOtadqV5eWljdxzz2Mnl3MaHmJvQ+9ed+GdTtJ/ij438R3sqpDpqR6erk/wAIyxwPcgfWrPwVK3nhzUdclKi51q/lumTPzbd2FP5UAek0Vm6zpU+qwxJbazf6UUYkvY+Vl/Y+YjjH0xWR/wAIdqP/AEPHiP8A8lP/AJHoA6msDxLoF/r1xYR2+sT6fYxOzXkNv8r3AI+VQ45XBz0q9o2lz6VbyR3OsX+qs7bhJe+VuXjoPLRRj6isvxx4uh8J6MkmYmvryQW9nFLIEVpD3JPRQOT/APXoA4zT/t3hz47W+gaLqF9d6Tc6e895bXd09yLdgflYM5LDJ4xmvSdT1zTNGRW1O9itw33Qx5P0A5Ncr4POgaJNHHca5Z6l4i1hyZ54pA7SuFLbQFztVQDj/GsrwS9nqev+JvFPiN4/tFnePbRfaD8tnCn90HpnrnrxQB12keOvDevXiWukapHdTPnaqI/OOvJGK6CvO/gw11ceFL2/nR4ra91Cae0jYY2xljjHsa9EoAKKKKACiiigAoopGYIhY8ADJoApW2s6deX95ZWt3HLc2RAuY1PMRIyM/hS6TrOna5ZtdaRdx3cCyNGZIzxuUkMPwIIryLwl4ltdN+Hfi/xtNIGfVdQupoFz8xAYoqj2wBXb/CXS00f4XaJaB1eVrZbibByQ8v7w59/noA7OisfWNDutVuEktvEOqaUqrtMdl5O1uep8yNjn6Gs7/hDtR/6HjxH/AOSn/wAj0AdTVe9v7TTbZri/uI7eFeryNgU3TbKSwsUt57+5v3XrPdbN7fXYqj9K4G8jTxH8cH0zWQJNP0fTlu7e3k+5JKzAbyOh2igDooviN4TnvTaQ6zE9wGCGNY3JBPTPy101eZ+DLl9V+M3ivUNOIOjx28NqGj+48yYBI7HABHFemUAFFFFABRRRQAUUUUAFFFFABVKHWdPn1ifSobuN763jWSWAH5kVsgE/XBq7Xkfg7XbS3m+IPjW6lGxr020QJycQR/dH1LGgD0/TdZ07WPtH9mXcdyLaUwy7D9xx1U+9Xa4D4L2qwfDq3uGcGfUZZL2VcgsN7cZ/Ku/oAKKKKACiiigAooooAKKKKAMi78TafZ+KbLw/KZDf3sLTRKqZUIvUk9qbYeKdO1HxTqegWpla90tI2uSU+Rd4yoB7nFef2uv6dJ8evEN5f3MajSNPitrZScs7H5nCjvyccVL8HL6HUtR8U6pdsI9S1HVpf9HP34oowqKG9DxQB6pXI+Itb1Cx+IfhXTLWfZaX5uPtMexTv2ICvJGRg+ldFqmk2ms2RtL9ZWhLBsRTvE2R/tIQf1ry7xP4I0O3+Jvg+1iivBFcG68wNqVwxOEBGGMmV/AigD12q9/f2ml2Mt5qFxHb20KlpJZDgKKpaN4a0zQXkbTUuFMow3nXk035eYzY/CuP+Kg83UPCtvqHGiyaqhviw+QgAlQ/+zuAzmgDRk+KGlC7tbe20zWLtrwE2zQ2gKzYGTtyw7V1tlcm8s4rgwTW5kUN5U67XT2IycGvNNbuk8XfFfwzZ+HnE9nojtd3dzDzGnGAgYcEn0FepUAFFFFABRRRQAUUUUABIVSTwByTXPaf420jUvD+o6zbtMLLTppYZXePG4xnDFeeRnoas+LtVTRPB+qalIQBb2ztz9K8WudXtdK/Zv07SLKcXFzqKqLuWNs+T5spZy5HQ5OMGgD3PRtWt9d0W11SyEi291GJIxKu1sHpkVerN8PC0j8PWMGnyLLb28CQo6dDtAHHr0qpqfg3RdXvmu76O7aZgATFqFxEv/fKOB+lAFD4ea1f65pGpTapP58kGqT28Z2Ku1FI2jgD1611leSfDPwPod/ouqvcxXpaPV7iNdmpXKfKCMcLIMn3616ta20dnax28AYRxKFUM5c4HqSST+NAHNXngXQJ9W1HWdej/tIXCgmK/Ikht1UY+RSML6561y3wNhu4tG16QNL/AGHJq050gSsSBbhsLtzzt4qp4/8AiD4dufGB8Ja3rselaZahZNQf5t9weohUqDgf3vyrWvvG2l+Ivhv4iT4dSGc6ba+VC8EW1M7Rwg68A+lAGxqvxN0HTI7qVFvNQis3CXEtlB5iRNnGCSQOpHSt3RNa/tu2aYadfWKjG0XkQQuCOowTkV5Xr2oaWvwRsPCvhd47jUtVtYYEgt8O6u2Gkd/Q5zknua9a0a0fT9BsLOZt0lvbRxO2epVQCf0oAu0UUUAFFFFABRRRQAUUUUAFUrnWNPs9UtdOubqOO8vM+RCT80mBk4q7XmRuoNT/AGgp5LiRFh8PaTnc7ABWk6/oaAO/i1rTptan0iK7jfULeNZZbcH5kVuhP1q9XmHwvuode8Y+L/Eu4D7VffZLYMcM0UQABx17dK9C1bT5dSsTb2+pXemvuDefZ+Xv47fOrDB+lAGRrniO50vxl4d0eGKJ4NV+0ea7g7k8sIRt5x/Gc5zXSV5H4o8MX0PxI8HQN4t1yZphd7ZpPs2+HAi+7iEDnPOQegxivRtG0W50ppTc69qWqiQDAvvJxHj08uNOvvnpQA3xNpepaxpItNI1VtKkaVDJOkYZjGD8yjPQkcZ7V51r1vdeFfiJ4WtfCOp6hdS3t0I9StLi9kuUMH8chDlthHtivTNa1nS9GtYm1q7S1hupRbIzkjc7cBcjpn1ryrxdpUHgHx14X1LwY832rV9SS0vbR5mm86Bslmy5LDHqDgUAeuX+pWWl25n1G5jt4s43SNjP+NYlp8Q/Ct9fCztNYjluC4j8tY3yG9D8vFc3BHF4i+NOqrrgV7bQ7WM2dtKfkDMAWkIPBP4cUnw7un1b4ieM9VsTnSHuEghZPuSSRqFZl9enWgD0qiiigAooooAK89vvB7+JPi3dXviHSjLpFpp8cdhcecVzKWy2NrBhivQqKAMVPB2gR6vFqkemQpeRII1lUkfKOgIzg/UitqiigAooooAhu7S3v7SS1vIUmglXa8bjIYehrBs/h94XsLqO4ttJjDxNujDyu6ofUKzFR+VdJRQBmax4d0rX0jXVrNZ/KOY2DMjJ9GUgj86fpGg6ZoNs0GkWcdqjHc23JLH1JPJP1NaFFABRRRQAUUUUAFFFFABRRRQAUyZnSCRok3uqkqmcbjjgU+igDzz4d+Arex0r+0vEWkLFrc87yzl5C2cn5cgMVOK67RPDGj+HEkTRLFLRZCSwVmPvxknA9hWrRQAUUUUAFYPiXwR4c8YeR/wkulx6h9n3eUJHYBM4z0I9BW9RQByeh/C/wZ4a1aPU9D0C3s7yIEJMjOSMjB6kjpV2/wDA3hvVL57u+0uOSaQ5kId1WT/eUEBvxFb9FADIYIraFIbeNYokG1URcBR6AU+iigAooooAKKKKACsbxcNRbwdqq6Hbm41BrWRbeIMF3OVOBk8da2aKAOI8HfDjQ9J8H2dnd6PGtxJZJFeRu5cFto38ZwCTnJFdRo+iadoFgtlpFsttbr0QMW/Ukmr9FABRRRQAVkax4V0XXpkm1WxWaVBtWRXaNsemVIJHtWvRQBU0zSrDRrJbTS7WO1gXokYx+PvVuiigAooooAKKKKACiiigAooooAp6ubkaLe/YIjLdeQ/koCBufacDJ96434f/AA+07S/Clo+saOkWq3ET/bUeQuCzsd2RkrnBxkV31FAGbonh7SvDlobbRbNbWEnJRWJ/mTx7VpUUUAFFFFABRRRQAUUUUAFBzg469qKKAOO8FeDptHOpXfiCGxudQu9Rmu0njTeUV3JUbmUEYGK6qCws7WaSW2tYIZJTmR44wpc+pI61PRQAVG9vDJNHNJDG8sWfLdlBZM9cHtUlFABUdxbQXcLQ3UMc0TfeSRAyn8DUlFAEFpY2lhGY7G1htkPJWGMIPyFT0UUAFFFFABRRRQAUUUUAct8RfD2p+KPB8mlaNLbxSzTR+YbhiFMYbLDgHnFbkei6XFavbR6baJBIcvGIFCufcY5q7RQAyKKOCJYoY1jjUYVEXAA9hT6KKAI4beG2Vlt4Y4lZizBFCgk9Tx3qSiigDPn0DRrqdprnSbGaVzlnktkZmPuSKntNNsdPjZLCyt7VHOWWGJUDfUAVZooAqW+k6daTtPaWFrBK33pI4VVj+IFW6KKACiiigAooooAKKKKACiiigArzrwn4GS617W9c8V6OEv7jUHa3ZpScw5+UEK2CPY16LRQBk6b4W0XSNRub/TdPjt7m6cySupPzMepwTgZ9gK1qKKAKd1pNje6jZ391brJdWW/7PKScx78bsfXaPyq5RRQBS1bRtO12xNnq9pHd25IbZIOhHQj0NUNL8F+H9GvBd6fpypcKMLJJI8jKPYuTj8K3KKAMbV/COh67dC51OwWWcLt8xZHjYj0JUjI+taGnabZ6TYx2em20dtbxjCRxrgCrNFABRRRQAUUUUAFFFFABRRRQAUUUUAFFFFABRRRQAUUUUAFFFFABRRRQAUUUUAFFFFABRRRQAUUUUAFFFFABRRRQAUUUUAFFFFABRRRQAUUUUAFFFFABRRRQAUUUUAFFFFABRRRQAUUUUAFFFFABRRRQAUUUUAFFFFABRRRQAUUUUAFFFFABRRRQAUUUUAFFFFABRRRQAUUUUAFFFFABRRRQAUUUUAFFFFABRRRQAUUUUAFFFFABRRRQAUUUUAFFFFABRRRQAUUUUAFFFFABRRRQAUUUUAFFFFABRRRQAUUUUAFFFFAH/9k=)"
      ]
    },
    {
      "cell_type": "markdown",
      "metadata": {
        "id": "xZ9TIZS6yadw"
      },
      "source": [
        "**Central Limit Theory**"
      ]
    },
    {
      "cell_type": "markdown",
      "metadata": {
        "id": "ELMClwU7yeI-"
      },
      "source": [
        "As we mentioned, if we use the sample to estimate the confidence interval of the population, the 95% confidence interval is: "
      ]
    },
    {
      "cell_type": "markdown",
      "metadata": {
        "id": "MXD_E7vyyfim"
      },
      "source": [
        "$$ (\\mu-1.96*SE,\\mu+1.96*SE) $$"
      ]
    },
    {
      "cell_type": "markdown",
      "metadata": {
        "id": "rg0w0wWcyqXP"
      },
      "source": [
        "Now you may have some sense to the number 1.96. It's the 95% critical value of a normal distribution. Does this means we assume the mean of sample follows a normal distribution? The answer is yes. This assumption is supported by central limit theorem. This theorem tells us that given a sufficiently large sample size from a population with a finite level of variance, the mean of all samples from the same population will be approximately equal to the mean of the population, and the means of the samples will be approximately normal distributed. This is the foundation of population mean confidence interval estimation. "
      ]
    },
    {
      "cell_type": "markdown",
      "metadata": {
        "id": "eFGnQifbysuh"
      },
      "source": [
        "###**Hypothesis testing**"
      ]
    },
    {
      "cell_type": "markdown",
      "metadata": {
        "id": "yqMRVRmUyvuu"
      },
      "source": [
        "Now we can talk about hypothesis testing. Hypothesis test is essentially test your inference based on a sample. Let's use our dataset, the daily return of S&P 500 us our population. Assume that we don't know the mean of this population. I guess that the mean of this population is 0. Is my guess correct? I need to test this hypothesis with my sample. Let's start from observing our sample: "
      ]
    },
    {
      "cell_type": "code",
      "metadata": {
        "colab": {
          "base_uri": "https://localhost:8080/"
        },
        "id": "njVn0cnRyxTE",
        "outputId": "b9d536cb-a608-43e2-fef3-a6fc45da05f4"
      },
      "source": [
        "mean_1000 = np.mean(spy_log_return.tail(1000))\n",
        "std_1000 = np.std(spy_log_return.tail(1000))\n",
        "mean_10 = np.mean(spy_log_return.tail(10))\n",
        "std_10 = np.std(spy_log_return.tail(10))\n",
        "s = pd.Series([mean_10,std_10,mean_1000,std_1000],index = ['mean_10', 'std_10','mean_1000','std_1000'])\n",
        "print(s)"
      ],
      "execution_count": 16,
      "outputs": [
        {
          "output_type": "stream",
          "text": [
            "mean_10      0.000432\n",
            "std_10       0.022487\n",
            "mean_1000    0.000197\n",
            "std_1000     0.017396\n",
            "dtype: float64\n"
          ],
          "name": "stdout"
        }
      ]
    },
    {
      "cell_type": "markdown",
      "metadata": {
        "id": "O558a5KDy4Vb"
      },
      "source": [
        "We know how to calculate the confidence interval now. If I were right, i.e. the population mean is 0, then the 90% confidence interval of the sample with 1000 observations should be: "
      ]
    },
    {
      "cell_type": "code",
      "metadata": {
        "colab": {
          "base_uri": "https://localhost:8080/"
        },
        "id": "lAlStCX9y5Hv",
        "outputId": "5c0718ac-f98f-418f-fea8-d8eeaf4a525b"
      },
      "source": [
        "bottom = 0 - 1.64*std_1000/np.sqrt(1000)\n",
        "upper = 0 + 1.64*std_1000/np.sqrt(1000)\n",
        "print((bottom, upper))"
      ],
      "execution_count": 17,
      "outputs": [
        {
          "output_type": "stream",
          "text": [
            "(-0.0009021583516736037, 0.0009021583516736037)\n"
          ],
          "name": "stdout"
        }
      ]
    },
    {
      "cell_type": "markdown",
      "metadata": {
        "id": "TDqBEIwAy8Tf"
      },
      "source": [
        "Our mean of the sample is out of the 90% confidence interval. This means on a 90% confidence level, we can claim that the mean of our population is not 0. In other word, we rejected the hypothesis that the daily return on S&P500 from aug 2010 is zero. Can we claim that with 95% confidence level? "
      ]
    },
    {
      "cell_type": "code",
      "metadata": {
        "colab": {
          "base_uri": "https://localhost:8080/"
        },
        "id": "RoZMf9Dby9Kt",
        "outputId": "c7d66d87-f702-4f82-832f-29f556525ca0"
      },
      "source": [
        "bottom = 0 - 1.96*std_1000/np.sqrt(1000)\n",
        "upper = 0 + 1.96*std_1000/np.sqrt(1000)\n",
        "print((bottom, upper))"
      ],
      "execution_count": 18,
      "outputs": [
        {
          "output_type": "stream",
          "text": [
            "(-0.001078189249561136, 0.001078189249561136)\n"
          ],
          "name": "stdout"
        }
      ]
    },
    {
      "cell_type": "markdown",
      "metadata": {
        "id": "OUGOUNk3zAKA"
      },
      "source": [
        "This time the sample mean is within the confidence interval. Thus we can't reject my hypothesis. In other words, we can't claim with 95% confidence level that the mean return is positive. Even though we can claim it with 90% confidence level. We have actually already finished a hypothesis testing above! In general, we have null hypothesis H0 and alternative hypothesis. They are usually in the following forms: "
      ]
    },
    {
      "cell_type": "markdown",
      "metadata": {
        "id": "8vJGDYRNzA6U"
      },
      "source": [
        "$$ H_0 : \\bar{\\mu} = 0 $$\n",
        "$$ H_0 : \\bar{\\mu} \\neq 0 $$"
      ]
    },
    {
      "cell_type": "markdown",
      "metadata": {
        "id": "qgWKBQrWzfY2"
      },
      "source": [
        "If the tested value is outside the confidence interval, we reject the null hypothesis, or accept the alternative hypothesis; If the tested value is within the confidence interval, we can't reject the null hypothesis. Although the hypothesis testing method we used above is straightforward, it's not so convenient to implement. Instead, we reverse the process to calculate the critical value, or Z-score. Z-score is defined as: "
      ]
    },
    {
      "cell_type": "markdown",
      "metadata": {
        "id": "Bk5U5lKSzhH2"
      },
      "source": [
        "$$ Z = \\frac{X-\\mu}{\\frac{\\sigma}{\\sqrt{n}}} $$"
      ]
    },
    {
      "cell_type": "markdown",
      "metadata": {
        "id": "0duehYczzz34"
      },
      "source": [
        "Let's calculate the Z score from our sample: "
      ]
    },
    {
      "cell_type": "code",
      "metadata": {
        "colab": {
          "base_uri": "https://localhost:8080/"
        },
        "id": "NuicS3oCz1hd",
        "outputId": "49c894d3-eea1-409b-a781-49c639776113"
      },
      "source": [
        "print(np.sqrt(1000)*(mean_1000 - 0)/std_1000)"
      ],
      "execution_count": 19,
      "outputs": [
        {
          "output_type": "stream",
          "text": [
            "0.3578393385239956\n"
          ],
          "name": "stdout"
        }
      ]
    },
    {
      "cell_type": "markdown",
      "metadata": {
        "id": "tE4GYauUz4g8"
      },
      "source": [
        "We know that the critical value for the 90% confidence level is 1.64 and that for the 95% confidence level is 95%. The higher the Z score is, the further the tested value is from the hypothesized value(which is 0 in this example). Thus with 90% confidence level, we are far away enough from zero and we reject the null hypothesis. However with 95% confidence level, we are not far away enough from zero, so we can't reject the null hypothesis. One reason of doing in this way is that we can know how wide our confidence interval is. In our example, the z-score is 1.8488. We can know the width is the confidence interval referring to a normal distribution table. Of course we can do this in Python: "
      ]
    },
    {
      "cell_type": "code",
      "metadata": {
        "colab": {
          "base_uri": "https://localhost:8080/"
        },
        "id": "QvkwCL-ez6Eu",
        "outputId": "f1b0f329-4925-45e0-c4e0-3a2b8cdf9573"
      },
      "source": [
        "import scipy.stats as st\n",
        "print((1 - st.norm.cdf(1.9488)))"
      ],
      "execution_count": 20,
      "outputs": [
        {
          "output_type": "stream",
          "text": [
            "0.02565965688799665\n"
          ],
          "name": "stdout"
        }
      ]
    },
    {
      "cell_type": "markdown",
      "metadata": {
        "id": "QxyAH5ZAz-OO"
      },
      "source": [
        "It's worth noting that st.norm.cdf will return the probability that a value take from the distribution is less than our tested value. In other words, 1 - st.norm.cdf(1.9488) will return the probability that the value is greater than our tested value, which is 0.025659 in this example. This calculated number is called p-value. If our confidence level our confidence interval is 95%, then we have 2.5% on the left side and 2.5% on the right side. This is called two-tail test. If our null hypothesis is μ=0, we are conducting two-tail test because the tested sample mean can be either positive enough or negative enough to reject the null hypothesis. We can see it from the chart: "
      ]
    },
    {
      "cell_type": "markdown",
      "metadata": {
        "id": "u4yd-jlVz_Du"
      },
      "source": [
        "![Captura2.JPG](data:image/jpeg;base64,/9j/4AAQSkZJRgABAQEAkACQAAD/4RDcRXhpZgAATU0AKgAAAAgABAE7AAIAAAAGAAAISodpAAQAAAABAAAIUJydAAEAAAAMAAAQyOocAAcAAAgMAAAAPgAAAAAc6gAAAAgAAAAAAAAAAAAAAAAAAAAAAAAAAAAAAAAAAAAAAAAAAAAAAAAAAAAAAAAAAAAAAAAAAAAAAAAAAAAAAAAAAAAAAAAAAAAAAAAAAAAAAAAAAAAAAAAAAAAAAAAAAAAAAAAAAAAAAAAAAAAAAAAAAAAAAAAAAAAAAAAAAAAAAAAAAAAAAAAAAAAAAAAAAAAAAAAAAAAAAAAAAAAAAAAAAAAAAAAAAAAAAAAAAAAAAAAAAAAAAAAAAAAAAAAAAAAAAAAAAAAAAAAAAAAAAAAAAAAAAAAAAAAAAAAAAAAAAAAAAAAAAAAAAAAAAAAAAAAAAAAAAAAAAAAAAAAAAAAAAAAAAAAAAAAAAAAAAAAAAAAAAAAAAAAAAAAAAAAAAAAAAAAAAAAAAAAAAAAAAAAAAAAAAAAAAAAAAAAAAAAAAAAAAAAAAAAAAAAAAAAAAAAAAAAAAAAAAAAAAAAAAAAAAAAAAAAAAAAAAAAAAAAAAAAAAAAAAAAAAAAAAAAAAAAAAAAAAAAAAAAAAAAAAAAAAAAAAAAAAAAAAAAAAAAAAAAAAAAAAAAAAAAAAAAAAAAAAAAAAAAAAAAAAAAAAAAAAAAAAAAAAAAAAAAAAAAAAAAAAAAAAAAAAAAAAAAAAAAAAAAAAAAAAAAAAAAAAAAAAAAAAAAAAAAAAAAAAAAAAAAAAAAAAAAAAAAAAAAAAAAAAAAAAAAAAAAAAAAAAAAAAAAAAAAAAAAAAAAAAAAAAAAAAAAAAAAAAAAAAAAAAAAAAAAAAAAAAAAAAAAAAAAAAAAAAAAAAAAAAAAAAAAAAAAAAAAAAAAAAAAAAAAAAAAAAAAAAAAAAAAAAAAAAAAAAAAAAAAAAAAAAAAAAAAAAAAAAAAAAAAAAAAAAAAAAAAAAAAAAAAAAAAAAAAAAAAAAAAAAAAAAAAAAAAAAAAAAAAAAAAAAAAAAAAAAAAAAAAAAAAAAAAAAAAAAAAAAAAAAAAAAAAAAAAAAAAAAAAAAAAAAAAAAAAAAAAAAAAAAAAAAAAAAAAAAAAAAAAAAAAAAAAAAAAAAAAAAAAAAAAAAAAAAAAAAAAAAAAAAAAAAAAAAAAAAAAAAAAAAAAAAAAAAAAAAAAAAAAAAAAAAAAAAAAAAAAAAAAAAAAAAAAAAAAAAAAAAAAAAAAAAAAAAAAAAAAAAAAAAAAAAAAAAAAAAAAAAAAAAAAAAAAAAAAAAAAAAAAAAAAAAAAAAAAAAAAAAAAAAAAAAAAAAAAAAAAAAAAAAAAAAAAAAAAAAAAAAAAAAAAAAAAAAAAAAAAAAAAAAAAAAAAAAAAAAAAAAAAAAAAAAAAAAAAAAAAAAAAAAAAAAAAAAAAAAAAAAAAAAAAAAAAAAAAAAAAAAAAAAAAAAAAAAAAAAAAAAAAAAAAAAAAAAAAAAAAAAAAAAAAAAAAAAAAAAAAAAAAAAAAAAAAAAAAAAAAAAAAAAAAAAAAAAAAAAAAAAAAAAAAAAAAAAAAAAAAAAAAAAAAAAAAAAAAAAAAAAAAAAAAAAAAAAAAAAAAAAAAAAAAAAAAAAAAAAAAAAAAAAAAAAAAAAAAAAAAAAAAAAAAAAAAAAAAAAAAAAAAAAAAAAAAAAAAAAAAAAAAAAAAAAAAAAAAAAAAAAAAAAAAAAAAAAAAAAAAAAAAAAAAAAAAAAAAAAAAAAAAAAAAAAAAAAAAAAAAAAAAAAAAAAAAAAAAAAAAAAAAAAAAAAAAAAAAAAAAAAAAAAAAAAAAAAAAAAAAAAAAAAAAAAAAAAAAAAAAAAAAAAAAAAAAAAAAAAAAAAAAAAAAAAAAAAAAAAAAAAAAAAAAAAAAAAAAAAAAAAAAAAAAAAAAAAAAAAAAAAAAAAAAAAAAAAAAAAAAAAAAAAAAAAAAAAAAAAAAAAAAAAAAAAAAAAAAAAAAAAAAAAAAAAAAAAAAAAAAAAAAAAAAAAAAAAAAAAAAAAAAAAAAAAAAAAAAAAAAAAAAAAAAAAAAAAAAAAAAAAAAAAAAAAAAAAAAAAAAAAAAAAAAAAAAAAAAAAAAAAAAAAAAAAAAAAAAAAAAAAAAAAAAAAAAAAAAAAAAAAAAAAAAAAAAAAAAAAAAAAAAAAAAAAAAAAAAAAAAAAAAAAAAAAAAAAAAAAAAAAAAAAAAAAAAAAAAAAAAAAAAAAAAAAAAAAAAAAAAAAAAAAAAAAAAAAAAAAAAAAAAAAAAAAAAAAAAAAAAAAAAAAAAAAAAAAAAAAAAAAAAAAAAAAAAAAAAAAAAAAAAAAAAAAAAAAAAAAAAAAAAAAAAAAAAAAAAAAAAAAAAAAAAAAAAAAAAAAAAAAAAAAAAAAAAAAAAAAAAAAAAAAAAAAAAAAAAAAAAAAAAAAAAAAAAAAAAAAAAAAAAAAAAAAAAAAAAAAAAAAAAAAAAAAAAAAAAAAAAAAAAAAAAAAAAAAAAAAAAAAAAAAAAAAAAAAAAAAAAAAAAAAAAAAAAAAAAAAAAAAAAAAAAAAAAAAAAAAAAAAAAAAAAAAAAAAAAAAAAAAAAAAAAAAAAAAAAAAAAAAAAAAAAAAAAAAAAAAAAAAAAAAAAAAAAAAAAAAAAAAAAAAAAAAAAAAAAAAAAAAAAAAAAAAAAAAAAAAAAAAAAAAAAAAAAAAAAAAAAAAAAAAAAAAAAAAAAAAAAAAAAAAAAAAAAAAAAAAAAAAAAAAAAAAAAAAAAAAAAAAAAAAAAAAAAAAAAAAAAAAAAAAAAAAAAAAAAAAAAAAAAAAERpZWdvAAAFkAMAAgAAABQAABCekAQAAgAAABQAABCykpEAAgAAAAM4NQAAkpIAAgAAAAM4NQAA6hwABwAACAwAAAiSAAAAABzqAAAACAAAAAAAAAAAAAAAAAAAAAAAAAAAAAAAAAAAAAAAAAAAAAAAAAAAAAAAAAAAAAAAAAAAAAAAAAAAAAAAAAAAAAAAAAAAAAAAAAAAAAAAAAAAAAAAAAAAAAAAAAAAAAAAAAAAAAAAAAAAAAAAAAAAAAAAAAAAAAAAAAAAAAAAAAAAAAAAAAAAAAAAAAAAAAAAAAAAAAAAAAAAAAAAAAAAAAAAAAAAAAAAAAAAAAAAAAAAAAAAAAAAAAAAAAAAAAAAAAAAAAAAAAAAAAAAAAAAAAAAAAAAAAAAAAAAAAAAAAAAAAAAAAAAAAAAAAAAAAAAAAAAAAAAAAAAAAAAAAAAAAAAAAAAAAAAAAAAAAAAAAAAAAAAAAAAAAAAAAAAAAAAAAAAAAAAAAAAAAAAAAAAAAAAAAAAAAAAAAAAAAAAAAAAAAAAAAAAAAAAAAAAAAAAAAAAAAAAAAAAAAAAAAAAAAAAAAAAAAAAAAAAAAAAAAAAAAAAAAAAAAAAAAAAAAAAAAAAAAAAAAAAAAAAAAAAAAAAAAAAAAAAAAAAAAAAAAAAAAAAAAAAAAAAAAAAAAAAAAAAAAAAAAAAAAAAAAAAAAAAAAAAAAAAAAAAAAAAAAAAAAAAAAAAAAAAAAAAAAAAAAAAAAAAAAAAAAAAAAAAAAAAAAAAAAAAAAAAAAAAAAAAAAAAAAAAAAAAAAAAAAAAAAAAAAAAAAAAAAAAAAAAAAAAAAAAAAAAAAAAAAAAAAAAAAAAAAAAAAAAAAAAAAAAAAAAAAAAAAAAAAAAAAAAAAAAAAAAAAAAAAAAAAAAAAAAAAAAAAAAAAAAAAAAAAAAAAAAAAAAAAAAAAAAAAAAAAAAAAAAAAAAAAAAAAAAAAAAAAAAAAAAAAAAAAAAAAAAAAAAAAAAAAAAAAAAAAAAAAAAAAAAAAAAAAAAAAAAAAAAAAAAAAAAAAAAAAAAAAAAAAAAAAAAAAAAAAAAAAAAAAAAAAAAAAAAAAAAAAAAAAAAAAAAAAAAAAAAAAAAAAAAAAAAAAAAAAAAAAAAAAAAAAAAAAAAAAAAAAAAAAAAAAAAAAAAAAAAAAAAAAAAAAAAAAAAAAAAAAAAAAAAAAAAAAAAAAAAAAAAAAAAAAAAAAAAAAAAAAAAAAAAAAAAAAAAAAAAAAAAAAAAAAAAAAAAAAAAAAAAAAAAAAAAAAAAAAAAAAAAAAAAAAAAAAAAAAAAAAAAAAAAAAAAAAAAAAAAAAAAAAAAAAAAAAAAAAAAAAAAAAAAAAAAAAAAAAAAAAAAAAAAAAAAAAAAAAAAAAAAAAAAAAAAAAAAAAAAAAAAAAAAAAAAAAAAAAAAAAAAAAAAAAAAAAAAAAAAAAAAAAAAAAAAAAAAAAAAAAAAAAAAAAAAAAAAAAAAAAAAAAAAAAAAAAAAAAAAAAAAAAAAAAAAAAAAAAAAAAAAAAAAAAAAAAAAAAAAAAAAAAAAAAAAAAAAAAAAAAAAAAAAAAAAAAAAAAAAAAAAAAAAAAAAAAAAAAAAAAAAAAAAAAAAAAAAAAAAAAAAAAAAAAAAAAAAAAAAAAAAAAAAAAAAAAAAAAAAAAAAAAAAAAAAAAAAAAAAAAAAAAAAAAAAAAAAAAAAAAAAAAAAAAAAAAAAAAAAAAAAAAAAAAAAAAAAAAAAAAAAAAAAAAAAAAAAAAAAAAAAAAAAAAAAAAAAAAAAAAAAAAAAAAAAAAAAAAAAAAAAAAAAAAAAAAAAAAAAAAAAAAAAAAAAAAAAAAAAAAAAAAAAAAAAAAAAAAAAAAAAAAAAAAAAAAAAAAAAAAAAAAAAAAAAAAAAAAAAAAAAAAAAAAAAAAAAAAAAAAAAAAAAAAAAAAAAAAAAAAAAAAAAAAAAAAAAAAAAAAAAAAAAAAAAAAAAAAAAAAAAAAAAAAAAAAAAAAAAAAAAAAAAAAAAAAAAAAAAAAAAAAAAAAAAAAAAAAAAAAAAAAAAAAAAAAAAAAAAAAAAAAAAAAAAAAAAAAAAAAAAAAAAAAAAAAAAAAAAAAAAAAAAAAAAAAAAAAAAAAAAAAAAAAAAAAAAAAAAAAAAAAAAAAAAAAAAAAAAAAAAAAAAAAAAAAAAAAAAAAAAAAAAAAAAAAAAAAAAAAAAAAAAAAAAAAAAAAAAAAAAAAAAAAAAAAAAAAAAAAAAAAAAAAAAAAAAAAAAAAAAAAAAAAAAAAAAAAAAAAAAAAAAAAAAAAAAAAAAAAAAAAAAAAAAAAAAAAAAAAAAAAAAAAAAAAAAAAAAAAAAAAAAAAAAAAAAAAAAAAAAAAAAAAAAAAAAAAAAAAAAAAAAAAAAAAAAAAAAAAAAAAAAAAAAAAAAAAAAAAAAAAAAAAAAAAAAAAAAAAAAAAAAAAAAAAAAAAAAAAAAAAAAAAAAAAAAAAAAAAAAAAAAAAAAAAAAAAAAAAAAAAAAAAAAAAAAAAAAAAAAAAAAAAAAAAAAAAAAAAAAAAAAAAAAAAAAAAAAAAAAAAAAAAAAAAAAAAAAAAAAAAAAAAAAAAAAAAAAAAAAAAAAAAAAAAAAAAAAAAAAAAAAAAAAAAAAAAAAAAAAAAAAAAAAAAAAAAAAAAAAAAAAAAAAAAAAAAAAAAAAAAAAAAAAAAAAAAAAAAAAAAAAAAAAAAAAAAAAAAAAAAAAAAAAAAAAAAAAAAAAAAAAAAAAAAAAAAAAAAAAAAAAAAAAAAAAAAAAAAAAAAAAAAAAAAAAAAAAAAAAAAAAAAAAAAAAAAAAAAAAMjAyMTowNDowOSAyMjoyNTozMgAyMDIxOjA0OjA5IDIyOjI1OjMyAAAARABpAGUAZwBvAAAA/+ELGGh0dHA6Ly9ucy5hZG9iZS5jb20veGFwLzEuMC8APD94cGFja2V0IGJlZ2luPSfvu78nIGlkPSdXNU0wTXBDZWhpSHpyZVN6TlRjemtjOWQnPz4NCjx4OnhtcG1ldGEgeG1sbnM6eD0iYWRvYmU6bnM6bWV0YS8iPjxyZGY6UkRGIHhtbG5zOnJkZj0iaHR0cDovL3d3dy53My5vcmcvMTk5OS8wMi8yMi1yZGYtc3ludGF4LW5zIyI+PHJkZjpEZXNjcmlwdGlvbiByZGY6YWJvdXQ9InV1aWQ6ZmFmNWJkZDUtYmEzZC0xMWRhLWFkMzEtZDMzZDc1MTgyZjFiIiB4bWxuczpkYz0iaHR0cDovL3B1cmwub3JnL2RjL2VsZW1lbnRzLzEuMS8iLz48cmRmOkRlc2NyaXB0aW9uIHJkZjphYm91dD0idXVpZDpmYWY1YmRkNS1iYTNkLTExZGEtYWQzMS1kMzNkNzUxODJmMWIiIHhtbG5zOnhtcD0iaHR0cDovL25zLmFkb2JlLmNvbS94YXAvMS4wLyI+PHhtcDpDcmVhdGVEYXRlPjIwMjEtMDQtMDlUMjI6MjU6MzIuODUxPC94bXA6Q3JlYXRlRGF0ZT48L3JkZjpEZXNjcmlwdGlvbj48cmRmOkRlc2NyaXB0aW9uIHJkZjphYm91dD0idXVpZDpmYWY1YmRkNS1iYTNkLTExZGEtYWQzMS1kMzNkNzUxODJmMWIiIHhtbG5zOmRjPSJodHRwOi8vcHVybC5vcmcvZGMvZWxlbWVudHMvMS4xLyI+PGRjOmNyZWF0b3I+PHJkZjpTZXEgeG1sbnM6cmRmPSJodHRwOi8vd3d3LnczLm9yZy8xOTk5LzAyLzIyLXJkZi1zeW50YXgtbnMjIj48cmRmOmxpPkRpZWdvPC9yZGY6bGk+PC9yZGY6U2VxPg0KCQkJPC9kYzpjcmVhdG9yPjwvcmRmOkRlc2NyaXB0aW9uPjwvcmRmOlJERj48L3g6eG1wbWV0YT4NCiAgICAgICAgICAgICAgICAgICAgICAgICAgICAgICAgICAgICAgICAgICAgICAgICAgICAgICAgICAgICAgICAgICAgICAgICAgICAgICAgICAgICAgICAgICAgICAgICAgICAKICAgICAgICAgICAgICAgICAgICAgICAgICAgICAgICAgICAgICAgICAgICAgICAgICAgICAgICAgICAgICAgICAgICAgICAgICAgICAgICAgICAgICAgICAgICAgICAgICAgIAogICAgICAgICAgICAgICAgICAgICAgICAgICAgICAgICAgICAgICAgICAgICAgICAgICAgICAgICAgICAgICAgICAgICAgICAgICAgICAgICAgICAgICAgICAgICAgICAgICAgCiAgICAgICAgICAgICAgICAgICAgICAgICAgICAgICAgICAgICAgICAgICAgICAgICAgICAgICAgICAgICAgICAgICAgICAgICAgICAgICAgICAgICAgICAgICAgICAgICAgICAKICAgICAgICAgICAgICAgICAgICAgICAgICAgICAgICAgICAgICAgICAgICAgICAgICAgICAgICAgICAgICAgICAgICAgICAgICAgICAgICAgICAgICAgICAgICAgICAgICAgIAogICAgICAgICAgICAgICAgICAgICAgICAgICAgICAgICAgICAgICAgICAgICAgICAgICAgICAgICAgICAgICAgICAgICAgICAgICAgICAgICAgICAgICAgICAgICAgICAgICAgCiAgICAgICAgICAgICAgICAgICAgICAgICAgICAgICAgICAgICAgICAgICAgICAgICAgICAgICAgICAgICAgICAgICAgICAgICAgICAgICAgICAgICAgICAgICAgICAgICAgICAKICAgICAgICAgICAgICAgICAgICAgICAgICAgICAgICAgICAgICAgICAgICAgICAgICAgICAgICAgICAgICAgICAgICAgICAgICAgICAgICAgICAgICAgICAgICAgICAgICAgIAogICAgICAgICAgICAgICAgICAgICAgICAgICAgICAgICAgICAgICAgICAgICAgICAgICAgICAgICAgICAgICAgICAgICAgICAgICAgICAgICAgICAgICAgICAgICAgICAgICAgCiAgICAgICAgICAgICAgICAgICAgICAgICAgICAgICAgICAgICAgICAgICAgICAgICAgICAgICAgICAgICAgICAgICAgICAgICAgICAgICAgICAgICAgICAgICAgICAgICAgICAKICAgICAgICAgICAgICAgICAgICAgICAgICAgICAgICAgICAgICAgICAgICAgICAgICAgICAgICAgICAgICAgICAgICAgICAgICAgICAgICAgICAgICAgICAgICAgICAgICAgIAogICAgICAgICAgICAgICAgICAgICAgICAgICAgICAgICAgICAgICAgICAgICAgICAgICAgICAgICAgICAgICAgICAgICAgICAgICAgICAgICAgICAgICAgICAgICAgICAgICAgCiAgICAgICAgICAgICAgICAgICAgICAgICAgICAgICAgICAgICAgICAgICAgICAgICAgICAgICAgICAgICAgICAgICAgICAgICAgICAgICAgICAgICAgICAgICAgICAgICAgICAKICAgICAgICAgICAgICAgICAgICAgICAgICAgICAgICAgICAgICAgICAgICAgICAgICAgICAgICAgICAgICAgICAgICAgICAgICAgICAgICAgICAgICAgICAgICAgICAgICAgIAogICAgICAgICAgICAgICAgICAgICAgICAgICAgICAgICAgICAgICAgICAgICAgICAgICAgICAgICAgICAgICAgICAgICAgICAgICAgICAgICAgICAgICAgICAgICAgICAgICAgCiAgICAgICAgICAgICAgICAgICAgICAgICAgICAgICAgICAgICAgICAgICAgICAgICAgICAgICAgICAgICAgICAgICAgICAgICAgICAgICAgICAgICAgICAgICAgICAgICAgICAKICAgICAgICAgICAgICAgICAgICAgICAgICAgICAgICAgICAgICAgICAgICAgICAgICAgICAgICAgICAgICAgICAgICAgICAgICAgICAgICAgICAgICAgICAgICAgICAgICAgIAogICAgICAgICAgICAgICAgICAgICAgICAgICAgICAgICAgICAgICAgICAgICAgICAgICAgICAgICAgICAgICAgICAgICAgICAgICAgICAgICAgICAgICAgICAgICAgICAgICAgCiAgICAgICAgICAgICAgICAgICAgICAgICAgICAgICAgICAgICAgICAgICAgICAgICAgICAgICAgICAgICAgICAgICAgICAgICAgICAgICAgICAgICAgICAgICAgICAgICAgICAKICAgICAgICAgICAgICAgICAgICAgICAgICAgICAgICAgICAgICAgICAgICAgICAgICAgICAgICAgICAgICAgICAgICAgICAgICAgICAgICAgICAgICAgICAgICAgICAgICAgIAogICAgICAgICAgICAgICAgICAgICAgICAgICAgPD94cGFja2V0IGVuZD0ndyc/Pv/bAEMABwUFBgUEBwYFBggHBwgKEQsKCQkKFQ8QDBEYFRoZGBUYFxseJyEbHSUdFxgiLiIlKCkrLCsaIC8zLyoyJyorKv/bAEMBBwgICgkKFAsLFCocGBwqKioqKioqKioqKioqKioqKioqKioqKioqKioqKioqKioqKioqKioqKioqKioqKioqKv/AABEIAkIC6gMBIgACEQEDEQH/xAAfAAABBQEBAQEBAQAAAAAAAAAAAQIDBAUGBwgJCgv/xAC1EAACAQMDAgQDBQUEBAAAAX0BAgMABBEFEiExQQYTUWEHInEUMoGRoQgjQrHBFVLR8CQzYnKCCQoWFxgZGiUmJygpKjQ1Njc4OTpDREVGR0hJSlNUVVZXWFlaY2RlZmdoaWpzdHV2d3h5eoOEhYaHiImKkpOUlZaXmJmaoqOkpaanqKmqsrO0tba3uLm6wsPExcbHyMnK0tPU1dbX2Nna4eLj5OXm5+jp6vHy8/T19vf4+fr/xAAfAQADAQEBAQEBAQEBAAAAAAAAAQIDBAUGBwgJCgv/xAC1EQACAQIEBAMEBwUEBAABAncAAQIDEQQFITEGEkFRB2FxEyIygQgUQpGhscEJIzNS8BVictEKFiQ04SXxFxgZGiYnKCkqNTY3ODk6Q0RFRkdISUpTVFVWV1hZWmNkZWZnaGlqc3R1dnd4eXqCg4SFhoeIiYqSk5SVlpeYmZqio6Slpqeoqaqys7S1tre4ubrCw8TFxsfIycrS09TV1tfY2dri4+Tl5ufo6ery8/T19vf4+fr/2gAMAwEAAhEDEQA/APpGiiigAooooAKKKKACiiigAooooAKKKKACiiigAooooAKKKKACiiigAooooAKKKKACiiigAooooAKKKKACiiigAooooAKKKKACiiigAooooAKKKKACiiigAooooAKKKKACiiigAooooAKKKKACiiigAooooAKKKKACiiigAooooAKKKKACiiigAooooAKKKKACiiigAooooAKKKKACiiigAooooAKKKKACiiigAooooAKKKKACiiigAooooAKKKKAKeqXkllarJEFJLhfmHsf8Ky/7euv+ecP/AHyf8aua/wD8eCf9dR/I1gCtIpWEzU/t26/55w/98n/Gj+3bn+5F+R/xrNooaRN2af8Ablz/AHIvyP8AjR/blz/ci/I/41mmilZBdml/blz/AHIvyP8AjS/23c/3IvyP+NZlLRZDNL+3LnP3IvyP+NH9t3P9yL8j/jWb3pRTsgNL+27j+5F+R/xo/tq4/uRfkf8AGs2losgNH+2rj+5F+R/xo/tu5/uRfkf8az6SiyC5o/21cf3IvyP+NH9tXH9yL8j/AI1nUtFkFzQ/tq5/uRfkf8aP7auP7kX5H/Gs8UU7IDQ/tq4/uRfkf8aX+2bn+5F+R/xrOFOpWQGgNYuP7kf5H/Gj+2bj+5F+R/xqhQaLIC//AGzcf3IvyP8AjR/bFx/ci/I/41n0U7IDQ/tm4/uR/kf8aP7ZuP7kX5H/ABrPxS0rIZf/ALYuP7kf5H/Gj+2Lj+5H+R/xqhRSsgL/APbFx/cj/I/40f2xcf3I/wAj/jVDFLTsguXv7YuP7kf5H/Gnf2vcf3I/yP8AjWfiloshF/8Atef+5H+R/wAaP7Xn/uR/kf8AGqFFKyFdl/8Atef+5H+R/wAaP7Xn/uR/kf8AGqFLTshl7+1p/wC5H+R/xpf7Wn/uR/kf8aoUo5pWQrl7+1p/7kf5H/Gj+1p/7sf5H/GqNFOyGXv7Vn/ux/kf8aP7Vn/ux/kf8aoUUWQF/wDtWf8Aux/kf8aP7Wn/ALkf5H/GqI606iyDUujVZ/7kf5H/ABo/tWf+7H+R/wAapYoxRZCuy7/ak/8Adj/I/wCNH9qz/wB2P8j/AI1SxRiiyHqXf7Vn/ux/kf8AGlGqTn+GP8j/AI1Sooshl3+05v7sf5H/ABo/tOb+7H+R/wAap0UWQFz+1Jv7sf5H/Gj+1Jv7sf5H/GqZpBSsBd/tSb+7H+R/xo/tOf8Aux/kf8apUUWQF3+05/7sf5H/ABpf7Tm/ux/kf8apCinZAXP7Um/ux/kf8aP7Um/ux/kf8apYopWQF3+1J/7sf5H/ABo/tOb+7H+R/wAapUtOyEXP7Tm/ux/kf8aP7Tm/ux/kf8ap0UWQFz+05v7sf5H/ABo/tOb+7H+R/wAap0U7IC5/ac392P8AI/40f2nP/dj/ACP+NUxS0rIC5/ac/wDdj/I/40f2nP8A3Y/yP+NU6UUtBlv+05/7sf5H/Gj+05v7sf5H/GqtJijQC3/ac391PyP+NH9pzf3U/I/41ToxRoBc/tOb+7H+R/xo/tOb+7H+R/xqpiijQC3/AGnN/dj/ACP+NH9pTf3Y/wAj/jVSikBb/tKb+7H+R/xo/tKb+7H+R/xqpRRoBb/tKb+7H+R/xo/tKb+7H+R/xqpRT0At/wBpTf3Y/wAj/jR/ac392P8AI/41UpcZpAW/7Sm/ux/kf8aP7Sm/up+R/wAaq02gC3/ac392P8j/AI0v9pTf3U/I/wCNU6KLAbFnO1xCWcAENjip6p6b/wAezf75/kKuUnuMKKKKQBRRRQBma9/x4p/11H8jXPiug13/AI8U/wCug/kawauOxLCilpaYhKBRTqQDaWlxS4pgJRS4oxTAKWjFFAwoooFMQUYopRQMMUYpaKQCYpaKMc80wAUtIO9L2pAJSik68jpRTAWiilFIAxSU6kxSAKUUn4Gl6UwFpM0UUALRigjpSjnpSEJiilFGKYwxSgUYpenWgQhFGKXtSd6BhijFLRQAmKWkpaAFoFFAoAMUUtFIYlLRRQAUUUUwEpRSYpelIAxRRSjrQAYoxR2opgGKMUoHNGPzoEJikpSKSmAlKKMUUgFxRiiilcYUUUUbiFxRiiikMKKQUE0gFoo7e1FABRR/nFFABRS9KSgAooooAKKKKAClzSUUAFFFFABRRSigDT03/j2b/fP8hVuqmnf8e7f7/wDQVbpMYUUUUgCiiigDM13/AI8U/wCug/kawa39d/48U/66D+RrBFUiXuFLRilFMQUuaSkpgOzz6UiurjKEMPUVwHxB8cDS4zpmlPm5cYkkH8ArO8PfE6y0/SbawnhmlmUhWbGdxNUB6ligVx0vxEsrfW4dPuLaWMy7cOQMDPTvXV3t3FYafJeTOojRN/4UXGT0lYHhrxdZ+J2mWyVg0PUN1NR+KPGll4WaFblTJJJn5F60AdJRmqFtq8D6JHql7/osLrvIfqBXIX3xZ0uKYrZW81yi8Fsf/XoA76lNcr4f+IGka9KLcObe5P8AyzfjP0rqc5+lIBKcKaRXJ+IfiJpmiXbWsKyXVwn3lQcD2oA68c1yHi/xynhS9tbbyDM0x5JOMCm+H/iLY65qMViYJYJ5GwoYYFN8a+INF06/gg1bT/tMmQY2I6c0wOtsrpbyxhuEBXzUDc+9T45qpaXUD6bDdL+7gZAR/sjFcfq/xV0vTrtobWKS62HBZRxSAb488a33hfVrW1sI43SVQW3fWuy064a70y2uJBhpY1cgepFeH+OfFFt4p1e0uLWN08tVRgwxg5/+vXtGkyrB4btJZGCotuhLN0Ax1oA0hTu1cLf/ABS0y2u2gs4ZLvacF0HBrV8OeOdM8STG3ty0VynWKTgke1AHSUuM1W1C+ttKs5Lq+lWKJBkk1ws3xe05JmW3tJZkU43gf/XoAbd+P9Tg8etoypGbcTbM45xXoxHzHFeAxanHrHxMjvIVKpLOGGeuK9/YfMaAE6An2rzGy+Imp3HjcaVJFGIfOMee+MV6aeh+hrwOwkSH4oh3YIq3TbmfgDigD35iAx+tYPi/WJtB8PzX9qA0idAa0m1jTdx/0+Dr/erlfiLqFlP4NuUgu4pGJ+6rc0AHgbxbfeJNNvp7qNA8AJUKOprm7j4g+L0uZUj0wlFYgHyu35Vc+DQ/0K+GP4v8K9J2RhifKT/vkUAeOz/FbxJbS+XcWscb/wB1kwasL8R/F7qCNLJB6Hyev6Vm/E5VXxqu1Qo2rwBj0r2fT0iGmW48mMjyx1UUBYyPBmsahreiG51a3NvN5hULjHH0rogaaAqjCKqj0UU6gApwpuKUUFC0UUtIQlAoooAWikooAWikpaADtVHVNZsdFtvO1G4WFewJ5NXq8K8T3M/i34irprStHEZREijovHJpgelWvxK8NXlwIUumRicAyJtB/GupSRZUDxsGVhkEdDXlPjD4ZWGk+F5b7T3cy24Bbd/FWn8INcm1HRZbG5LSNakEEnJwe36UgOl1bxtouiXxtL+dklAyQFziqa/Evw0zBReHJOOVrzn4hWqXnxKS2kJCzYViOuMCuyX4O6EuwrcTkjByAKAO7guobizS5jb9y67g3tXNXPxJ8N2t6baW8YyBtpKrlc/Wn+LoptL+Ht1DpZYtFFtBHXbjmuR8Kab4Xl8ByTagYmnYEys5+cGgD1C1u4by1jntZBLFIMqynIrO1XxTpujX8FldtIbi4ICRxruP41wnw31g6V4S1K6vJG+yW8hMJY9emAKv+CNNuNe1WfxVq6cyMVto2/hX1/lTEehhwyggYyMijNAH5UHGKADNFJkAEswVV6sarLqmnlihu4946DcOaALdGKRMOgZWHIzx3qKa9tbZQbm4jiz0DNUjJqKhhu7a4JEE6OR/dNSM4RSzkKoGSfSmhDqOtQx3ltLGzx3EbbOT83QU2LULSaQpHcxM3oGpDLOBjrXOa1440PQbjyb66PmDqsY3YrT1u/j07R7md5VjYRNs3HqcV4n4H0W08V65cT65MWjXLEM3LE0CPZYfFOjyWlvcG9jjS6/1QkYKT+Faysr4IO4HoRXnfiT4c6ffTWP2XURYxW67RGzds54r0C0jSG1hiVsqiABvWgCXjNYms+LNJ0C7S31KZkkkGVAXNakt/ZQHbcXcUbejNXjXxbnjuPFVi1vIsiBOWU5HUUAe0wyLPAs0ZJRxkHHan47VV0bnRrb/AK5DrT5dQsoPluLmONvQt3oAn706oopop03QOHA67TmmzXdvBtM8yRgjjecZoGiekNQve2kcSu9zGqnkFm6inwzRXMJkt5VkX1U5oGLRTivHoB3qrJqFjE4SS8hViehbpQIs0uKSNkkXMUiuD3BzTJLqC23faZo48ep7UDJMUYqKC8tbk4t50kPsamIoA0dO/wCPdv8Af/oKt1U07/j3b/f/AKCrdQAUUUUAFFFFAGbrn/Hin/XQfyNYQrd1z/jxT/roP5GsIVSJe4UUUUxBSigGlBqkB5h8YLO1gt7GaC3RJHb5nHU9a6TwZoum3HhawuJrOJ5vLGWI5rN+KulXN/o8E1tGZBA2WC88c1heGviVFpGhwadNaO00Q2rjoaAL3xY0H/R7fVrMbWhIR8Dt2rL1/wAZDUPAVlawvm4mHlyc84HH9BXpdxCviLw2UniA+1QZ2n+FiOK8b8L+F5brxoNPuUOy2kLOD/dzSGTeE7u58I+LLf7eDFHOvzA9COeat3O/xx8TBH9+1ikxnttBrpvivoAn0mHUrZBvt/lfA/h/yaT4TaH9n06XVJl/eTHCZHb1oArfFy+lsobDSoG2QOmSB3A4xXQeBvDGm2nha2nkto5ZrhN7uwzkelV/ib4bl1nTory0QvPb9V9VrnPC3xJj0LSV03W7aXdAMLgEn6YoGZ/xN0i38P8AiC2vNLTyPMG/CHGDXrOgXTXvh+0uH++yDdn6V5Dqk+pfEjxJF9itGW1UhQccAepNezWVoLKwht048tFXP0FAFhl3IwHpjNeHa3a6l4T8YS6i1p9pjaVnV2UlSCc4r3DdtRiRnivO7v4jWS3Vzp3iHTW8tJGQDbncM8HGKYi/4X8Q+GvFF9DKLOO11KE5RcYye+K5j4rjHiGyA9B/M1kaFZjVPiBFdaDbyQ2iyhuv3R/Str4tIB4isFUknAyQKANnxpqUth8MrOOFyhnRVJHpio/hX4b0+fQG1G7hjnmkYgFhnaP8itrVfD3/AAkPw8gtEx5yQq8eT1OOlcD4b8V6j4DMun6nZO0O77uMYPtUjJvitY2ll4hsRZwpEGVS2zucmui8canLY/DayhgcqZ40ViPTHSuC8Y+JbfxNrVvc2sTxhcAhj3zXqWt6EfEXw9traH/XRxIye5A6UAcH4L8QWWhaX+80eW8md+ZljJx9OKq6hqMs/jG31XSdOuLJGdd4EZ5Oee3pV3wl4vfwgZtN1+xcRq3yHbyp+neujb4lQahcR2vh/SmnlZwGYx/dHr0pgZPxb1SeY2FpEWWN0EjA8ZJxjNdt4S8J6bZeH7cSWsU0kyBndh6jNY/xH8LXOuaRb31nGZLmBPmjUckEf/WrC0H4m3eiaamn6vYSM0PygknOPpigRkXsENt8WGht0CRrd4VVHA6V7o3LGvAYdUTWfiPHfRQvGs1zvAI6V763BpgI33T9DXztPph1fx1cWKy+U01wQGx0r6JJwp+hrwbSwR8Vhwf+Po/yoA6U/BhlY51ZSc8/K1ZPiX4Zv4e0SXUTqAmVP4ADzXtp++3ua5P4lZPge5A4IOenSkUc58GSTZ32fX/CvSz9489681+DQ/0K+PTn/CvSgMk5oEeI/FD/AJHVf91f6V7Rp/8AyDrbP/PMV4v8Uf8AkdlwD90f0r2nT+dNtz/0zFMCxilAptOFADqKMUtIBKKWigBKWkpaACjFGaKAExS4oooAMV41498Mapo3iVdb0ZHdHbflBko30Feze9MneOOB5JyqxqMsW6YoA8J8R+P9c1fRUsLu3NtG3DtsK78fWuu+DdgYNIur2QYE7hQcemf8a5LxJfTeOvGCWGmRgWsT7IxGvGO7ECvZ9D0uLRNGgsoBgRLg+5oGea+OPBuu6p4ra/0qAkKoKOWA54rGs/GniXwtqyxa6ZJIw2Hjl549Qa9YtPGuh3UkiC/ijeNirLKwXkHFeYfFjX9M1W4t7fTXWeVG+d0HrxjNID1+xubTW9Jiuo1DwXEYJU+hHSuTv/hTok92Z1knhjc7mjVgF/lWx4AtpbXwbYwzqQ2wHB+grP8AiF4jk02xXS9LO/UL75I1HJX3oA5u7t4vEGuw+HtHAt9E0s7p5B91iPf8q7ay8WeG4bmPTLXUIldBsVBwOOOvSuG8SaVP4S+HcMEDMk9zIPtcoOCc4o1Hwh4dt/hyNRgcLdrErrOH5Z8Zx+dAHq/VQw6HofWkIzxXMfDq+u9Q8G20t8zO/IBY9QCRXUqNx29MjrTEeO/EfxZf6h4gHh/RpHjUMFJX+Jj2NWLX4NTSWqS3OpuLpl3EAnArA8RI3hz4ofarpSYfPEm49CCc17Ra+I9Ju7VbmK/txGyAkmQDFAznrm6uPAXgAvdTfaLmPKIx53H/ACa4Hwr4b1D4hXE9/qt9MsAbru6n0Fdv8RVTxB4Clm0uTz1gfdmPkHpmsf4P+ILGLR5NNnmjimD7wHbG4GgRheJ/C+pfD+WLU9J1CQxFscHofeu8tPEA8RfDa4vTkSiErJ/vVh/FzX7F9CXT7eZZp2fJCnO0c1J4S06Wx+Et2825TMhZVI7YpAcL4I0fVPEN/c2VlfNbwsAbhs9Rzj+tXPGHhe68B3lrd2V88gkOQ+TkGtf4Lf8AIW1A46Iuf1rR+Nn/ACDNP/38/wA6AL+vaW3jH4dWWozXBie3iMuB/GcVwHw88NDxFqL/AOkNCbZ1fj+L/OK9L0X/AJJAnH/Lof61ynwU41S8B/ur/WgZT+Lu+DxNYxq7DbEBwfTFegeJvEX/AAjfgiG5RczSRBY/r61wPxk/5Gy0/wBwfzFdN8SNOmvvh/ZvApb7OocgenSgDlfCvgu/8dK+q6pfyRw7iASeSaxvGHhseGNct7Zblp1cZXd25ru/hb4u0yLw6ul3lzFbTROx+chQwPvXOfFS7gvPE9k9rPHMqpjKNkdaAsd94j8Qv4d8Aw3EORPJGEiIPQ1wvhfwpa+LbV9V8S635bO52RmYK3HU810XxEsZrz4fWMsKswg+ZgPTGK5zwR4d8MeIdJH9oTtHfqxDJ5u3I9qAH6bqNx4F8dR6fBqAvNNmYD5X3DB+netX41swh0wocfOSMHrxVq68D+CtIeOWW/ZZNw2KJ8kn6VT+M6mK30pOo3cH1GKYFXQ/h9qXifQob3VNSdI9gEUQPAGKpeBtQvfDvj06LJM0kMj+Wyk8fWvUvBv/ACJenjH8A/kK8mt8/wDC5Fx/z8UAdX8VfF93pQh0vS5GjlnGXZeuDWToXwmuda0xL7VNSaKaYBlHOQKr/GGxlt/E1nfAMYyFG7HGQc16R4Y8UaVqehW7R3cSOkaq6MwBBApAUPDujXHgfQ9QbUbn7VFH88bd1XH+Necad53xE8TXD6xqgtrKPkI0gXI9BmvWtZuLfXfDup2emzxzzCIqQjZweteKeC9I0a+1iex8RyvbuOEw+35s9DQBs+IdKXwHdW+oeF9V+0Rk4ePzQx/TtXrvh/VBrWiW96mT5iDd9e/61xNz8NvCFrAZri/eNAM5Nxiuw8LQ6da+H4oNHlaW1UkKxOT19aAOq07/AI92/wB/+gq3VTTv+Pdv9/8AoKt1ABRRRQAUUUUAZuuf8eKf9dB/I1hAVu65/wAeKf8AXQfyNYYqkS9wxRS0VYhKUDFFLQAhVHGJFDKeoI61STRdMSXzEsIA+ck7BV6jHrQMVAqr8owB0AqCKxtYbl7iKBFlf7zgcmpx0pTQAye3iuYGhuEEkbcMrDrRBbxWsKxW8axoo4VR0p9FOwAV3LzgjvVK40XTbp/MnsoXb+9sFXRSilYCK3tbe0XbbQRxDH8KgVLmkpc0AAGOtVLnSLC7fdcWkUjZySUGTVyigCtbafaWYP2SCOLPUquKW4sbW6ZWubeORl6Myg4qxR3pANjVY0CIAFHAAqOeztbj/X2sLkjksgNTY4o7UAUv7F00t/x5QfURiriosaqqAAAYwKdRQBUudKsbxg1zawyN3JUZp1vptja/8e9rFGemVQA1aFFAgHC7e3pVWbTLKcgzWkLn1KCrVGKAKUej6fHIJEtIVZehCAYq9jI5oFL2pgN78VWOnWXnCQWkIkHO8IM5qzS44FAwB44pk0EdzGUuI1kQ/wALDIqQCilYZDbWVtaqwtIEi3HJ2LjNT7fzoFLQBWl02zuJPMuLWKV/7zICanIwQBgADAAFOpCKAALSgUCigBaKKMUwADJrmvEnjOx0G5htf9fcSSBWRf4ATjJpfFXiGbTJLfTtPXN9enbEzcKvuTVaPwFavo7xX0xkvbhhJPcg/MT/AJFIDrEZHRWLr8wyOa53XPGFroWtW1ldoTFMMtMv8Huaqr4HkCgLrl6ABgfN/wDWp9r4EtIr1rnULua+LJs2zHPH5UgOniljniWWJg6OMqwPUU+uGS4uPA+rQ2czmfSbp9sIJy0R9Meldwp3YYdDzTAWilopiACsHxVoV14gsRZwXzWkR+/sAy1dBgdqbQBy/hHwRZeFI3MbGe5k+9Mw5rp2Gcj2paUfWkM871X4Qafe3klzaXstu0rFmA9TU+ifCfS9KukuLqZrxk5CuOM+td5il7UgEjVYwFQBVUYAHQVzNj4PEfiyXXNRuTdSn/VIw4j+ldPR2oAq6tpdtrVhJZ3sYeKQcj0PrXBw/COEXQE2qXElorZFuTxj0r0fNGeeTQBBY2Nvp9kltaRiNEGABVgClooAxPEnhPTvE1t5V+m11HyyKORXE/8AClokbEWs3Cwk/cr1AntSd6BmZoOg22haGNLhJlhwQ28ZzxXIat8INMvb1rnTrqWycnLBOleh0vbFAHnuk/CbTrG9W41C7lv2U5CydK7W/wBOju9Jl09P3McibRtH3auAc0HpQByng7wHD4RuLiWK7eczAAhwBjH0+tTeMfB0Xi62gimu3t/JOcoAc/nXSYoxSEY9l4fWz8KDQ0mZkERjEhHOPWsrwf4Eh8JXM00N3JcGUYIcAY/KutxznpRQFzjvFvw+g8V6pFey3skBjGMKAc11cdpGLFLWQCRFTYdw4IqYZFL2phc4HU/hHo19ctNaSPaMxyRH/wDXqgfgxahw51Wdip4yAa9Nx+dH40BcrxafCNKWxnUSRbNjbh1rg9R+EVhPdvNpl7LZFiTtQ8CvRMUY5oC5wml/CnTrG8S4v7ue+kjOVDnjNafjHwTD4uS3E128H2c5AUA5rqsdxR2x2oGUNI05dI0e3sEkLiEbdx71y8Xw2t08XjXft0hYSb/L2jBrt+hozQBn6vollrtm1pqUIlj/AIT3U+orgZfgxbi5L2erTwIf4RXpuKXNFwOf8JeD7fwnbTRQXElw05y7v1rJ8SfC/S9dujdwSPZz5yzR9zXbUEZpgea23whtzKv9oatdXMYP+rLcYrv9P02DS7OO1s02QxjAHrVul7UgL+nf8e7f7/8AQVbqrp//AB7t/vf0FWqgAooooAKKKKAM3XP+PFP+ug/kawgK3tc/48U/66D+RrCqkS9xaWkFLVoAoxRRnFACgUtHfmjOaACilAz3H0oPHXigAAzTQQfunOOtV9QWWbTp4rZ9szRkKw7GuS+H+j67pl5eHW5WaNj8isc5PPNFwO2xR0H41la94is9AgjNy4aWVtqRjqxrURt6Iw6EZFFwImvbVZ/Ja4jWTONhbmrFeJ69PMvxbVFkcL5qcbuOte2R8QpnjKjrQAUYpxH40lACYpcUh4HFYGr+NtD0SXyb27Uyg4KJyRSYzfNLisrRvEmm6/CZNOm384KnqKq6l400bSNSNjfXOydSMqPehCN+imxSLNEskeSrDIzT/wAKYAKKyZvFGhwSGOTVLdXU4IJPH6U3/hLdBH/MVt/zP+FIDZApcVmWniXR72dYLTUIZZWPCKTzWp/EKYhMZPWobm8trOPddXEcK+rtjNGoXcdhYy3Mn3YkLc/SvD7S21b4keJp9t20UK5PLYVF7UDPbra7t72MvazJKo7o2anHavCgNW+HHi+3iuLhpYHO4jJ2yLXudtKlzaRTxEMsq7gaBEtRzTRW8RknkWNB1ZjgU4sACOmOSa8S8X6xqHi7xmujaZMwt1bYFU457k0DPZbXUbK9YraXUUzDqEcHFWq8G8QeF9Y+H81rfRXjyKxGWRjjPoa9k8MayuveHLW96SMuJPY0ii2+qWMblXu4gw4ILjikGraezBVvIST0AcV4Zq9pPrPxGm023maJppdoO84zXSQfCXV7e8hl/tWMrG4Yje3PP0oA9bB4pKbEpjhjQnO1QCfWn0CClFJRTAydf0G312xKT5SZPmhmT7yN9a4+98Y6t4dsxpWpIv8AaCuEhmK5WUE4BzXo3WqOo6LY6ssYvoFlMbBkYjkEUgOcjbxxKqsJbLBHQKKzrrxdrPh3W0tPEPkyrJEWjEKjLNnpXoQUKqhcAAY4qjc6LYXuoQ3t1bpJcQ/cdu1AHO6Hod1q1+uveIgDK3MFtn5Y19cetdiAOgpFXHGfp7UtABSim06qEHfFNPFOxXAaj8Qryy8bpo0enq9uWCM5znkdRSA76nAUi8gZGDjNGcUgCnZApoNHPOOmM80hi9aKZHNHMm6F1kXJBZT3p+OlAhaMZpAaeKLDEoxR0ozSGNI5oxTs0lAC0UmaU8UwEoo/WsrxNfTaZ4cvLy1bbNEmVPpQBrUVwXwy8Vap4miujqkokMeMYAHrXe/WgBKWjFGKQBS4xQBSmmAlJS0YoASloz7UZ9qAEzSijPtRmgApccUmeadQA2iiigApaSloELTaU0lMDR0//j3b/e/oKtVV0/8A492/3v6CrVQxhRRRSAKKKKAM7W/+PFP+ug/kawhW7rf/AB5J/wBdB/I1hAVaJe4tOpKWrAKSlpR9aAON+I0uqWejpqGkXLwmE/vAnp61N4E8R/234X866lL3NuCJSx9BnNdHqFkmpWE1pMAVlQqa8ITU7rwff6vpce4eaNnpxnrSGjbPxCvh488wXDLYiXy9meCM9a7vx34jOjeF/OtJNtxcAeUR2yM15mvgqT/hX/8AbexjPvLjP93rmq76peeMLrStNlGfLXy+vJ5pDPQvB9zq8/gu/wBV1O7mdnjYwbjyMDrWb8M/Eeq6teXi3dzJcsseY0c9+a7i+sk07wZPaQLtjitioH4V5x8GP+Qtd/7v+NIDA8YDWJPF3lapIBdhv3QU8KD0rutC0fxxbataS6heF7M43KJAePpmuZ+Ii7fiWrMQBlcfkK9phGbeFh0KDmgDwnxpNJZ/FKWeKMyNG6sqg9eelbOr/wDCe/2cdaknaC3TDCKNsbV+maoeIdv/AAuBSQCPNTg9+a9a8QqG8K3mRgeR0FAGB8OvFs/iKxlgvjm5t+rf3hXZnrxXknwbYtqWo+y/1r1vHApgYfi/Wjonhm5u4wPMxtTPrXkvgPw2vjLVryfU3cxRjL/7RNegfFmFn8Hlo+FjkDN9MGsP4KyoYdRhB+c4YD24oA56Lz/h98QNjZ+xkj8UP+ApixN4x+JKtbgvC0gZ2x0Wt34tXenXFxb29uBLfxg79p6Lx1p3we1Gyjku7Ro1W8c/K/dh6UIR6uoCoqDoBil6CkA9R3paYjzjUPhfp15fzTnVNhkcsV3jjNQf8Ki03/oL/wDkQVX1P4d+JbvVLi4g1ErHI5ZR5xGBVX/hWfiv/oKH/v8AGgDpPD/w2sNF1mLUINS86SI8JvHNd6T81ea+GPA3iHSfENvd6he+dbx53L5pOa9KJy38qAOc+IE3k+C75+pwBx7kCuT+C8SLZajJtG7cq7vbmu18X2D6h4VvYI13MUyPw5rz/wCDmoQ21xf6fO4jlcghWPUjNIod8aFAk06QjkKRn2zXeeCpjL4P05znIiArzr4uX0V/q1nZW7iR4Vw4U5GSeK9M8O250zwpYpdlYvKhG8scAUhWNC+O3S7iTP3Ym/DivF/hgouviFcyOASA5yfXdXs3nQanpsy2sqSq6lMqcivFfBk3/CPfEqWK+Pkh5Giw3GMnNAzv/iogfwK/H3ZAR7ciqfwcuPN8KyRdVjlOPzpPi3qcUXhaOzjkXzpnztz2q18KrBtO8GfaLgBFlcvkntQB51q76ho/xAn1eztJpfJl3LmJiM12fhr4tLf30dprMAglk+VXAIAPoRXosRtrmPdEIZUP8QwQa8O+JcVjbeMkOmeUrkqWWPGAc0wPdQ25QR6dR3pQeKztB806BZG4yJDEpOT7VomgQtFApaYhAKWiigBfrRikzS5oASiilpAJQDS4pMYouApORXAah430+08eLp82lK9yjqguTjIyM133WvCvEX/JYDn/AJ7pz/wEUXA9T8aeMU8J2cFzJbvcCZsbVOMcVzlz8XbRrGJ7HTp7idhudUGfL+vFVvjQ2NDsP+uh/Hitz4baHYQ+DbWcW8bSzZLuyAk+1IoPCPxHsfEt2bGaE2l2eVVjkMKy/iT46k0qJ9K0wMJnG2WbBwo9BXG3dumm/GBUswI088YVR0yMn9a634y28SaHbSpCgkMnzOo5PFIRj+GPiTJo2gxWf9l3F0VJLSgfeJr0+68SWdhoEeraifIjKBth6nI6VifDqztpPBNo0ltE7HOSyAmuO+M94/8Aa2nWIJSBYy20cAnNMDUk+LryEyWWiXMluvV8ZGPyrsPCXi/T/Fdqxtt0c6D54WPIrhdJ8W3un6HDZ2/hdpIRHjds+/79KzPBdvq1v8QheJps9pa3Rbeu0hRk9KYHbeIviImgeIF0v7G0pJGW3DjNUNf+K9npOqfZbW2a6CEeY6nj6CuN+KUTy+PjHESGYKAc47CvTtG8CaPBoEUNzaxzySKDI7qCxP17UhmLqXxXj09bWY6ZM1vcqCrk4rurTUILrTEvkYeU8e/OenFcb8RfCsN34NEdhHsawXMagZ+UDn+VcZo/jo2HwzvNPdgbtW8qPPoeeKAO00b4kjW/EzaVY6fIUBOZiwwAO9M174p2mlX0lnYWc17LGxVygJwfpiqXwh8PNb6ZPq1z/rLjKx5HIX/OavajrPhLwhdSqkIu9QkcsyKgZtx7ZpgVdG+LtveX62upWElqXbaGPGD7iun8alX8Eag6H5WjGPzrxfxrqEupa3Be/wBl/wBm7xkIRjfz16V6/wCICW+GczNyTbrn86QHI/BH/UX34f1r1cGvKPgl/qb78P616sKAHUUUUgClFJSjimAYpDS5zRTASilopCEopaKACjtRRTAKKMUuKAEopcUYoATFFLSGgDQsP+Pdv97+gq1VWw/492/3v6CrVQ9xhRRRSAKKKKAM7Wv+PJP+ug/kaxK29a/48k/66D+RrErSOxLAUtIKUVQC4oxQKWkAV51408BXGueIba8s8BdwE2RwRmvRaaR+dAFYaZb/ANjDTymYfK8sr7YxXFeC/AM2h+Jrq+vVUopIg9h6139OFICrqkEl5pNzbRkb5Yyq59TXG/DzwXqXhe+nl1FoisgwuzPWu8x60uT07UxnCePvAkviSWO906RUuoxhg38VZmheDvF8eoWh1DUStpA2THuOWHpXqHXrSZx0pAeb6p4B1W98fDWYjCtssitgk5wDXd6raS3uh3FtDjzJItoz0zVzHrT+nSgVzgPh74L1HwveXsmoNEROPl8sn19670cjFGKKAKeqadDqulz2dyMxzLtPtXkx+GniPSdSk/se6CxOdokViDj3r2WjvnvQBxfhj4eW+kO91q7/AG27mUhmbkLmucm+G2s6d4pOo6BLCsSvuUMSK9XxxjtQRk80wIrTzjaxm7AE5HzgdM1MaBSkUwEFOxRijFIBCKMUtGKYDGUOpVhkMCCK8s8R/C/UP7VkvfDlx5YclihJBUnrjFerbaXpSKPLfCvwxu49VTUPEMqyGNgyoCTuPvmu08Y6Lda74dlsrGby5TyOcZx9K3etLjkE0hHG/DzwvqHhvTpRqc255GyIwScVS8dfDttevf7T0qQQ3Xdegb3r0DceeetJmgDx3Tfhbrt7fRvrd2PJjPJLEkj05r1c6ZFHoL6Za/u1MJiU+mRirdHU880AePXHw88XafK0enakWiYnHznuaveGvhRcpqwvvEVyJCjbtgJOT75r1TOaQjNMAVQihVGFUYA9qXHrSU7NMQgpaUUYpANzS0fSikAuKMUUUrgGKBRRQMXNITRQaAADNeH+ILSY/F/eInKech3EcfdFe4rUbW0Ly72iUv64oA83+M1tLNo+niJGchycKPauq+HiOngiwEilDjofwroZYYp1AmjVwOmRSoqxoEjUKo6AdqBnh2sW07fGEOsMjJ56/MB7V3fxT0S51rwyhsFLvA29kH8QwK7E2sBl8wxLv/vY5qYcDHakB4l4X+ImoeHNF/suXSnuJEJ2MQeM10njjwzeeMfDNjq1vARfRR8xDqR1xXoRsLMy+b9mj3/3ttTgBegxTA8f0D4kXmg6XHpur6TJNJANiv5YyRXQ6F4y1nxHr0K2ukG109T+8dlAJrupbK0uHDz28bsOhIqVESJNkahV9AKAPEviHDO3xIidYXZcryBx0Fe0QZNtFnj5BSvbQyuGkiViO5FTGgCN4lljaN+VcbWHqDXz9rXhC5g8fLpUSMY55dyYHBU819CYqJrSBrhZ2iUyr918cigCGz09LDSEsrbCCKHamPXFeE2ry+HPiJPe63ZS3ISViAVznJ4Ir6CIyeaims7a4lWSaFHdehYdKYHg3j3Ub7xDqVvqH9kzWtsiYjLLgsM+gruk1yfX/hnegWMsAhiCDeOWxXfzWlvcIEmhR1XoCOlP8hPK8raNn93HFIDyz4KwzQ296Zo2TJGNwx616p/OmxW8UI/dRqn0FOoAXFLiiimIKKKKADFFLRQAlFLRQAlIKdSUAFFFFIAzRmiimAZozRRQAUUUtAGhYf6hv97+gqzVaw/1Df739BVmoe4wooopAFFFFAGdrX/Hkn/XQfyNYlbmtf8AHmn/AF0H8jWHitI7EsBSigUuKoAFLSUtJgFFFLikAgp1JS5ouAUUZpe9UAlLQaKADFLQKWgQhFJTjTc0DHClpAadSEJSYpcUtACUZoo/CmMXNFJmjNIBaWkopDFpKWkoAKKKWgBKKXFFABRRmimAGgCiloENIpwFFLQACg47UEUlK4C0UUUAFFLjIpKkYUUUooASlFGOaUCgBQKTvS5pKBhRS0YoASilxRQAUlLRigAopRQcZpgJiinUYosAgFLjFFFAgo70UUwAUvFJRQAtJS0lABRS4oxQAlFFFIAooopgFFLikNABRRS4oASilxRigBKKMUYoAKMUtFAhKBS0UAaFh/qG/wB7+gqzVaw/1Df739BVmoe5QUUUUgCiiigDP1n/AI80/wCug/kaxK2ta/48k/66D+RrEFaR2JYop1NoFMB1FLRigBKOaXFFIAopcUUAGKOlLSHmgQvWjFJThQAlFBoFAAaXFIKdTGApc02nUCFopBRjFFwFoooouMKKKKQwopaKAEpB706koAUUUlLTEFJS0UAFLRRQAUtNpRQAUtFFSMUmkNAqC+vrfTbN7q8kEcSdSf5UgJuMZY4UdSeAKxbzxbp9tN5Fqst9NnG2BCR/30BiqMcGp+LD5t75lhpWfkhRirzD1J4IFdDY6fZ6bbiGyto4lHcAZP1NMDGOt6253Q+HpFU9A1wmaZ/wlzWrBdY0i6sufvr+9H/jo4rpcfjQVVlKuodT1U9DQIr2l5bX0Als5kmQj+E5I+o7VYXrXO33hlobltQ8PTfYrteTEP8AVS+xXp+NWtE14ai7Wl7F9l1CIfvLcnqP7w9RQM2e9LQKO9IYUUtJQAUtJS0AFIaWlNMBtLRS9qAAUhpaKYgooooAKBRRQAtFJRQAppKKKACgUUUgFopKKYC0gpaBQAhopaKAFFIaKKAEFLRRQAUUUUwCiijFABRRSikAlLRikpgaFh/qG/3v6CrNVrD/AFDf739BVms3uMKKKKQBRRRQBn6zzZp/10H8jWJitvWf+PNP+ug/kaxq0jsSxKWilpgFFFLS1GGKMUUtAhKKKWmAUYoopCFoAoFLmgAxSYpaWgBMUtFFMBMc04ikp1AxBRiiikMMUUUuKAEooooAKKUUUAFLSUuKYhDQKO9LSAMUuKSnCkMTFJS0U7gGKKKKQBRRRn0OD60gI7m4is7WS4uW2RxjcxrmbGzl8VXi6pqaMmmxtm2tzxvx0c/oaWdj4s1s2iErpli2ZmHSdx2HsODXUjaECIuFUYAHYUwFHCgLwAMClApKXFABRS0UhiYx1rF13QV1PZd2jeRqEHMMy9/9k+orbooAxvD2tnU4pbe8TyL23OyWJup9/oa2f84rnvEWnTRyJrOlDF7bD50H/LZO6n9PyrW0vUYNX0+O9tThHHKnqp9KYFykFL9aQUAKKXFAoNABig0maUUxBRRRQAUUUUgCiiigAxS0UUwCkzRS4pAFGKKXrTATFGKWigBKKMUYpgFFGKMUgCijFFABRSig0AFGKKKYBijFFFABRRRQAUUUUAFGKKKAL9j/AKg/739BVmq1j/qD/vf0FWaze4wooopAFFFFAGfrP/Hmn/XQfyNYorb1j/jzT/roP5GsXFaR2JYUUYpQKYBS4opaQCUtGKWgQmKSnE0lACU4CgCl6UxgTTaXrS4oAQU7NJS0AFJTqMUDEHJpTQBiloATFLiiikAUUUUwA0lLRikIQGlzRigCgBRS0lIaYC96KAKWpYwpc8UlFIAopRS4oAbT6TFKaBiYrn/FGqTQRQ6Xp/N9enauP4F7tWzeXcdjZy3NwdscalmrE8M2kl3JPr2of6+6OIEYf6pBxx9cA0wNbSdNg0rS4rSBcKg5Pdj6n3q3j0px/KigBuCKdRRSAKKKMUAFFGKMUAA6+3euWkB8LeIvMU40vUX+YdoZPX6HgV1QA71V1XT4dT02W0nAIkXhv7rdj+dUgLIO4Z6+/rTsVgeF9Qle3l0y+P8Aplidhz1deit+OK36ACiiigQUtJRmgANFFFABRS4oxSAQUtGKDTAKKKKACigUtACUClxRQAUUGimAUUUUAFFFFIAooooAKKKKSAKKXFGKYCUUuKMUAJRS4oxQAlFLijFACUUuKKLgXrH/AFB/3v6CrNV7L/Un/e/pVioYwooopAFFFFAFDWP+PNf+ug/kaxq2dY/481/66D+RrHzVx2JYlApcUUxBSikpRQAUUUUAFOpAaOtACmjrSYpelMdhcUYoBpaBiYoxS0UXASlpMUoFIAzRRRQAUUUUWELRRRTAKUUlLQAlLRQetACUuKAKU0mMBRRRUgOFIaAKCMUAC06mrTqBhRRVTVL6PTNMnu5SAI14z3PYfnTAwddd9b1yDQYD+4XE143baOQv4811EcaxQpEg2ooAUD0FYfhOwaGwe/vATd37ebIT1APIX8M1u9OlAC0UUUgCiilFMBMUU6m4oAKUUdKM0AIaMUtFAjl/EkD6VqFt4gtVz5bCO6UfxRnv+AzXSwypPCk0ZykihlPsabcW8d1byQTrujkUqw9Qa53wrLJYXV3ol65MluxaAsfvxnnj6ZxTGdPRRRQSFFAp2BQMbQKWgUAFFLijFACUUtAoATFFLRQAUUUlACmiilFACUUtFACYoxS0UXATFGKWii4CYopaKLgFJS0GgAooopMAooopAFGaKSmAtFAooAKKKKQF+y/1J/3v6VYqvZf6k/739KsVIwooooAKKKKAKGr/APHov++P5GsfFbOr/wDHov8Avj+RrGrSOxLFoApQKSmIKKBRQMWlxTe9PoEN70uKXFLQAnSjGaMetLQUIBzThSUtACUUtFIApKKKAFooooAKKDRTEFLimiloAWiigUmAClxSikpXGFFLijFIBKdtpMU6gBKKWigYgFHelpMc0AKK5fWFOv8AiO30hGPkWpE1zjv6D8wK3dSv49M02e7mOFiXJrL8Jae9vp7314v+l37GWUnqM9v0pgb2AMBRgDpS0DFLigAooxRQAClpBS0CCiiigAooopgFFFLQAmK5vxXbvZyW2v2qZexP74Dq8R6j88V0tMmgS4t5IZBlJBtYetADYJkubaOeFt8coDKw71Jiub8LTvYTXXh64J32bboSf44z0I/HNdJQAtFAoxQAUUYoxTAWlzSUUALSUUUAFLRRSAQ0AUpoApXAKKKKACiiikAoHFJRRQAUUUUAFFFFACkUlKKXigY2ilNJQIKXHFJTu1ACAUGkp1ADaXGaKD7UDDFLjikFGaAL1l/qT/vf0qxVey/1J/3v6VYqQCiiigAooooAo6v/AMei/wC+P5GsetjVv+PRf98fyNZAFaR2Je4AUtHSkFMQYxSUpOaMUDDFO600GnUAGKUUZoFAxaKKKADFFFFACUUtGKQABRRRTEApaSlpAFJilopXGNApcUtLTAAKXGKSlPNJgJS0lLSAWilooGJS0UUAJRS4oxQAUUYqG6uYrO1kuZ22xxKWbPpQBzviDOseILLQk/1Kfv7r/dHG0/mDXTgYXAGFHArn/CNpJJDdaxecTXshK57IOB+gBrouO1MBM04GkxS4pgLRSZozQIWkoooAKKKKQABS0UopgNpelLikoASl60UUAcz4piOnX1lr9spzbsIrgDuh4H6mujidZoUkjO5HGVI7imXlsl9ZzW0gykqlcfUVh+ELpo7afSLknz9PfyxnqUHCn8hQB0YopBThTASilxRikAlFLijFAAKKKKQBijFFFIApwptLmgBKKKKACl+tJRQAvFJSmgCgBKKKUUAJRTsUbaBh1pMUoFLQA09KSnYoxQIbTj0oxSZoACMUlOPNGKBhnFJ1oxSgUAJ060UuKSgC9Zf6k/71WKr2XEJ/3qsVIBRRRQAUUUUAUtV/49V/3x/I1kVrat/x6L/vj+RrIq1sS9wNA60opRVCAUYoFLQMbilo70tA0ApaBRQAUUUZoAKKTNLQAUUGgUCCjFLRQAdKM0UUAFFFFSMWlFGKQ0gFNJRRQAUopKUUAOooooGFFApaACiiigAHJ4rmfFkgvprPQYSd95Julx2jUjdn8DXSkqqs7nCqCSfYVzfhqP8AtPV7/XZRkO/kW+f4UUkZH14poDo4Ylgto4EHyRqFA9hxT6UdKTFMQtFJRQAUUUUgCiijFMBRRQKKAClFJSigApMUtFACYopaKAAVy2tI2jeKrPWlLCC4It7nH8RPCE/TmupqlrenLq2iXFkW2tIh2N/dbsaALgOQCOh5FLjFY/hS/Oo6Gvnn/SLZvJlXuCOB+YGa2jjtQAlFFFABRRRUgFLikFOoABQRRmjNAxtLinUlACClxRS0AJiilpDQAHmgUtFAhuKBTqQ0DFooFFACUtFFABRRSUALSYoBpaACiiigAooozQAUhpaM0AXLP/Un/eqxVez/ANSf96rFJgFFFFIAooooAo6t/wAeq/74/kayCK19W/49V/3x/I1kmrjsSxM04U3FOqhB0paSlFDGAFFFLSGJS0GkoAWjNFFMQtFIOtLQAhoFLQKVwClxRiilcYYoxS0lFwDFFFFIBc4oxmlooANtG2looGJil7UUvagBKKWigBKWiigAozyM0UfTrQBh+L7+S10sWlmc3F6whjA64z8x/LNael2K6bplvZx4xCgXPrgdawLP/ideNp7kj/RdMHlR56GTuR+BrqjVCEozRRQAUUUUgCiilFMApe1FJQAUUUUAFLRRTAKKKUUgDFJS0lAC4ox+VFH0qQOW/wCQF45C522mqrx6CUYAH5A11PPesbxRpp1DQ2a3/wCPq2bzoT6MP/rE1d0bUk1fRra8T/lqmT7GqAuUd6KO9FwClIwKSipAUUppBS9aBhxRj0owKWgAooooAKKKO1ABSUUtABRRRQAUYopaAEooNFABRRRQAUlLRigBBS0UYoABRRRQAUYooFAC0mKWkoAu2f8AqT/vVPUFn/qT/vVPUgFFFFABRRRQBR1b/j1X/fH8jWTWvqvNqv8Avj+RrJq47EvcKKXFGKoBKWlooGJQKKKQAaKXFFABRRRVCClpBTsVLASlFBpKkY6jOKSigAooooAKKUClxQMM0UYoFAC0UUUAFHajFLQAlFAp2KYDaWlpKACs7XtR/srRZ7oZ3hcIB3NaP1rmdUJ1nxdZ6cpJt7MfaJvQsOAp/A0AafhvTTpeiQQyHdO48yUnqWNatJ0Ppx0paYgooooAKKKKACiloxTASjFLRSATFLiiigAooopgFFLRikAlFLijFABRRRUgJjKlcZzXM6GzaT4mvdEfCwy/6RbAdADxtH5Gunrm/GUU1ulprVomZ7GQbh/eRuD+QJNMDpTxSd6jgnS7t47iEhkkUMpHTBqUCkAlLxRilxQMT6U6kxS0AFFFFABSUtGKAEpe1GKMUAIBS0YoxQAUUYpcUAJS0YooAQ0UUYoAKWkxS0AFFFFABRRiimAUUUUgCiiigAooo7UAXLT/AFJ/3qnqC0/1J/3qnqQCiiigAooooApap/x6r/vj+RrJrW1T/j1X/fH8jWTVx2Je4opaQUd6oYtFFFABRRRQIM0UUuaAEopaKAEpaKWpYBRiiikMKKKKACiiigBwooFFAwzmlpKWgAoFFAoAWiiigBaKM0d6oQUUUYoAivLqGxsJrufASFC7e+KwfCFrL9ln1O7BFxqEhkbPZRwv6YpPFcj3lxY6HDnN3IHmx1EakZ/Q10UUSQQJFEPlQBR9BQA489aWkpQKACiiigAooooAWijrRTAKKKKQBS9aSnCgBMUoFKKM0hiYpKXNJSEFKBRg0mTQApoHvQRRjigA71HPAlxaywTfclQofxFSDilBz160xnO+DpWitrrRp/8AXWEuFBPJjJ+U/kK6M4zXLa4f7F8UWWsKMRXBFtcEdMnAXP611GQcbehGc0ALRRRSAKKKKACikooAWgUUCgBaKKKACiiimAUUE0UALSYpaKYhMUUtIaACgUUUkMKKM0UAKKDSClpiExRiloosAlKaKKAEopcUUAW7T/Un/eqeoLT/AFR/3qnqHuMKKKKQBRRRQBS1X/j1X/fH8jWURWrqn/Hqv++P5Gss1a2EJS0lLTABRRRTEFGaKMUAFLikpRQAuKMUUVNxhRRRSAKKKKAClApKcKAExS4opaBgBRQKKACiiloASlAoFLTAKKKKBCUoFFFMAFI7rHGXY/KoySaM81g+LtQa10kWcK7ri9YQxgemfm/TNAEPh1P7U1a91yblWbyLcH+6uQSPrxXSgVU0ywTTdMt7NBhYUC/kKtg5oAWjNFFMBaMUlLQAYoxRSigBKKWigBKKWikAlKKKKLgOFIaAaDUgJRS0YoAM0UYoFACmilooGJijFLRQBna7po1fRZ7Qj5nU+Ww/hbsareFdRbUdDjWbi4tiYZQeoIOB+grZU7TxXLHGg+OT2tdWXIwOBKMAD8gaYHVYoxS5ooAQ0UUUgDFGKBS0AJilAooFMAxRS0lABRRQKADFLRRTEFFFFMAooooAMUYoopAGKMUUUAFFFFMAooooAKKKKAFzSUUUgLdp/qj/AL1T1Baf6o/71T1D3GFFFFIAooooAp6p/wAeq/74/kayTWtqf/Hqv++P5GsqrWwhKWkpaaAKKBS1QhBS0YoxUsYUUUtSAUUUUAFFFFABRRS4oASnCjFAoGLRRRQACg0tFADcUoFGKcKYCUtFGKYgopcUUAJiloooAQ8A+1cxZg6540mvGO6104eXD6GTufyNaviLUxpWhzzgZlI2RL3Zj2o8NaX/AGRoMNvId8zDfK56sx70DNIg5OaUUGigQYpcUCimAYooooAKKKKQBS0UUrgFFOxTaACiilpAJRTsUYoABRRS0DEopaBQAUUUUAApaSg0AGKxPFumy6jobNbcXdsfNgPT5h/9YmtsUuQTyMjoRTAo6LqMWq6NbXkR4kTkY6Gr1ctop/sXxPf6Q/Fvcf6Ra/jwV/TNdQvTmgBaTFLRSAAKKWiqEFIaWigBKKXFGKBiGgUuKKBBRRRTAKKKKACiiigAooooAKKKKACiiigAooooAKKKKACiiigC3af6o/71T1Baf6o/71T1m9xhRRRSAKKKKAKeqf8AHqv++P5GsmtbVP8Aj1X/AHx/I1lVa2EGKKKKYBS0dKKLiClpKKQxKcKMUUAFFFFIAooooAKcOlNpwoGLRRRQAUCigUALRRRQAUopKWmAUtJRTELRSUCgBaPQd6Kp6vqK6VpM16//ACyUlfc9hQBg33/E88Z29ovzWunDzZfQydh+Rrqs5PpWN4X05rPSftFxzc3bedIT79B+VbP+TQAUUUCmAtFKKKQBikxS0UgExSiiigBxGKbSk5oBpAFGKXHNLQA3FAFLRQMWiijFABRR0ooAWkzS03FMApaAKWiwhM0UYoxQMKUcc0UUAc74vtZfskGqWn+usJN/A6qeG/TNbdneR39jDd2/+rmQMuPcVM6LNE8UgDI6lWB9DXNeFS2maje6BO2fJbzbfP8AzzbOAPoBTA6ajOKMUUgFopBS0xBRRRTAKKKKACiiigAooooAKKBRSAKKKKYBRRRSAKKKKBhRRRQAUUUUAFFFFMQUUUUAW7T/AFR/3qnqC0/1R/3qnrN7jCiiikAUUUUAU9T/AOPVf98fyNZVaup/8ey/74/kay6uOwmAoxRRVCCiiipGFLigUUgCiiigAooooAKUUlKKAFxSZp1NoGOooFLQAmKWkpaACgUUCmA6jFJRmmIKKOtHSgAoozSjmgBc+1cvq7HXPFFpo6H/AEa2P2i59MjlR/Ot7UL2PTtPmu5mwsSE/U9h+dZXhKycadJqdyp+037ea27qF6qPwzQBvYAUAdBwAO1FKPpRQAUopKWhgFFFFSAUUUUAKBml20CloGJijFLRQAgGKWkpaACiiigAowaKWgBMUtFFMAxRRRQAUUCg9aYgoFFFIYGiiloASua8UwPZTWmu2wxJaPtmx3jON35AV01RXFtHd20sE4zFKhV19QaYCwzR3NvHPCdySKGB+tPrmfCVxJaS3Wg3ZPm2bExMf44zyMfTIFdN9KQAKWkFLTEFFFFMAooopAFFFFABS4oooGJRRiloEFJS0YoASiiigYClxSCloAMUUUUAIKXFIBS0AJRRSUALS0lAoAuWv+qP+9U1Q2v+qP8AvVNUPcAooopAFFFFAFPU/wDj2X/fH8jWVmtXU/8Aj1X/AHx/I1lVpHYli0UCimAoopKWpGFFFFIAooooAKKdtoxQAgp1IBSmgYUUYpcUAIKWjFLTATFFLmigBKBRiloEFLikozTAXGKQ0UtACUoPpRVXU76LS9MnvLk4SNc/U0AYOu51vXrbRIW/cwkT3Zz27D8wK6gDau1QFUdAKwvCWnyW+nyahfLi8v2MkoP8I7L+lbuMCgBRRRS0AJS0UVIBRRRQAUUtLigAFLSCloGFLSUUABopaSgAooooAOtLSUtABRiilpgJijFBpaYCCjvRRQAtJRS44oEFJmlooATNGf8AJpcUYoA5jxVG2m3tn4gt1/49jsuVH8UR6/riukjZZo1ljIKOMgikuLeO6t5IJkDpIuCD3rn/AApcS2dxc+H71i01mcwu3/LSPsfzzSGdJ0pc0hopiCiikpgLRRRSAKKM0CgYUUtFIApKWjFACZopcUUAFFFFAwooooEFFFFACGiiloGFJS0gFACYp1FFAFu1/wBUf96pqhtf9Uf96pql7iCiiikAUUUUAU9T/wCPVf8AfH8jWVWrqf8Ax7L/AL4/kay6uOxLCiiimAUtFFSMKKKKAClpKUUAOoopKBi0daSl6UAOFJ3pQaMUwA0AUUUxCY5paKDQAUUUUgCiiigApaSlpgGfWuX1Rv7f8TQaUnNnZkS3Rzwzdl/I5rX13VRo2lSXOA0p+SGP++56D86g8M6UdN0vdP8ANc3LedMx65Pb8M4oA2RnaOw7CjrRRQAUtJS0MAoooqQCiiigBRTqaKdQMKKKKACiiigA7UYpe1FACYopaKACiiigApaSlqkIKKMUUAFFJmjNAC0UZooAKKKKYBRRRQAVzfim1mtnttbsVJls2/egfxxng/lkmukpHjWWNo5eUdSpHsaQEdpcxX9nFdWzb4pVDIfUGpR0rlvD876HrU/h+f8A1Tky2bHup6r+HFdTQAUUUUAFLSUUALRSYoFAxaKKKQXCiiiiwXCiiinYLhRRRRYLhRRRigQtJRRTAKKKKQwoFFFKwBS0goosFy3a/wCqP+9U1Q2v+qP+9U1SwCiiikAUUUUAU9T/AOPZf98fyNZdamp/8ey/74/kay6uOxLClxSUtDAKKUUGkMMUCkpRQAEUuKQ0tAxaMUUCgAxS0UUAFL2pKWmAUCiimIKKKKACiiikAUuKQUtABRkDOTgDv7UVgeJdRlAi0jTjm8vTt4/gTufyzTArWp/4SXxQ1yw3afphKxekknr+BH611RPtiqml6bDpGmw2NrkJGvJP8R7mrXf1oAKKWii4AKKKBSAKWjFJSAdijFLRQMbilBpaBQAUUUUAJS0mKM80AO7UlGRnbnn0oAoAWijnGcUikMMqc/SgBaKQnHXigcjIPHrTAWjNA5oxQAZooxRT1AXFGKWkoEJS0UUAFFFFMAooooAKKKKQGH4q0t7ywju7QEXtm3mwEfxY52/jgVc0TVU1nS4rqPIYjbIp6qw4P6itCuUmH/CK+JlnTjTNSbEvpFJ2P0wDSA6v6UYpQQVBBBB75ooKACg8UUHmgA60UAUUCCiiimIKXFJRmkMMUuKSlpaj0EpcUUlAC4ooopgJRmlNJQAZopMUuKYgooopAFFFFAi3a/6o/Wpqhtv9WfrU1S9xhRRRSAKKKKAKep/8ey/74/kay61NT/49l/3x/I1l1cdiWFLSUtDGKKKSikAuKBS9qQUABpaMUtAwoFFAoAWijtQOaYAeRSijFFMQtJRmigBTSUUUAFFGKXFABRRQWAQsx2hRyT2oAq6nfQ6Xps17ctiOJcn3rI8MWFw8suuaoh+23n3EYf6qPso/X86pRs3jDxBuKsNKsH4B6Tv6/Qciuv4HHYcD2oAM560UUooAKKKKkAopaXFACZ4pBTsUYoGApaTmloAKDRQaACigUUABrD8X69/wjXhLUdVChnghJQf7WDit2uL+LVo958MdVSHJeOPzMAdQASaYHIN4T17/AIQf/hK1127/ALYMf2pY9x8sgnIXGcdD6V6P4M17/hJfB+n6qww80fz49axF1uyj+DAuzNGUTTwpww+9gDH1p/wqhOn/AAu0hbwrAxjyRIdvUn1oAxvHGoanrvxA03wbp95JYW8sZnuZovvMBg4H61A5ufhp440rT49QmvdN1Y7GjuXLNG/qCcnsfzrQ8e6Fa6l4k0y403WE0rxBGT9lkb7sq8ZB4+lcZ4j0bWZfiT4WTXdYj1HUhNu8uEHZFGM5OOvpQBd8T31trvxRv7TUfE8ui6bYW6qNj43Pk8dfQiu68CaDbabbS3Vl4gn1mCcgK7tlV/Ws3TfD3gLWvGmsziNLzVRJi7jnyNpwOg4rM8BwwaL8Ytd0fQ3J0gQJJ5anKRyHdkD8aAPVRxS0mcmlpiCiiimAUUUUAFFFFIAooooAKM0UUDDNFGPSjFFwCqup2EGq6ZNZXKgpKMZ7qfUVboA55pAc54W1GeOSXQtTb/S7MfI5/wCWqdm/nXRmsLxLo81zFHqOlny9Qs/nRh/GvdT+Gat6HrMetaYtyn7uQHbLEeqOOopDNI0g60oGaMYpgFFFLQISilNJQMKKWikJiYpaKKAQUUUUBcKKKKAENFLRigQYoxRRQVcSilNJQSFFLSUAW7b/AFZ+tTVDa/6o/WpqkYUUUUAFFFFAFPU/+PZf98fyNZdaupf8ey/74/kay6tbCYUGiigBBz0paCQqkscKBkk9qz7XX9Jvrt7azv4Zpk4KK3IoA0u1IvvS9FBqpqOqWWlW/nalcR20f96Q4pDLlFVrC+tdStxPY3CTxnoyHIqtfeI9H0y4EF/qNvBK3RHbmgDSopqTQyWwuElUxEZDg8YrNbxToKMQ2rWoI6jfTA1e1ApkMsc0YkidXRhlWB4Ip4oAWiiimIKKKKQBRRRTELRQKDSGGa5fWr2bWtQOg6XIVXg3k6n7i91B9TzUHivxlFp9/b6Hpzh9SvG2DHPkg9Sf1roNG0SLQ7D7PGd8pbdLKw+Z27kmmIsWNlbadYx2tnGI44xjAHU+tWKAMUUDFooooAKKKKkBRTqaKdQMKSlooAKKKKACikpc0AFFFLQAlMmgjuoJIZ0DxyKVdT0INSUUwPPz8HtEEu37XejTxIZDp4mPlMc56dO9dPr3hey8Q6TBp8ryW8MLq6CJtuNpBAz6cVtUmKAOb8SeB9J8T2ttHd+bDdWf+ouoX2yJ+P4VF4c8AaZ4dvH1Bppr/UXXb9qun3uF9AT9K6nFGOKAOL1/4a6XrGttq9rdXWmX8gxLLaSFPMHvjrWv4a8I6Z4UtpI9NjZpJm3zTyHdJIfUnvW7iigAHt0paTFLTEFFFFMAooooAKKKKQwooooAKKKWkAgpaKKQwoFFFAC1ymsW83hzUzrmnRlrWTi9gUdv74HqOSa6vNNIV1ZJEDIRgg85oEiKzuYry0juLZt8UgBVhU5rhL/VYvh5rVtHczH+yNSl2ruP+oc/0613MciTRq8bBkYZVh3FUDFpaKKQuolLSUtIYtJRSUAxaKSgUALRRmqWoaxp+kxLJql5Faox4MjYzQIu0VFaXdvfW6zWk6TRNyrIcg1N9BQAlFZv/CQ6R/aP2D+0YPtYODDu+YGtCWSO3haWeVY41GWZjwKAHUVnWHiHSNUmaLT9Rt7iReqo2SKmv9WsdMVTqN3FbBvu+Y2M0wLdFULHXNK1KXyrHUIJ5MZ2o2TV/wBjQAUUtAFAFm2/1Z+tTVFbf6s/WpagYUUUUAFFFFAFTUv+PZf98fyNZdampf8AHsv++P5GsuqQgooopgcH8WtXuNO8MQWlm5jk1C4SAsOoUsM/pmsPxz4N07wt4GttY0SD7Lf6c0cn2hGOXA5YH64rZ+L2nT3Xhi3vbaMubG6SZ9o527hn9KzfiF4q0vXvh7BpmjXkV3eaoY4o4Y2Bdc8HIHIxmnoB6Lot9/aGh2V03JlgR2+pANedrbxeNPjLqNjrCfaLDRoRsgydpYkjP6121heWHhzSdH0rUZ0hupYkiRMY3sB0/SuItLmDwh8a9Tk1eVbW11iENFPI2FJBJxk/SgYaXAPCXxnm0PR90VhqFqZkhJyqPjPH51pad8M9K06w1G98YNFqFzO7ySXMjEbFycAfTis+zurfxB8bX1ewmWbTdLsyktwvKFiOx6dqw9U8Z2fxE8ST2F3q8el+HbN9sqGUK9yR1HUcdaQEvhLUrjTfhX4nuN0raajulgX5IUgDj86xfCk/w8i8O6ePEGk3LXEiL515Ij7C5Hr9a9Pvtb8P2PgO5Og2Nvq+nWaqrWkWCMZHUDPTrWN4k8WeEtT+EVwls1uftFsUgsYyC6yleAFHIwaAPR9OjtY9Jtl05la0CDy8HPHarFcz8OrS7sfh/plvqCssix5w3UA8j9K6agQUUUUAFGKKWgAxSYpaU7VGW4AGSaAEHvXF+N/G8ejwfYNIZbjVJuFUdIh6mqni34iLH5uleGgJ7tsq9z/BD64Pc1wdraeQzzSO01xKcySucsxrpo0nJ3ZyYiuoKyE062aPxPpk9xI091Jc7pJX5JOK+gCcsc14RaD/AIqTSscZn5/KveCOTU1oqLsPDScoXYyjFBorA6gooopAFFFLigAAp1IKWgYUUUUAFFFFABRij6UtABRRRTAWikNFO4haKKKACiiimAUUUUAFFFFABRRRSAKKKSgYtLikFLSGBFJS0UAJS0UUxBS4pKKLCFxSUtJQMKKKKQHm3xdijnGixzKHQ3HIP0NYvg3xjN4WvI9M1aR5tKkOIpW5MB7A+3+Nbnxa+/on/Xx/Q1xEyLNuSRQyMuCCK66dJTgefWrOnV8j3yKaOeFZIZFkjblWU5Bp9eIeG/Ft94MlWKbdd6KxwU6tB9Pb2r2TStVs9asEutOnWeJhwynOPY1zzg4s7KdRTV0WjRSnrRUGgUUtBoEJilxSUU7AKOCPavJtHsbfx98Vtcl16IXNnpYEFvA5O0HkE8fQV6zkDlun0rynwzd2fhL4seIbTWJktIr8LcQSysER/vEjJ47ikAeDlHhX4tat4asif7OmiFxDETnyz8uQPxJrsPiJrEug+AtT1C2OJo4win0LHbn9a5Dwu6eJfjNrHiKww+nWcAt0m/hkOFJwfwNb/i+a38a/DzW7fQpluWiG1gOzoQxH1xSA5e2+Hmky/B86jJGf7Xks/tpvtx8zzNu7P51a0zTdQ+Jvw10MXF+YbeOXF6gzmZUJXH44FMt/HWjD4KKst1Gt8lgbM2ZYeb5mzbjb161FaeJF+Fvwg05L1QNTu8mCFjjBYkgn0GKYyn8SNC0Tw1qWgJ4Vtxa6092qqtsxLFOM7hzxjNQ/ErUdLuPihpNl4khmure1tDJLbxKx3uwGOn0q94Hn8NWmqDX/ABN4js9Q8Q3eP+WqlYc/wryf8muj1HxhoGm/E5LDV9PhtJpYFa31aQAB8j7ufy70AU/h2fAt1qs0nhqxNjqUYw8M25Xx64P4V6Rn5j+teSzTWWu/H3Trzw2UmSztWF/cwcox3DAJHXivWv4sjp/OmIKXNJRQBatv9WfrU1Q23+rP1qaoe4wooopAFFFFAFTUv+PZf98fyNZdampf8ey/74/kay6pCCiiigBHRJYZI5UV0cYKsMg1h2PgzQdM1A31lp0MdyejYyFPqB2rdooAqXel2V/c2895brNNbNuidv4T61HquhaXrcPl6taJcjsWHK/Q9qv4zTgKfQDO07Q9N0iwaz06zjhgdSHUD731NZv/AAr/AMLOSx0iHLHLYHWujxTlGKBmfpvh/TNHtXt9MtI4YpBiRMZD1RtvA3h221IX0OlwLMDnO3IB9QOldBRQAvbAAA9PSkooxTEJRSnigCgBKORVPUNW0/SYTLf3cUCjn5m5P4da4HWPijJdboPC1qZBnAu5hhB9BwaqMZS2InJR3Z3mra5p2hWbXOp3SQovYnk+wry3xB431TxRutdPVtP0wnG/pJKP6D6GsOW3uL28a71a6kvbljkM54T2AqcAAn1rqp4e7vI8+ti7K0SO3gSzh8uFcDoTnJPuTUw+tJRXcrLRHnSk5O7HWf8AyMelf9d/6V7wR8xrwez/AORi0r/rvXvBPJrzcT8Z7GD/AIY00lKaSuU7AooooAKcOlJil5oASnU3Bp1AwooooAKSlooAQcU6kxS0wCijFFAAaKKKYC0UUUCCiiimAUUCikAUCijNACmik5peaQxKBRg0oFAwoNFFIBBS0lLVAFFFFFyQFLSUUXAKU0UUXHYSilxRikI83+LX39E/6+P6GuJPEuPau3+LX3tF/wCvj+hriT/rvwr0sL8J5GN+NAQGXawyvoabp13qPhm/N94fmKAnMls5zG4/p+FOoPStpQjJHJTqSg7o9R8LfELS/Earbyt9j1Afet5eCfpXWkEDOPxr56nsYLkgumHXlXHBB9a3dH8f6/4cVYrwNq9mvHJxKo+vArgnh2ndHq0sXGStI9nHWlNc3oHjvQvEMY+z3SwzngwTfKwPpz1rolZXG5Dx2Oc1ztNHYmnsLSik+lKaBi+3asvWfDek6/GE1WyjuMcKxGCPx61p0uKYFDTdIsdI09bPTrdIIV4CIMZ+vrTtO0mw0lJUsLZIUmcvIq9GYjqatmiloBgt4J8Ovqf286VB9o3b923jPrjpVzV/DWj68sQ1ayS5EIxGGH3a0qXNLQDmV+HXhaKeOWLR4A0ZyDjvWjq3hrSdbgSHUrKKZY/ubl5H0PWtXNJQBQ0nQtM0K3MWlWcdurHJKryfqeprQoFFABiiiii4Fq2/1Z+tS1Dbf6s/WpqgYUUUUAFFFFAFTUv+PZf98fyNZdampf8AHsv++P5GsuqQgpcVheIvF2jeF1jbWbjyvM+4AOtYTfGPwamM3z/gtMDusGgVwR+NHgzteyf98U0/GrwaP+XuX/viiwHf45pRmvO3+N/g5QSs9wx7AJVd/j1oAH7q1upB6+X/APXqgPT8UteUn486Qfu6dcn/AIB/9eqU/wAcpnf/AEDS49nrMzD+VHKyeeKPY+1A56V4nP8AGbVp12xrp1t7h2Yj8CtZ83xG1i7hKT+IkiB7Rwr/ADxVKDZDrQR725EabpDsX1bisu88S6Lpx/03U7aLHVTKM/lXg0utxXaYv/ENxOM5wHZf5Ukd/oCSbmnV29ZCz5/OtFQb6mMsSlsj1S/+LGjRNt02C5vXPAxEVX865vUfHXinVMi08jTYWGP77fnxiuYGv6Qh+S4jX6KR/SlPiHSz/wAva/ka3jQgt2cs8VUeyJpbH7ZN9o1KWS+mzktO27B9s1axwBgADoB2rOHiDTOc3afkaB4h0v8A5+0/I10RjBHJJ1Z7mnSfn+VZ3/CQ6X/z9r+Ro/4SHS/+ftfyNXdGapyXQ0aKzv8AhIdL/wCftfyNH/CQ6X/z9r+Ro5kh8kuxpWn/ACMelf8AXf8ApXvH8Rr52s9f0w+INNf7Uu1JsscHgV7UfHHhvcf+Jtb/AJn/AArza7vI9fBq0NTdNFYH/Cb+G/8AoL2/5n/Cj/hNvDn/AEF7f8z/AIVz2Ow3qUVg/wDCb+G/+gvb/mf8KP8AhN/Df/QXt/zP+FFgOg6UVgf8Jx4b/wCgtb/mf8KP+E48N/8AQXt/zP8AhRYZv0Vgf8Jx4b/6C9v+Z/wo/wCE38Of9Be3/M/4UAb9FYH/AAm/hv8A6C9v+Z/wo/4Tfw3/ANBe3/M/4UgOgorA/wCE48N/9Be3/M/4Uf8ACceG/wDoL2/5n/CmBv0tc/8A8Jx4b/6C9v8Amf8ACl/4Tfw3/wBBe3/M/wCFMDforB/4Tfw3/wBBe3/M/wCFH/Cb+G/+gvb/AJn/AAoEb1FYP/Cb+G/+gvb/AJn/AApP+E38N/8AQXt/zP8AhQBv0Vgf8Jv4b/6C9v8Amf8ACl/4Tfw5/wBBe3/M/wCFAG9RWD/wm/hv/oL2/wCZ/wAKP+E38N/9Be3/ADP+FMDeorB/4Tfw3/0F7f8AM/4Uf8Jv4b/6C9v+Z/wpAb1LWB/wm/hv/oL2/wCZ/wAKP+E48N/9Be3/ADP+FJjN+isH/hOPDf8A0F7f8z/hR/wnHhv/AKC9v+Z/wpDN3mnVgf8ACb+G/wDoL2/5n/Cj/hN/Df8A0Frf8z/hTA3qKwf+E38N/wDQXt/zP+FH/Cb+G/8AoL2/5n/CkBumlBrAPjfw3/0F7f8AM/4UDxv4b/6C9v8Amf8ACmBv0Vg/8Jv4b/6C9v8Amf8ACj/hN/Dn/QXt/wAz/hSEzepawP8AhN/Df/QXt/zP+FL/AMJv4b/6C9v+Z/woEb1FYP8Awm/hv/oL2/5n/Ck/4Tjw3/0F7f8AM/4UDub9FYH/AAnPhr/oL2/5n/Cj/hOfDX/QXt/zP+FMDl/i197Rf+vj+hrif+Wp+lb/AMUfFOi3o0hrS/jmEc+X2ZOODXHHxBpu/d9pXp6GvRwztE8jGxvJWNKis3/hINN/5+V/I0n/AAkOmf8APyv5Guq6OCzvsadGazP+Ei0z/n5X8jR/wkOmf8/S/kaV13GlLsWp7C2uZRLKmJF6OvDD8a0NO17xJobj+zdTNzbj/lldZfj0BJ4rF/4SHTP+flfyNL/wkOmZ5ulP4GspU4SN41qsdEeh2HxdKbYtd0iaIk4Mlvlx+QFdRp/j/wANaimYNUihOcbLgiNvyJrxT/hItMHW5H5Gq8mqaHMCJHjPuEwfzxXPKhFbM7IYqXVH0nBd29yB9mnjlzyNjA1OQRwa+Yo9S022l82z1W5t37bZXI/LNX7Tx1qenMxs/E0jE9BLEG/mKylSZ0RxUX0PozB/yKBXgtl8Xtes2/e3dpfDP/LUFP5LV4fHTUUk/f6XaFR3jkc/0rFxkjVVYs9sx3pMGvIov2gdP2/v9LnD99ikipk+P2iswD6ddqPUp/8AXpWZXOmer0orzOH48+EWOLj7TGf+uf8A9erC/HLwSf8Al6uB9Y6RR6JS156Pjf4J/wCfub/vinj42eCT/wAv0i/VKAO/xSVxem/Fnwnq2pQ2Vjes80zBUBXqa7U80AWbb/Vn61LUVt/qz9alqBhRRRQAUUUUAVNS/wCPZf8AfH8jWXWpqX/Hsv8Avj+RrLqkIZJBDOMTRJJj+8ucVGLC0HW1hP8AwAVPilFAEP8AZ9n/AM+kP/fAo/s+z/59YR/2zFWKWmMrDT7Mf8u0P/fsUv2C0z/x6w/98CrAFG2mBX+w2n/PrD/3wKPsNoP+XWL/AL4FWMUYp3YrIrmwtM5+yw/98Cl+xWh/5dYf++BU7HAJ64GcVy1v4t1S9ec6foPnQxTNDvNxjJU46Youwsux0n2Cz/59of8AvgUfYLT/AJ9of++BXP8A/CQ6/n/kWx/4Ff8A2NL/AMJDr/8A0Lg/8Cf/ALGi7Fyo3/7Ps/8An1h/74FH9n2f/PtD/wB8CsD/AISHX/8AoXB/4E//AGNJ/wAJD4gz/wAi2P8AwK/+xouw5YnQfYLT/n1i/wC+BR/Z9p/z7Q/98CsD/hIdf/6Fsf8AgV/9jSf8JDr/AP0LY/8AAr/7Gi7DlR0P9n2f/PtD/wB8Cgadaf8APrF/3wK53/hIfEP8PhwD63P/ANjQPEXibt4eT/wI/wDrUtQ5YnSf2bZ/8+0X/fApDp1n/wA+0X/fArnD4i8Tf9C6n/gT/wDWoHiHxL38Op/4E/8A1qd2HKux0X2C0H/LrD/3wKcLO2/54R/98iuTv/GWs6XFHLd+HQUdwnFz3PH92r//AAkOuHp4c4/6+f8A7Gm3cSikb32G2/54R/8AfIo+xW3/ADxj/wC+RWA3iDX/AOHw4Pxuf/saT/hINf8A+hcH/gT/APY1BZ0H2K37QR/98ij7Db/88I/++RXPf8JD4g/6Fwf+BP8A9jR/wkPiLt4cH43P/wBjQB0X2G3/AOeEf/fIpPsVv/zxj/75FYA8Q+Icc+HF/wDAn/7Gl/4SDXv+hc/8mf8A7GgDe+xW3/PGP/vkU77Fbf8APCP/AL5Fc/8A8JBr3/Quf+TP/wBjQPEGu9/Dn/kz/wDY0Ab/ANit/wDnjH/3yKPsVv8A88Y/++RWD/wkOu/9C5/5M/8A2NH/AAkOu/8AQuf+TP8A9jQBvfYrf/njH/3yKPsVv/zxj/75FYP/AAkOu/8AQuf+TP8A9jR/wkOu/wDQuf8Akz/9jQBv/Yrf/njH/wB8il+xW3/PCP8A75Fc/wD8JBrv/Quf+TP/ANjS/wDCQ67/ANC3/wCTP/2NAG/9itv+eEf/AHyKPsVt/wA8I/8AvkVgf8JDrv8A0LZ/8Cf/ALGj/hIdd/6Fz/yZ/wDsaYG/9itv+eEf/fIo+xW3/PCP/vkVgf8ACQ67/wBC3/5Nf/Y0f8JDrn/Quf8Akz/9jQBv/YrYf8sI/wDvkUps7Yf8sI/++RXPnxDr3bw5/wCTP/2NIPEPiDv4cG3v/pX/ANjSA6H7HbZx5Ef/AHyKBZW/eCP/AL5FcreeM9XsZ7eGbw5zcvsi/wBJ7+/y+9Wm8Q+IQcf8I4OOP+Pn/wCxoA6H7Fbf88I/++RR9itv+eMf/fIrnx4h1/v4c/8AJn/7Gl/4SHX+3hz/AMmf/saNRG99itv+eMf/AHyKPsVt/wA8Y/8AvkVgf8JDr/8A0Lg/8Cf/ALGj/hIdf/6Fwf8AgT/9jQM3/sVt/wA8I/8AvkUfYbb/AJ4R/wDfIrA/4SHX/wDoXB/4E/8A2NIfEHiHadvhxc9v9J/+xpDN/wCwW/8Azwj/AO+RR9gt/wDnjH/3yK5z/hIfFA/5lxP/AAI/+tR/wkXij/oXE/8AAj/61AHSCxtv+eMf/fIpwsrb/njH/wB8iuaXxD4nz83hxMf9fH/1qf8A8JD4h7+HR+Fz/wDY0AdF9htv+eMf/fIpPsVsP+WMf/fIrnv+Eh8Q/wDQuD/wJ/8AsaP+Eh8Q/wDQuD/wJ/8AsaAOh+xW3/PGP/vkUfYrb/nhH/3yK5//AISLX+/hwf8AgT/9jSf8JD4g/wChbH/gT/8AY0AdD9itv+eEf/fIo+x2/wDzxj/75Fc9/wAJD4g/6Fwf+BP/ANjR/wAJD4g/6F0f+BP/ANjQB0P2K3/54R/98ij7Fbf88I/++RXPDxB4g/6Fwf8AgT/9jSHxD4i7eHF/8Cf/ALGgVjofsNt/zxj/AO+RR9htu8Ef/fIrnP8AhIfEvbw4v/gT/wDY05fEHiL+Pw2P/An/AOxpgdF9htCoDWsTY9UFJ/Z9mP8Al1i/74Fcs3jLV4dUi0+Tw7+/mQuo+0dgcf3aut4g18dPDY/8Cf8A7GndktJ7m59gtP8An2i/74FH9n2n/PrF/wB8CsD/AISHxBn/AJFsf+BX/wBjS/8ACQ+IcceGx/4Ff/Y0XfcSiuxvf2fZ/wDPrF/3wKX+zrP/AJ9ov++BXPf8JD4l7eGl/wDAr/7Gj/hIfEv/AELS/wDgV/8AY0aj5V2Oh/s6z/59ov8AvgUf2fZ/8+0X/fArnv8AhIfEp/5lpf8AwK/+xo/t/wAS/wDQtL/4Ff8A2NGocq7HQ/2dZ/8APtF/3wKP7OtP+faL/vgVz3/CQeJf+haX/wACf/saQeIPEmf+RaH/AIFf/Y09R2j2Oj/s6z/59ov++BR/Z1nu/wCPaH/vgVgDxB4h7+Gh/wCBX/2NH/CQeIM/8i1x/wBfX/2NF2Ky7HQfYLQ9bWL/AL4FJ9gs8/8AHtD/AN8CqXhzW/7f0hb0W5tyWZGjLZ2lWI6/hWpRqFkVxp9n/wA+sP8A3wKX7Baf8+kP/fAqeigehB9gs+9pCf8AtmKT+z7H/nyg/wC/YqxRUgV/7Osf+fOD/v2KP7Psv+fSD/v2KsUUgIY7K1jcPHbRKwPBCAVOWpKUUAWbb/Vn61LUVv8A6s/WpakYUUUUAFFFFAFTUv8Aj2X/AHx/I1l1qal/x7L/AL4/kay6pCHClpBS0DAUtIKM80AO7UUmaKYhaKKKYCEfI2PQ1geDo3j0283oVLX0xGR23V0Ge9IiqoOBj6CgYucUuaSigQtGaTNFABmjNGKXFAADS0mKMUAL1oNAFLj2pgc342jeXSrYRIzkXCcKP9oV0ynKj6U0jIGenYU7GKljFopKWkAUUUUABpKXNFABS0lLQAUUUUAJS0UUAFLSClqkIKKKKACiiigA6Gg9c0UtAzmfE6sdY0QqpOLkZwOnIrqGOWP1phUHryRyMjpQDQA7FFJmlzRcBMZoxS5zSZpDDFL9aTNFAC5ozSUuKQBRRRQAmKMUtFAriYpcUUtAxuKWlNJTEJilxRRQFwxTu1JxRQDOa1FWPxE01ghKLatkjoPmFdMTjim9WyQNw7mjrxTsIWgUAUUrAOzRmm0UgHZzSfjSUUwF/GgGiimA7IpdwzUdGKQznfAqNH4cYOpU/aZuCP8Apo1dFQqgfdGB7U7bQAlFLgUYoENooopAFFFFABR1oozigC1b8Rn61LUVucxn61LUjCiiigAooooAqal/x7L/AL4/kay61NS/49l/3x/I1l1SEOFLSCloGAoPWgUHrQAtGKBS0wAUUUUCFoozSZpgFFGaKACgUZozSAWiiimAClpKWmAA5PrWN4g8XaT4c8iPULlRPcSBIol5Yn6UmvatrGntCmjaUt+X+9kkYrnviHp1u+h2epXFqq3rXCAseSvB4FIDuw6+UZnO1ApcnHQYzXMWXxD0e81BbdFuFheXyo7l4yI5GzjAbpW3dPbyaW9nNcCNp7dlx3wVOTXj1zZ6mPDmm6Nb3NjcWUOpR+RJCT5zAN3GMcd6Qz0m/wDHmnWOoS2yx3E625AnmiiLJGT0ya6SGVJo1kTlX5U+1eGafb6hZaL4gu5da+y3NncAi0eNW832bIr2rRp5LrQ7K4nTy5JYgzLjGDQBdooopAFFFFABRRQKAFFFFGaACiikoAWlpBS1SEFFFFMAooopAApRSU5PvCgZzOs+OdN0bUZLOSOeZoVDTtChZYlPckdK6C1uIry1jubdg8UqhlYdwa82iuraym8bJqbosrI7KHHLKd2K67wNFLB4L09JwQ5Qtz6E5H6UhnQUUUUgAZooooAKKKKoQUopKUUhhRQaSkJi0UlAoEOpKXNFNAJRS0U7gJRS0UrgQ3V3Bp9s91dypFDGuWdzgCs/w94k0/xTpr3+ksXtxM8O4jqVODiruo2NtqWnzW99H5kBGWXPXHI/WuS+Gqw2nhvUAu2KCLUrkjAwFG6gDW17xjYeH7yKylhuLm8mG8Q28ZchRxkgdKSfxvo8GgwakGkmS4bZHGi5ct/dx61zniWK4tPHkOq6Fd2TTz2bJJDdsQCmR8ykA+grz6wsNVa60eW5vFtrW41KUrcgZUZj6gEY9qBnuGg+IbbXopDDHLBLC22SKZSrKfoa1iK4XwHcXSa9rOlz3I1CG2Zdl6EAZs5yDj0xXd4wMUANooopCCiiigAooooAKKKKACl5oFLmgYnNFGaM0AJRRRQIKKWjFACUtGKOlAFm3/1Z+tS1FbnMZ+tS1IwooooAKKKKAK97E80IWMZO7PX2qj9huP8Ann/48K1qKdwMn7Fcf88//HhS/Yrj/nn/AOPCtWii4GV9juP+ef8A48KPsU//ADz/APHhWrRRcDL+xz/3P1FH2Of/AJ5/+PCtSii4GX9jn/55/wDjwo+xz/8APP8A8eFalFF2Bl/Y5/7n6ij7HP8A3P1FalFFwMv7HP8A3P1FH2Of+5+orUoouBl/Y5/7n6il+xz/ANz9RWnRRcDN+yTf3P1FJ9kn/ufqK06KfMwM37JP/c/UUfZJv7n6itKijmYGZ9km/uc+uRUN5o6ahCsN7bLNGrbgrkcGtmildgYsmiRy3kV29spniBVJM8qMYxVS28Iabaaib630yFLliSZB1ye/WuloouBzF74N0vUb5by80yGW4X/loep/WtcWsqrhY8DoBkcVoUUXAofZpf7v6ij7NL/c/UVfoouBQ+zS/wBz9RR9ml/ufqKv0UXAofZpf7n6ij7NL/c/UVfoouBQ+zS/3P1FH2aX+7+oq/RRcCj9ml/u/qKPs0v939RV6ii4FH7NL/d/UUfZ5f7v6ir1FPmAo/Z5f7v6ij7PL/d/UVeoo5mBR+zy/wB39RR9nl/u/qKvUUczAo/Z5f7v6ineRL/d/UVcopXA56/8I6Xqd4l3fadFNMnRm6/zrTFq6KqomFUYABHA9KvUUXApfZ5P7v6ij7PJ/d/UVdoouBS+zyf3f1FL9nk/u/rVyii4FL7PJ/d/UUfZ5f7v6irtFF2BT+zyf3f1FJ5Ev939RV2ii4FPyJP7v6ij7PJ/d/UVcoouBT+zyf3f1FH2eT+7+tXKKLgVPIk/u/rR5En939at0UXAqeRJ/d/WjyJP7v61boouBU8iT+7+tHkSf3f1q3RRcCp5EmCCvB681TTQrSOzntI7RFguGZpUHRy3Umteii4GBe+E9L1G3hhvNOiljgGI1b+EenWpbnw5p15pi6dc6fC9onCxHov0raoouBkaZoNpo1t9n020SCLOSq9z61c8mT+7+tW6KLgVPIk/u/qKPIk/u/rVuii4FXyH/u/rSeRJ/d/WrdFFwKnkSf3f1o8iT+7+tW6KLgVPIk/u/rR5En939at0UXAqeRJ/d/WjyJP7v61boouBU8iT+7+tHkSf3f1q3RRcCp5En939aPIk/u/rVuii4FTyZP7v60phk/u/rVqii4FXyZP7v60GF/7v61aoouBHApRCGGDmpKKKQBRRRQAUUUUAFFFFABRRRQAUUUUAFFFFABRRRQAUUUUAFFFFABRRRQAUUUUAFFFFABRRRQAUUUUAFFFFABRRRQAUUUUAFFFFABRRRQAUUUUAFFFFABRRRQAUUUUAFFFFABRRRQAUUUUAFFFFABRRRQAUUUUAFFFFABRRRQAUUUUAFFFFABRRRQAUUUUAFFFFABRRRQAUUUUAFFFFABRRRQAUUUUAFFFFABRRRQAUUUUAFFFFABRRRQAUUUUAFFFFAH//2Q==)"
      ]
    },
    {
      "cell_type": "markdown",
      "metadata": {
        "id": "k3vtAuei0GZD"
      },
      "source": [
        "If we use 95% confidence interval, we need a p-value less than 0.025 to reject the null hypothesis. However, now our p-value is 0.025659, which is greater than 0.025, thus we can't reject the null hypothesis. It's obviously less than 0.05, so we can still reject the null hypothesis with 90% confidence level. Now let's test the hypothesis that population mean = 0 again with a large sample, which has 1200 observations: "
      ]
    },
    {
      "cell_type": "code",
      "metadata": {
        "id": "ugwLs5320I2F"
      },
      "source": [
        "mean_1200 = np.mean(spy_log_return.tail(1200))\n",
        "std_1200 = np.std(spy_log_return.tail(1200))\n",
        "z_score = np.sqrt(1200)*(mean_1200 - 0)/std_1200"
      ],
      "execution_count": 28,
      "outputs": []
    },
    {
      "cell_type": "code",
      "metadata": {
        "colab": {
          "base_uri": "https://localhost:8080/"
        },
        "id": "t1UOfJVq0NNe",
        "outputId": "1f5c4cba-44cf-44f9-c917-b159782b8a43"
      },
      "source": [
        "print('z-score = ',z_score)"
      ],
      "execution_count": 29,
      "outputs": [
        {
          "output_type": "stream",
          "text": [
            "z-score =  0.9196462091527059\n"
          ],
          "name": "stdout"
        }
      ]
    },
    {
      "cell_type": "code",
      "metadata": {
        "id": "TiGywyrv0QRu"
      },
      "source": [
        "p_value = (1 - st.norm.cdf(z_score))"
      ],
      "execution_count": 30,
      "outputs": []
    },
    {
      "cell_type": "code",
      "metadata": {
        "colab": {
          "base_uri": "https://localhost:8080/"
        },
        "id": "DgXmK2qH0Taf",
        "outputId": "944cd91f-2f27-4aa7-acf5-9f7de2c2e656"
      },
      "source": [
        "print('p_value = ',p_value)"
      ],
      "execution_count": 31,
      "outputs": [
        {
          "output_type": "stream",
          "text": [
            "p_value =  0.17887883536013072\n"
          ],
          "name": "stdout"
        }
      ]
    },
    {
      "cell_type": "markdown",
      "metadata": {
        "id": "Uu4OBUGE0XDw"
      },
      "source": [
        "Using the a larger sample, now we can reject the null hypothesis with a higher confidence interval! our p-value is 0.0105, and it's a two-tail test, so our confidence level of the interval is 1-(0.0105*2) = 0.979. We can say at most with 97.9% confidence interval, we can claim that the population mean is not zero. We already know that the population mean is not 0. As our sample size increasing, the accurate rate of our hypothesis goes up. "
      ]
    },
    {
      "cell_type": "markdown",
      "metadata": {
        "id": "MLZV9RZ50Y6W"
      },
      "source": [
        "###**Summary**"
      ]
    },
    {
      "cell_type": "markdown",
      "metadata": {
        "id": "Y44xIIw70btW"
      },
      "source": [
        "In this chapter we introduced confidence interval, especially that for the normal distribution, and hypothesis test. Now we know how to test our idea rigorously. Normal distribution and it's confidence interval can be applied to many quantitative finance theories, we will see it frequently in our following tutorials. "
      ]
    }
  ]
}